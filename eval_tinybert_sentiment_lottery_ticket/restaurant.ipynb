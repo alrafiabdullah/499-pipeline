{
 "cells": [
  {
   "cell_type": "code",
   "execution_count": 2,
   "metadata": {},
   "outputs": [],
   "source": [
    "import pandas as pd\n",
    "import torch\n",
    "import os\n",
    "\n",
    "from torch.utils.data import Dataset\n",
    "from transformers import (BertTokenizer, BertForSequenceClassification, Trainer,\n",
    "                          TrainingArguments, BertPreTrainedModel)\n",
    "# from simpletransformers.language_modeling import LanguageModelingModel\n",
    "from sklearn.metrics import accuracy_score, f1_score\n"
   ]
  },
  {
   "cell_type": "code",
   "execution_count": 3,
   "metadata": {},
   "outputs": [
    {
     "name": "stdout",
     "output_type": "stream",
     "text": [
      "True\n",
      "NVIDIA GeForce RTX 3060\n",
      "_CudaDeviceProperties(name='NVIDIA GeForce RTX 3060', major=8, minor=6, total_memory=12050MB, multi_processor_count=28)\n"
     ]
    }
   ],
   "source": [
    "print(torch.cuda.is_available())\n",
    "print(torch.cuda.get_device_name(0))\n",
    "print(torch.cuda.get_device_properties(0))"
   ]
  },
  {
   "cell_type": "code",
   "execution_count": 4,
   "metadata": {},
   "outputs": [],
   "source": [
    "MODEL_NAME = '/home/abdullah/Code/dl/499A/best_models/epoch_3_merged_dataset_tinybert'"
   ]
  },
  {
   "cell_type": "code",
   "execution_count": 5,
   "metadata": {},
   "outputs": [
    {
     "data": {
      "text/plain": [
       "['/home/abdullah/Code/dl/bnlp-resources/sentiment/ABSA_datasets/BASA_restaurant_train.txt',\n",
       " 'BASA_restaurant_train']"
      ]
     },
     "execution_count": 5,
     "metadata": {},
     "output_type": "execute_result"
    }
   ],
   "source": [
    "def tsv_to_text(tsv_file_loc):\n",
    "    file_name = tsv_file_loc.split(\"/\")[-1].split(\".\")[0]\n",
    "    txt_name = tsv_file_loc.replace(\".tsv\", \".txt\")\n",
    "    txt_name = txt_name.replace(\"split_merged\", \"texts\")\n",
    "\n",
    "    if os.path.exists(txt_name):\n",
    "        return [txt_name, file_name]\n",
    "\n",
    "    df = pd.read_csv(tsv_file_loc, sep=\"\\t\")\n",
    "\n",
    "    for txt in df[\"text\"]:\n",
    "        with open(txt_name, \"a\", encoding=\"utf8\") as f:\n",
    "            f.writelines(txt + \"\\n\")\n",
    "    return [txt_name, file_name]\n",
    "\n",
    "\n",
    "tsv_to_text(\"/home/abdullah/Code/dl/bnlp-resources/sentiment/ABSA_datasets/BASA_restaurant_train.tsv\")\n"
   ]
  },
  {
   "cell_type": "code",
   "execution_count": 6,
   "metadata": {},
   "outputs": [
    {
     "name": "stdout",
     "output_type": "stream",
     "text": [
      "                                                   text class_label\n",
      "0     তাই, ভাল খাবারের জন্য আমিসুপারিশ করতাম, কিন্তু...           1\n",
      "1     খাঁটি খাবার এবং তাদের কাছে সত্যিকারের সেবা আছে...           1\n",
      "2     আমি  পাচ বছরেরও বেশি সময় ধরে উপরের হার্টল্যান...           1\n",
      "3                                 এটা সুপারিশ আমি করেছি           1\n",
      "4     জানিনা পূর্ববর্তী সমালোচক কে ছিলেন, লং, ডাইন্ড...           1\n",
      "...                                                 ...         ...\n",
      "1360  কিন্তু একরকম একটু অপেক্ষা করতে পারতাম,আমরা উদ্...           1\n",
      "1361              গ্রেট bagels পুরানো-ভাবে তৈরির উপায় ।           1\n",
      "1362     অ্যাট্রাকিয়াস থাকার কারনে খাবারটি ভয়াবহ ছিল।           2\n",
      "1363  ওয়েটার আমাদের উপেক্ষা করেছিলেন তা আমরা আমাদের...           2\n",
      "1364                            এই জায়গাটি ভীশন খারাপ।           2\n",
      "\n",
      "[1365 rows x 2 columns]\n"
     ]
    }
   ],
   "source": [
    "def tsv_to_df(csv_file_loc):\n",
    "    df = pd.read_csv(csv_file_loc, sep='\\t')\n",
    "    # remove id column\n",
    "    df = df.drop(columns=['id'])\n",
    "\n",
    "    # replace neutral with 0, positive with 1, negative with 2 in class_label column\n",
    "    df.loc[df['class_label'] == 'neutral', 'class_label'] = 0\n",
    "    df.loc[df['class_label'] == 'positive', 'class_label'] = 1\n",
    "    df.loc[df['class_label'] == 'negative', 'class_label'] = 2\n",
    "\n",
    "    return df\n",
    "\n",
    "\n",
    "train_df = tsv_to_df(\n",
    "    \"/home/abdullah/Code/dl/bnlp-resources/sentiment/ABSA_datasets/BASA_restaurant_train.tsv\")\n",
    "\n",
    "texts = train_df['text'].tolist()\n",
    "print(train_df)\n"
   ]
  },
  {
   "cell_type": "code",
   "execution_count": 7,
   "metadata": {},
   "outputs": [],
   "source": [
    "def compute_metrics(pred):\n",
    "  labels = pred.label_ids\n",
    "  preds = pred.predictions.argmax(-1)\n",
    "  # calculate accuracy using sklearn's function\n",
    "  acc = accuracy_score(labels, preds)\n",
    "  return {\n",
    "      'accuracy': acc,\n",
    "  }\n"
   ]
  },
  {
   "cell_type": "code",
   "execution_count": 8,
   "metadata": {},
   "outputs": [],
   "source": [
    "def f1_calculator(pred):\n",
    "  labels = pred.label_ids\n",
    "  preds = pred.predictions.argmax(-1)\n",
    "  # calculate accuracy using sklearn's function\n",
    "  f1 = f1_score(labels, preds, average='weighted')\n",
    "  return {\n",
    "      'f1': f1,\n",
    "  }\n"
   ]
  },
  {
   "cell_type": "code",
   "execution_count": 9,
   "metadata": {},
   "outputs": [],
   "source": [
    "train_list = tsv_to_text(\"/home/abdullah/Code/dl/bnlp-resources/sentiment/ABSA_datasets/BASA_restaurant_train.tsv\")\n",
    "test_list = tsv_to_text(\"/home/abdullah/Code/dl/bnlp-resources/sentiment/ABSA_datasets/BASA_restaurant_test.tsv\")\n",
    "eval_list = tsv_to_text(\"/home/abdullah/Code/dl/bnlp-resources/sentiment/ABSA_datasets/BASA_restaurant_dev.tsv\")\n"
   ]
  },
  {
   "cell_type": "code",
   "execution_count": 10,
   "metadata": {},
   "outputs": [
    {
     "name": "stderr",
     "output_type": "stream",
     "text": [
      "Some weights of the model checkpoint at /home/abdullah/Code/dl/499A/best_models/epoch_3_merged_dataset_tinybert were not used when initializing BertForSequenceClassification: ['cls.predictions.decoder.bias', 'cls.predictions.decoder.weight', 'cls.predictions.bias', 'cls.predictions.transform.LayerNorm.bias', 'cls.predictions.transform.dense.bias', 'cls.predictions.transform.dense.weight', 'cls.predictions.transform.LayerNorm.weight']\n",
      "- This IS expected if you are initializing BertForSequenceClassification from the checkpoint of a model trained on another task or with another architecture (e.g. initializing a BertForSequenceClassification model from a BertForPreTraining model).\n",
      "- This IS NOT expected if you are initializing BertForSequenceClassification from the checkpoint of a model that you expect to be exactly identical (initializing a BertForSequenceClassification model from a BertForSequenceClassification model).\n",
      "Some weights of BertForSequenceClassification were not initialized from the model checkpoint at /home/abdullah/Code/dl/499A/best_models/epoch_3_merged_dataset_tinybert and are newly initialized: ['bert.pooler.dense.bias', 'classifier.bias', 'classifier.weight', 'bert.pooler.dense.weight']\n",
      "You should probably TRAIN this model on a down-stream task to be able to use it for predictions and inference.\n"
     ]
    }
   ],
   "source": [
    "os.environ[\"WANDB_DISABLED\"] = \"true\"\n",
    "\n",
    "train_df = tsv_to_df(\n",
    "    \"/home/abdullah/Code/dl/bnlp-resources/sentiment/ABSA_datasets/BASA_restaurant_train.tsv\")\n",
    "test_df = tsv_to_df(\n",
    "    \"/home/abdullah/Code/dl/bnlp-resources/sentiment/ABSA_datasets/BASA_restaurant_test.tsv\")\n",
    "eval_df = tsv_to_df(\n",
    "    \"/home/abdullah/Code/dl/bnlp-resources/sentiment/ABSA_datasets/BASA_restaurant_dev.tsv\")\n",
    "\n",
    "\n",
    "class TINYDataset(Dataset):\n",
    "    def __init__(self, encodings, labels):\n",
    "        self.encodings = encodings\n",
    "        self.labels = labels\n",
    "\n",
    "    def __getitem__(self, idx):\n",
    "        item = {key: torch.tensor(value[idx])\n",
    "                for key, value in self.encodings.items()}\n",
    "        item['labels'] = torch.tensor(self.labels[idx])\n",
    "        return item\n",
    "\n",
    "    def __len__(self):\n",
    "        return len(self.labels)\n",
    "\n",
    "\n",
    "tokenizer = BertTokenizer.from_pretrained(MODEL_NAME)\n",
    "\n",
    "train_encodings = tokenizer(train_df['text'].tolist(\n",
    "), padding=True, truncation=True, max_length=512)\n",
    "test_encodings = tokenizer(test_df['text'].tolist(\n",
    "), padding=True, truncation=True, max_length=512)\n",
    "eval_encodings = tokenizer(eval_df['text'].tolist(\n",
    "), padding=True, truncation=True, max_length=512)\n",
    "\n",
    "train_dataset = TINYDataset(train_encodings, train_df['class_label'].tolist())\n",
    "test_dataset = TINYDataset(test_encodings, test_df['class_label'].tolist())\n",
    "eval_dataset = TINYDataset(eval_encodings, eval_df['class_label'].tolist())\n",
    "\n",
    "model = BertForSequenceClassification.from_pretrained(MODEL_NAME, num_labels=3).to('cuda')\n",
    "model.manual_seed = 14\n"
   ]
  },
  {
   "cell_type": "markdown",
   "metadata": {},
   "source": [
    "## 1 Epoch Train"
   ]
  },
  {
   "cell_type": "code",
   "execution_count": 11,
   "metadata": {},
   "outputs": [],
   "source": [
    "# training_args = TrainingArguments(\n",
    "#     output_dir=f\"temp\",\n",
    "#     num_train_epochs=1,\n",
    "#     per_device_train_batch_size=48,\n",
    "#     per_device_eval_batch_size=96,\n",
    "#     warmup_steps=500,\n",
    "#     learning_rate=5e-5,\n",
    "#     weight_decay=0.01,\n",
    "#     overwrite_output_dir=True,\n",
    "#     logging_dir=f\"temp/logs\",\n",
    "#     logging_steps=29,\n",
    "#     save_steps=29,\n",
    "#     load_best_model_at_end=True,\n",
    "#     evaluation_strategy=\"steps\",\n",
    "#     seed=14,\n",
    "# )\n",
    "\n",
    "# trainer = Trainer(\n",
    "#     model=model,\n",
    "#     args=training_args,\n",
    "#     train_dataset=train_dataset,\n",
    "#     eval_dataset=eval_dataset\n",
    "\n",
    "# )\n",
    "\n",
    "# trainer.train()\n"
   ]
  },
  {
   "cell_type": "markdown",
   "metadata": {},
   "source": [
    "## 100 Epoch with 1 epoch model"
   ]
  },
  {
   "cell_type": "code",
   "execution_count": 36,
   "metadata": {},
   "outputs": [
    {
     "name": "stderr",
     "output_type": "stream",
     "text": [
      "loading configuration file /home/abdullah/Code/dl/499A/best_models/1/restaurant_sentiment/config.json\n",
      "Model config BertConfig {\n",
      "  \"_name_or_path\": \"/home/abdullah/Code/dl/499A/best_models/epoch_3_merged_dataset_tinybert\",\n",
      "  \"architectures\": [\n",
      "    \"BertForSequenceClassification\"\n",
      "  ],\n",
      "  \"attention_probs_dropout_prob\": 0.1,\n",
      "  \"classifier_dropout\": null,\n",
      "  \"hidden_act\": \"gelu\",\n",
      "  \"hidden_dropout_prob\": 0.1,\n",
      "  \"hidden_size\": 128,\n",
      "  \"id2label\": {\n",
      "    \"0\": \"LABEL_0\",\n",
      "    \"1\": \"LABEL_1\",\n",
      "    \"2\": \"LABEL_2\"\n",
      "  },\n",
      "  \"initializer_range\": 14,\n",
      "  \"intermediate_size\": 512,\n",
      "  \"label2id\": {\n",
      "    \"LABEL_0\": 0,\n",
      "    \"LABEL_1\": 1,\n",
      "    \"LABEL_2\": 2\n",
      "  },\n",
      "  \"layer_norm_eps\": 1e-12,\n",
      "  \"max_position_embeddings\": 512,\n",
      "  \"model_type\": \"bert\",\n",
      "  \"num_attention_heads\": 2,\n",
      "  \"num_hidden_layers\": 2,\n",
      "  \"pad_token_id\": 0,\n",
      "  \"position_embedding_type\": \"absolute\",\n",
      "  \"problem_type\": \"single_label_classification\",\n",
      "  \"torch_dtype\": \"float32\",\n",
      "  \"transformers_version\": \"4.12.5\",\n",
      "  \"type_vocab_size\": 2,\n",
      "  \"use_cache\": true,\n",
      "  \"vocab_size\": 30522\n",
      "}\n",
      "\n",
      "loading weights file /home/abdullah/Code/dl/499A/best_models/1/restaurant_sentiment/pytorch_model.bin\n",
      "All model checkpoint weights were used when initializing BertForSequenceClassification.\n",
      "\n",
      "All the weights of BertForSequenceClassification were initialized from the model checkpoint at /home/abdullah/Code/dl/499A/best_models/1/restaurant_sentiment.\n",
      "If your task is similar to the task the model of the checkpoint was trained on, you can already use BertForSequenceClassification for predictions without further training.\n",
      "using `logging_steps` to initialize `eval_steps` to 100\n",
      "PyTorch: setting up devices\n",
      "The default value for the training argument `--report_to` will change in v5 (from all installed integrations to none). In v5, you will need to use `--report_to all` to get the same behavior as now. You should start updating your code and make this info disappear :-).\n",
      "Using the `WAND_DISABLED` environment variable is deprecated and will be removed in v5. Use the --report_to flag to control the integrations used for logging result (for instance --report_to none).\n",
      "***** Running training *****\n",
      "  Num examples = 1365\n",
      "  Num Epochs = 100\n",
      "  Instantaneous batch size per device = 192\n",
      "  Total train batch size (w. parallel, distributed & accumulation) = 192\n",
      "  Gradient Accumulation steps = 1\n",
      "  Total optimization steps = 800\n",
      " 12%|█▎        | 100/800 [00:07<00:46, 14.99it/s]***** Running Evaluation *****\n",
      "  Num examples = 224\n",
      "  Batch size = 384\n"
     ]
    },
    {
     "name": "stdout",
     "output_type": "stream",
     "text": [
      "{'loss': 127.9023, 'learning_rate': 1e-05, 'epoch': 12.5}\n"
     ]
    },
    {
     "name": "stderr",
     "output_type": "stream",
     "text": [
      "\n",
      " 12%|█▎        | 100/800 [00:07<00:46, 14.99it/s]Saving model checkpoint to temp/checkpoint-100\n",
      "Configuration saved in temp/checkpoint-100/config.json\n"
     ]
    },
    {
     "name": "stdout",
     "output_type": "stream",
     "text": [
      "{'eval_loss': 104.49866485595703, 'eval_f1': 0.41876554726368154, 'eval_runtime': 0.0245, 'eval_samples_per_second': 9138.095, 'eval_steps_per_second': 40.795, 'epoch': 12.5}\n"
     ]
    },
    {
     "name": "stderr",
     "output_type": "stream",
     "text": [
      "Model weights saved in temp/checkpoint-100/pytorch_model.bin\n",
      " 25%|██▌       | 200/800 [00:14<00:41, 14.39it/s]***** Running Evaluation *****\n",
      "  Num examples = 224\n",
      "  Batch size = 384\n"
     ]
    },
    {
     "name": "stdout",
     "output_type": "stream",
     "text": [
      "{'loss': 106.0766, 'learning_rate': 2e-05, 'epoch': 25.0}\n"
     ]
    },
    {
     "name": "stderr",
     "output_type": "stream",
     "text": [
      "\n",
      " 25%|██▌       | 200/800 [00:14<00:41, 14.39it/s]Saving model checkpoint to temp/checkpoint-200\n",
      "Configuration saved in temp/checkpoint-200/config.json\n"
     ]
    },
    {
     "name": "stdout",
     "output_type": "stream",
     "text": [
      "{'eval_loss': 81.363525390625, 'eval_f1': 0.44085130156457086, 'eval_runtime': 0.0304, 'eval_samples_per_second': 7371.071, 'eval_steps_per_second': 32.907, 'epoch': 25.0}\n"
     ]
    },
    {
     "name": "stderr",
     "output_type": "stream",
     "text": [
      "Model weights saved in temp/checkpoint-200/pytorch_model.bin\n",
      " 38%|███▊      | 300/800 [00:22<00:35, 13.90it/s]***** Running Evaluation *****\n",
      "  Num examples = 224\n",
      "  Batch size = 384\n"
     ]
    },
    {
     "name": "stdout",
     "output_type": "stream",
     "text": [
      "{'loss': 92.9538, 'learning_rate': 3e-05, 'epoch': 37.5}\n"
     ]
    },
    {
     "name": "stderr",
     "output_type": "stream",
     "text": [
      "\n",
      " 38%|███▊      | 300/800 [00:22<00:35, 13.90it/s]Saving model checkpoint to temp/checkpoint-300\n",
      "Configuration saved in temp/checkpoint-300/config.json\n"
     ]
    },
    {
     "name": "stdout",
     "output_type": "stream",
     "text": [
      "{'eval_loss': 49.482242584228516, 'eval_f1': 0.47131867786127796, 'eval_runtime': 0.0286, 'eval_samples_per_second': 7834.329, 'eval_steps_per_second': 34.975, 'epoch': 37.5}\n"
     ]
    },
    {
     "name": "stderr",
     "output_type": "stream",
     "text": [
      "Model weights saved in temp/checkpoint-300/pytorch_model.bin\n",
      " 50%|█████     | 400/800 [00:30<00:31, 12.70it/s]***** Running Evaluation *****\n",
      "  Num examples = 224\n",
      "  Batch size = 384\n"
     ]
    },
    {
     "name": "stdout",
     "output_type": "stream",
     "text": [
      "{'loss': 77.2565, 'learning_rate': 4e-05, 'epoch': 50.0}\n"
     ]
    },
    {
     "name": "stderr",
     "output_type": "stream",
     "text": [
      "\n",
      " 50%|█████     | 400/800 [00:30<00:31, 12.70it/s]Saving model checkpoint to temp/checkpoint-400\n",
      "Configuration saved in temp/checkpoint-400/config.json\n"
     ]
    },
    {
     "name": "stdout",
     "output_type": "stream",
     "text": [
      "{'eval_loss': 48.27881622314453, 'eval_f1': 0.44067961800104655, 'eval_runtime': 0.0307, 'eval_samples_per_second': 7306.979, 'eval_steps_per_second': 32.62, 'epoch': 50.0}\n"
     ]
    },
    {
     "name": "stderr",
     "output_type": "stream",
     "text": [
      "Model weights saved in temp/checkpoint-400/pytorch_model.bin\n",
      " 62%|██████▎   | 500/800 [00:40<00:22, 13.20it/s]***** Running Evaluation *****\n",
      "  Num examples = 224\n",
      "  Batch size = 384\n"
     ]
    },
    {
     "name": "stdout",
     "output_type": "stream",
     "text": [
      "{'loss': 68.6108, 'learning_rate': 5e-05, 'epoch': 62.5}\n"
     ]
    },
    {
     "name": "stderr",
     "output_type": "stream",
     "text": [
      "\n",
      " 62%|██████▎   | 500/800 [00:40<00:22, 13.20it/s]Saving model checkpoint to temp/checkpoint-500\n",
      "Configuration saved in temp/checkpoint-500/config.json\n"
     ]
    },
    {
     "name": "stdout",
     "output_type": "stream",
     "text": [
      "{'eval_loss': 30.116487503051758, 'eval_f1': 0.4540488624527826, 'eval_runtime': 0.0363, 'eval_samples_per_second': 6174.337, 'eval_steps_per_second': 27.564, 'epoch': 62.5}\n"
     ]
    },
    {
     "name": "stderr",
     "output_type": "stream",
     "text": [
      "Model weights saved in temp/checkpoint-500/pytorch_model.bin\n",
      " 75%|███████▌  | 600/800 [00:49<00:13, 14.30it/s]***** Running Evaluation *****\n",
      "  Num examples = 224\n",
      "  Batch size = 384\n"
     ]
    },
    {
     "name": "stdout",
     "output_type": "stream",
     "text": [
      "{'loss': 61.8798, 'learning_rate': 3.3333333333333335e-05, 'epoch': 75.0}\n"
     ]
    },
    {
     "name": "stderr",
     "output_type": "stream",
     "text": [
      "\n",
      " 75%|███████▌  | 600/800 [00:49<00:13, 14.30it/s]Saving model checkpoint to temp/checkpoint-600\n",
      "Configuration saved in temp/checkpoint-600/config.json\n"
     ]
    },
    {
     "name": "stdout",
     "output_type": "stream",
     "text": [
      "{'eval_loss': 31.25191307067871, 'eval_f1': 0.48534705811129897, 'eval_runtime': 0.0262, 'eval_samples_per_second': 8560.038, 'eval_steps_per_second': 38.214, 'epoch': 75.0}\n"
     ]
    },
    {
     "name": "stderr",
     "output_type": "stream",
     "text": [
      "Model weights saved in temp/checkpoint-600/pytorch_model.bin\n",
      " 88%|████████▊ | 700/800 [00:57<00:06, 15.43it/s]***** Running Evaluation *****\n",
      "  Num examples = 224\n",
      "  Batch size = 384\n"
     ]
    },
    {
     "name": "stdout",
     "output_type": "stream",
     "text": [
      "{'loss': 59.3871, 'learning_rate': 1.6666666666666667e-05, 'epoch': 87.5}\n"
     ]
    },
    {
     "name": "stderr",
     "output_type": "stream",
     "text": [
      "\n",
      " 88%|████████▊ | 700/800 [00:57<00:06, 15.43it/s]Saving model checkpoint to temp/checkpoint-700\n",
      "Configuration saved in temp/checkpoint-700/config.json\n",
      "Model weights saved in temp/checkpoint-700/pytorch_model.bin\n"
     ]
    },
    {
     "name": "stdout",
     "output_type": "stream",
     "text": [
      "{'eval_loss': 21.307676315307617, 'eval_f1': 0.5036866544667861, 'eval_runtime': 0.0263, 'eval_samples_per_second': 8513.421, 'eval_steps_per_second': 38.006, 'epoch': 87.5}\n"
     ]
    },
    {
     "name": "stderr",
     "output_type": "stream",
     "text": [
      "100%|██████████| 800/800 [01:05<00:00, 13.39it/s]***** Running Evaluation *****\n",
      "  Num examples = 224\n",
      "  Batch size = 384\n"
     ]
    },
    {
     "name": "stdout",
     "output_type": "stream",
     "text": [
      "{'loss': 56.9525, 'learning_rate': 0.0, 'epoch': 100.0}\n"
     ]
    },
    {
     "name": "stderr",
     "output_type": "stream",
     "text": [
      "\n",
      "100%|██████████| 800/800 [01:05<00:00, 13.39it/s]Saving model checkpoint to temp/checkpoint-800\n",
      "Configuration saved in temp/checkpoint-800/config.json\n"
     ]
    },
    {
     "name": "stdout",
     "output_type": "stream",
     "text": [
      "{'eval_loss': 20.704652786254883, 'eval_f1': 0.5605856980135274, 'eval_runtime': 0.026, 'eval_samples_per_second': 8613.008, 'eval_steps_per_second': 38.451, 'epoch': 100.0}\n"
     ]
    },
    {
     "name": "stderr",
     "output_type": "stream",
     "text": [
      "Model weights saved in temp/checkpoint-800/pytorch_model.bin\n",
      "\n",
      "\n",
      "Training completed. Do not forget to share your model on huggingface.co/models =)\n",
      "\n",
      "\n",
      "Loading best model from temp/checkpoint-800 (score: 20.704652786254883).\n",
      "100%|██████████| 800/800 [01:06<00:00, 12.09it/s]\n",
      "***** Running training *****\n",
      "  Num examples = 1365\n",
      "  Num Epochs = 100\n",
      "  Instantaneous batch size per device = 192\n",
      "  Total train batch size (w. parallel, distributed & accumulation) = 192\n",
      "  Gradient Accumulation steps = 1\n",
      "  Total optimization steps = 800\n"
     ]
    },
    {
     "name": "stdout",
     "output_type": "stream",
     "text": [
      "{'train_runtime': 66.1478, 'train_samples_per_second': 2063.559, 'train_steps_per_second': 12.094, 'train_loss': 81.37743713378906, 'epoch': 100.0}\n"
     ]
    },
    {
     "name": "stderr",
     "output_type": "stream",
     "text": [
      " 12%|█▎        | 100/800 [00:07<00:49, 14.02it/s]***** Running Evaluation *****\n",
      "  Num examples = 224\n",
      "  Batch size = 384\n"
     ]
    },
    {
     "name": "stdout",
     "output_type": "stream",
     "text": [
      "{'loss': 55.5581, 'learning_rate': 1e-05, 'epoch': 12.5}\n"
     ]
    },
    {
     "name": "stderr",
     "output_type": "stream",
     "text": [
      "\n",
      " 12%|█▎        | 100/800 [00:07<00:49, 14.02it/s]Saving model checkpoint to temp/checkpoint-100\n",
      "Configuration saved in temp/checkpoint-100/config.json\n"
     ]
    },
    {
     "name": "stdout",
     "output_type": "stream",
     "text": [
      "{'eval_loss': 20.108333587646484, 'eval_accuracy': 0.6071428571428571, 'eval_runtime': 0.0247, 'eval_samples_per_second': 9059.671, 'eval_steps_per_second': 40.445, 'epoch': 12.5}\n"
     ]
    },
    {
     "name": "stderr",
     "output_type": "stream",
     "text": [
      "Model weights saved in temp/checkpoint-100/pytorch_model.bin\n",
      " 25%|██▌       | 200/800 [00:15<00:47, 12.51it/s]***** Running Evaluation *****\n",
      "  Num examples = 224\n",
      "  Batch size = 384\n"
     ]
    },
    {
     "name": "stdout",
     "output_type": "stream",
     "text": [
      "{'loss': 54.4385, 'learning_rate': 2e-05, 'epoch': 25.0}\n"
     ]
    },
    {
     "name": "stderr",
     "output_type": "stream",
     "text": [
      "\n",
      " 25%|██▌       | 200/800 [00:15<00:47, 12.51it/s]Saving model checkpoint to temp/checkpoint-200\n",
      "Configuration saved in temp/checkpoint-200/config.json\n"
     ]
    },
    {
     "name": "stdout",
     "output_type": "stream",
     "text": [
      "{'eval_loss': 21.28782844543457, 'eval_accuracy': 0.5803571428571429, 'eval_runtime': 0.0264, 'eval_samples_per_second': 8497.021, 'eval_steps_per_second': 37.933, 'epoch': 25.0}\n"
     ]
    },
    {
     "name": "stderr",
     "output_type": "stream",
     "text": [
      "Model weights saved in temp/checkpoint-200/pytorch_model.bin\n",
      " 38%|███▊      | 300/800 [00:23<00:35, 13.92it/s]***** Running Evaluation *****\n",
      "  Num examples = 224\n",
      "  Batch size = 384\n"
     ]
    },
    {
     "name": "stdout",
     "output_type": "stream",
     "text": [
      "{'loss': 53.4062, 'learning_rate': 3e-05, 'epoch': 37.5}\n"
     ]
    },
    {
     "name": "stderr",
     "output_type": "stream",
     "text": [
      "\n",
      " 38%|███▊      | 300/800 [00:23<00:35, 13.92it/s]Saving model checkpoint to temp/checkpoint-300\n",
      "Configuration saved in temp/checkpoint-300/config.json\n",
      "Model weights saved in temp/checkpoint-300/pytorch_model.bin\n"
     ]
    },
    {
     "name": "stdout",
     "output_type": "stream",
     "text": [
      "{'eval_loss': 17.73983383178711, 'eval_accuracy': 0.6071428571428571, 'eval_runtime': 0.0245, 'eval_samples_per_second': 9146.992, 'eval_steps_per_second': 40.835, 'epoch': 37.5}\n"
     ]
    },
    {
     "name": "stderr",
     "output_type": "stream",
     "text": [
      " 50%|█████     | 400/800 [00:30<00:29, 13.69it/s]***** Running Evaluation *****\n",
      "  Num examples = 224\n",
      "  Batch size = 384\n"
     ]
    },
    {
     "name": "stdout",
     "output_type": "stream",
     "text": [
      "{'loss': 51.5842, 'learning_rate': 4e-05, 'epoch': 50.0}\n"
     ]
    },
    {
     "name": "stderr",
     "output_type": "stream",
     "text": [
      "\n",
      " 50%|█████     | 400/800 [00:30<00:29, 13.69it/s]Saving model checkpoint to temp/checkpoint-400\n",
      "Configuration saved in temp/checkpoint-400/config.json\n",
      "Model weights saved in temp/checkpoint-400/pytorch_model.bin\n"
     ]
    },
    {
     "name": "stdout",
     "output_type": "stream",
     "text": [
      "{'eval_loss': 18.752735137939453, 'eval_accuracy': 0.5848214285714286, 'eval_runtime': 0.0247, 'eval_samples_per_second': 9073.933, 'eval_steps_per_second': 40.509, 'epoch': 50.0}\n"
     ]
    },
    {
     "name": "stderr",
     "output_type": "stream",
     "text": [
      " 62%|██████▎   | 500/800 [00:38<00:21, 14.20it/s]***** Running Evaluation *****\n",
      "  Num examples = 224\n",
      "  Batch size = 384\n"
     ]
    },
    {
     "name": "stdout",
     "output_type": "stream",
     "text": [
      "{'loss': 49.7508, 'learning_rate': 5e-05, 'epoch': 62.5}\n"
     ]
    },
    {
     "name": "stderr",
     "output_type": "stream",
     "text": [
      "\n",
      " 62%|██████▎   | 500/800 [00:38<00:21, 14.20it/s]Saving model checkpoint to temp/checkpoint-500\n",
      "Configuration saved in temp/checkpoint-500/config.json\n"
     ]
    },
    {
     "name": "stdout",
     "output_type": "stream",
     "text": [
      "{'eval_loss': 13.39850902557373, 'eval_accuracy': 0.6294642857142857, 'eval_runtime': 0.0242, 'eval_samples_per_second': 9264.336, 'eval_steps_per_second': 41.359, 'epoch': 62.5}\n"
     ]
    },
    {
     "name": "stderr",
     "output_type": "stream",
     "text": [
      "Model weights saved in temp/checkpoint-500/pytorch_model.bin\n",
      " 75%|███████▌  | 600/800 [00:46<00:15, 13.19it/s]***** Running Evaluation *****\n",
      "  Num examples = 224\n",
      "  Batch size = 384\n"
     ]
    },
    {
     "name": "stdout",
     "output_type": "stream",
     "text": [
      "{'loss': 48.8079, 'learning_rate': 3.3333333333333335e-05, 'epoch': 75.0}\n"
     ]
    },
    {
     "name": "stderr",
     "output_type": "stream",
     "text": [
      "\n",
      " 75%|███████▌  | 600/800 [00:46<00:15, 13.19it/s]Saving model checkpoint to temp/checkpoint-600\n",
      "Configuration saved in temp/checkpoint-600/config.json\n"
     ]
    },
    {
     "name": "stdout",
     "output_type": "stream",
     "text": [
      "{'eval_loss': 12.328020095825195, 'eval_accuracy': 0.6339285714285714, 'eval_runtime': 0.0245, 'eval_samples_per_second': 9150.11, 'eval_steps_per_second': 40.849, 'epoch': 75.0}\n"
     ]
    },
    {
     "name": "stderr",
     "output_type": "stream",
     "text": [
      "Model weights saved in temp/checkpoint-600/pytorch_model.bin\n",
      " 88%|████████▊ | 700/800 [00:54<00:07, 14.15it/s]***** Running Evaluation *****\n",
      "  Num examples = 224\n",
      "  Batch size = 384\n"
     ]
    },
    {
     "name": "stdout",
     "output_type": "stream",
     "text": [
      "{'loss': 48.0512, 'learning_rate': 1.6666666666666667e-05, 'epoch': 87.5}\n"
     ]
    },
    {
     "name": "stderr",
     "output_type": "stream",
     "text": [
      "\n",
      " 88%|████████▊ | 700/800 [00:54<00:07, 14.15it/s]Saving model checkpoint to temp/checkpoint-700\n",
      "Configuration saved in temp/checkpoint-700/config.json\n"
     ]
    },
    {
     "name": "stdout",
     "output_type": "stream",
     "text": [
      "{'eval_loss': 12.009588241577148, 'eval_accuracy': 0.6339285714285714, 'eval_runtime': 0.0263, 'eval_samples_per_second': 8517.898, 'eval_steps_per_second': 38.026, 'epoch': 87.5}\n"
     ]
    },
    {
     "name": "stderr",
     "output_type": "stream",
     "text": [
      "Model weights saved in temp/checkpoint-700/pytorch_model.bin\n",
      "100%|██████████| 800/800 [01:02<00:00, 13.57it/s]***** Running Evaluation *****\n",
      "  Num examples = 224\n",
      "  Batch size = 384\n"
     ]
    },
    {
     "name": "stdout",
     "output_type": "stream",
     "text": [
      "{'loss': 47.5084, 'learning_rate': 0.0, 'epoch': 100.0}\n"
     ]
    },
    {
     "name": "stderr",
     "output_type": "stream",
     "text": [
      "\n",
      "100%|██████████| 800/800 [01:02<00:00, 13.57it/s]Saving model checkpoint to temp/checkpoint-800\n",
      "Configuration saved in temp/checkpoint-800/config.json\n",
      "Model weights saved in temp/checkpoint-800/pytorch_model.bin\n"
     ]
    },
    {
     "name": "stdout",
     "output_type": "stream",
     "text": [
      "{'eval_loss': 12.150206565856934, 'eval_accuracy': 0.6339285714285714, 'eval_runtime': 0.0249, 'eval_samples_per_second': 9008.938, 'eval_steps_per_second': 40.218, 'epoch': 100.0}\n"
     ]
    },
    {
     "name": "stderr",
     "output_type": "stream",
     "text": [
      "\n",
      "\n",
      "Training completed. Do not forget to share your model on huggingface.co/models =)\n",
      "\n",
      "\n",
      "Loading best model from temp/checkpoint-700 (score: 12.009588241577148).\n",
      "100%|██████████| 800/800 [01:02<00:00, 12.76it/s]"
     ]
    },
    {
     "name": "stdout",
     "output_type": "stream",
     "text": [
      "{'train_runtime': 62.7148, 'train_samples_per_second': 2176.519, 'train_steps_per_second': 12.756, 'train_loss': 51.13815979003906, 'epoch': 100.0}\n"
     ]
    },
    {
     "name": "stderr",
     "output_type": "stream",
     "text": [
      "\n"
     ]
    },
    {
     "data": {
      "text/plain": [
       "TrainOutput(global_step=800, training_loss=51.13815979003906, metrics={'train_runtime': 62.7148, 'train_samples_per_second': 2176.519, 'train_steps_per_second': 12.756, 'train_loss': 51.13815979003906, 'epoch': 100.0})"
      ]
     },
     "execution_count": 36,
     "metadata": {},
     "output_type": "execute_result"
    }
   ],
   "source": [
    "MODEL_NAME = '/home/abdullah/Code/dl/499A/best_models/1/restaurant_sentiment'\n",
    "model = BertForSequenceClassification.from_pretrained(\n",
    "    MODEL_NAME, num_labels=3).to('cuda')\n",
    "model.manual_seed = 14\n",
    "\n",
    "for name, param in model.named_parameters():\n",
    "    # print(name)\n",
    "    # if \"weight\" in name:\n",
    "    #     tensor = param.data        \n",
    "    #     grad_tensor = param.grad       \n",
    "    #     grad_tensor = torch.where(tensor.abs() < 5e-5, torch.zeros_like(grad_tensor), grad_tensor)\n",
    "    #     param.grad.data = grad_tensor\n",
    "\n",
    "    if 'bert.encoder.layer.0' in name:\n",
    "        # print(name, param.requires_grad)\n",
    "        param.requires_grad = False\n",
    "# print(\"\\n\\n\\n\")\n",
    "# for name, param in model.named_parameters():\n",
    "#     print(name, param.requires_grad)\n",
    "\n",
    "training_args = TrainingArguments(\n",
    "    output_dir=f\"temp\",\n",
    "    num_train_epochs=100,\n",
    "    per_device_train_batch_size=192,\n",
    "    per_device_eval_batch_size=384,\n",
    "    warmup_steps=500,\n",
    "    learning_rate=5e-5,\n",
    "    weight_decay=0.01,\n",
    "    overwrite_output_dir=True,\n",
    "    logging_dir=f\"temp/logs\",\n",
    "    logging_steps=100,\n",
    "    save_steps=100,\n",
    "    load_best_model_at_end=True,\n",
    "    evaluation_strategy=\"steps\",\n",
    "    seed=14,\n",
    "    label_smoothing_factor=0.5,\n",
    ")\n",
    "\n",
    "trainer = Trainer(\n",
    "    model=model,\n",
    "    args=training_args,\n",
    "    train_dataset=train_dataset,\n",
    "    eval_dataset=eval_dataset,\n",
    "    compute_metrics=f1_calculator,\n",
    "\n",
    ")\n",
    "\n",
    "trainer.train()\n",
    "\n",
    "# print(cool.metrics)\n",
    "\n",
    "trainer = Trainer(\n",
    "    model=model,\n",
    "    args=training_args,\n",
    "    train_dataset=train_dataset,\n",
    "    eval_dataset=eval_dataset,\n",
    "    compute_metrics=compute_metrics,\n",
    "\n",
    ")\n",
    "\n",
    "trainer.train()\n",
    "\n"
   ]
  }
 ],
 "metadata": {
  "interpreter": {
   "hash": "30945d60abeb4d30e097bab3ad7b6ead7c1fba264acb4ede644ab6174c0ba9cb"
  },
  "kernelspec": {
   "display_name": "Python 3.8.10 ('venv_499A': venv)",
   "language": "python",
   "name": "python3"
  },
  "language_info": {
   "codemirror_mode": {
    "name": "ipython",
    "version": 3
   },
   "file_extension": ".py",
   "mimetype": "text/x-python",
   "name": "python",
   "nbconvert_exporter": "python",
   "pygments_lexer": "ipython3",
   "version": "3.8.10"
  },
  "orig_nbformat": 4
 },
 "nbformat": 4,
 "nbformat_minor": 2
}
