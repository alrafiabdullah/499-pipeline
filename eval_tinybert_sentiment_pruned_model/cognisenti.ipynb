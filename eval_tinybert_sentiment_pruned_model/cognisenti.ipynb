{
 "cells": [
  {
   "cell_type": "code",
   "execution_count": 1,
   "metadata": {},
   "outputs": [],
   "source": [
    "import pandas as pd\n",
    "import torch\n",
    "import os\n",
    "\n",
    "from torch.utils.data import Dataset\n",
    "from transformers import (BertTokenizer, BertForSequenceClassification, Trainer,\n",
    "                          TrainingArguments, BertPreTrainedModel)\n",
    "# from simpletransformers.language_modeling import LanguageModelingModel\n",
    "from sklearn.metrics import accuracy_score, f1_score\n"
   ]
  },
  {
   "cell_type": "code",
   "execution_count": 2,
   "metadata": {},
   "outputs": [
    {
     "name": "stdout",
     "output_type": "stream",
     "text": [
      "True\n",
      "NVIDIA GeForce RTX 3060\n",
      "_CudaDeviceProperties(name='NVIDIA GeForce RTX 3060', major=8, minor=6, total_memory=12050MB, multi_processor_count=28)\n"
     ]
    }
   ],
   "source": [
    "print(torch.cuda.is_available())\n",
    "print(torch.cuda.get_device_name(0))\n",
    "print(torch.cuda.get_device_properties(0))"
   ]
  },
  {
   "cell_type": "code",
   "execution_count": 3,
   "metadata": {},
   "outputs": [],
   "source": [
    "MODEL_NAME = '/home/abdullah/Code/dl/lt_bert/best_models/pruned_best_tiny_bert'\n",
    "TRAIN_FILE_LOC = '/home/abdullah/Code/dl/bnlp-resources/sentiment/CogniSenti/twitter_fbPost_merged_train.tsv'\n",
    "TEST_FILE_LOC = '/home/abdullah/Code/dl/bnlp-resources/sentiment/CogniSenti/twitter_fbPost_merged_test.tsv'\n",
    "EVAL_FILE_LOC = '/home/abdullah/Code/dl/bnlp-resources/sentiment/CogniSenti/twitter_fbPost_merged_dev.tsv'\n"
   ]
  },
  {
   "cell_type": "code",
   "execution_count": 4,
   "metadata": {},
   "outputs": [
    {
     "data": {
      "text/plain": [
       "['/home/abdullah/Code/dl/bnlp-resources/sentiment/CogniSenti/twitter_fbPost_merged_train.txt',\n",
       " 'twitter_fbPost_merged_train']"
      ]
     },
     "execution_count": 4,
     "metadata": {},
     "output_type": "execute_result"
    }
   ],
   "source": [
    "def tsv_to_text(tsv_file_loc):\n",
    "    file_name = tsv_file_loc.split(\"/\")[-1].split(\".\")[0]\n",
    "    txt_name = tsv_file_loc.replace(\".tsv\", \".txt\")\n",
    "    txt_name = txt_name.replace(\"split_merged\", \"texts\")\n",
    "\n",
    "    if os.path.exists(txt_name):\n",
    "        return [txt_name, file_name]\n",
    "\n",
    "    df = pd.read_csv(tsv_file_loc, sep=\"\\t\")\n",
    "\n",
    "    for txt in df[\"text\"]:\n",
    "        with open(txt_name, \"a\", encoding=\"utf8\") as f:\n",
    "            f.writelines(txt + \"\\n\")\n",
    "    return [txt_name, file_name]\n",
    "\n",
    "\n",
    "tsv_to_text(TRAIN_FILE_LOC)\n"
   ]
  },
  {
   "cell_type": "code",
   "execution_count": 5,
   "metadata": {},
   "outputs": [
    {
     "name": "stdout",
     "output_type": "stream",
     "text": [
      "                                                  text class_label\n",
      "0    ফ্রাঁন্সের সেই শক্তী-ধর রাজা লুই-কেত্রোজ ( রাজ...           2\n",
      "1    ৯৯% রাই ভুল করে এবার আপনাদের পালা!!! #আইকিউ_টে...           0\n",
      "2    ঢাকা শহরের হাফ ভাগ মানুষ বাকি আড়াই ভাগ অমানুষ...           2\n",
      "3    ছোট বেলায় দেখেছি চোর কে গলায় জুতার মালা পড়ি...           2\n",
      "4    ..ভাব যদি কোথায় সে ঘাসের আশ্রয়ে চলে গেল - ভা...           0\n",
      "..                                                 ...         ...\n",
      "981  বিভিন্ন দেশের মুদ্রার নাম ➺ বাংলাদেশ – টাকা। ➺...           0\n",
      "982  @Im_acs আমি ৮ বছর ধরে প্রবাসে আছি এখনো জাই নি ...           2\n",
      "983  ১৭৫৭সন ২৩সে জুন পলাশী থেকে ১৬ ই ডিসেম্বর /১৯৭১...           0\n",
      "984  সবুজ পাহাড়ে নজরকাড়া ফুল। পানখাইয়া পাড়া, খাগড়াছ...           1\n",
      "985  ধা‌র কর‌তে কর‌তে জীবন টা ম‌নে হয় শেষ হ‌য়ে যা...           2\n",
      "\n",
      "[986 rows x 2 columns]\n"
     ]
    }
   ],
   "source": [
    "def tsv_to_df(csv_file_loc):\n",
    "    df = pd.read_csv(csv_file_loc, sep='\\t')\n",
    "    # remove id column\n",
    "    df = df.drop(columns=['id'])\n",
    "\n",
    "    # replace neutral with 0, positive with 1, negative with 2 in class_label column\n",
    "    df.loc[df['class_label'] == 'Neutral', 'class_label'] = 0\n",
    "    df.loc[df['class_label'] == 'Positive', 'class_label'] = 1\n",
    "    df.loc[df['class_label'] == 'Negative', 'class_label'] = 2\n",
    "\n",
    "    return df\n",
    "\n",
    "\n",
    "train_df = tsv_to_df(TEST_FILE_LOC)\n",
    "\n",
    "texts = train_df['text'].tolist()\n",
    "print(train_df)\n"
   ]
  },
  {
   "cell_type": "code",
   "execution_count": 6,
   "metadata": {},
   "outputs": [],
   "source": [
    "def compute_metrics(pred):\n",
    "  labels = pred.label_ids\n",
    "  preds = pred.predictions.argmax(-1)\n",
    "  # calculate accuracy using sklearn's function\n",
    "  acc = accuracy_score(labels, preds)\n",
    "  return {\n",
    "      'accuracy': acc,\n",
    "  }\n"
   ]
  },
  {
   "cell_type": "code",
   "execution_count": 7,
   "metadata": {},
   "outputs": [],
   "source": [
    "def f1_calculator(pred):\n",
    "  labels = pred.label_ids\n",
    "  preds = pred.predictions.argmax(-1)\n",
    "  # calculate accuracy using sklearn's function\n",
    "  f1 = f1_score(labels, preds, average='weighted')\n",
    "  return {\n",
    "      'f1': f1,\n",
    "  }\n"
   ]
  },
  {
   "cell_type": "code",
   "execution_count": 8,
   "metadata": {},
   "outputs": [],
   "source": [
    "train_list = tsv_to_text(TRAIN_FILE_LOC)\n",
    "test_list = tsv_to_text(TEST_FILE_LOC)\n",
    "eval_list = tsv_to_text(EVAL_FILE_LOC)\n"
   ]
  },
  {
   "cell_type": "code",
   "execution_count": 9,
   "metadata": {},
   "outputs": [
    {
     "name": "stderr",
     "output_type": "stream",
     "text": [
      "Some weights of the model checkpoint at /home/abdullah/Code/dl/lt_bert/best_models/pruned_best_tiny_bert were not used when initializing BertForSequenceClassification: ['cls.predictions.decoder.weight', 'bert.encoder.layer.0.attention.output.dense.weight_orig', 'cls.predictions.bias', 'bert.encoder.layer.1.output.dense.weight_orig', 'bert.encoder.layer.0.attention.output.dense.weight_mask', 'bert.encoder.layer.0.attention.self.query.weight_orig', 'bert.encoder.layer.0.attention.self.value.weight_orig', 'bert.encoder.layer.1.attention.self.value.weight_orig', 'bert.encoder.layer.0.attention.self.value.weight_mask', 'bert.encoder.layer.0.attention.self.query.weight_mask', 'bert.encoder.layer.1.attention.self.key.weight_mask', 'cls.predictions.transform.dense.bias', 'bert.encoder.layer.1.attention.self.key.weight_orig', 'cls.predictions.decoder.bias', 'cls.predictions.transform.LayerNorm.bias', 'cls.predictions.transform.LayerNorm.weight', 'bert.encoder.layer.1.attention.output.dense.weight_mask', 'cls.predictions.transform.dense.weight', 'bert.encoder.layer.0.attention.self.key.weight_mask', 'bert.encoder.layer.0.attention.self.key.weight_orig', 'bert.encoder.layer.1.attention.output.dense.weight_orig', 'bert.encoder.layer.0.intermediate.dense.weight_mask', 'bert.encoder.layer.1.intermediate.dense.weight_mask', 'bert.encoder.layer.1.attention.self.query.weight_orig', 'bert.encoder.layer.1.output.dense.weight_mask', 'bert.encoder.layer.1.intermediate.dense.weight_orig', 'bert.encoder.layer.0.output.dense.weight_mask', 'bert.encoder.layer.1.attention.self.query.weight_mask', 'bert.encoder.layer.0.intermediate.dense.weight_orig', 'bert.encoder.layer.1.attention.self.value.weight_mask', 'bert.encoder.layer.0.output.dense.weight_orig']\n",
      "- This IS expected if you are initializing BertForSequenceClassification from the checkpoint of a model trained on another task or with another architecture (e.g. initializing a BertForSequenceClassification model from a BertForPreTraining model).\n",
      "- This IS NOT expected if you are initializing BertForSequenceClassification from the checkpoint of a model that you expect to be exactly identical (initializing a BertForSequenceClassification model from a BertForSequenceClassification model).\n",
      "Some weights of BertForSequenceClassification were not initialized from the model checkpoint at /home/abdullah/Code/dl/lt_bert/best_models/pruned_best_tiny_bert and are newly initialized: ['bert.encoder.layer.0.attention.self.key.weight', 'bert.encoder.layer.0.attention.output.dense.weight', 'bert.encoder.layer.0.attention.self.query.weight', 'bert.encoder.layer.1.attention.self.query.weight', 'bert.encoder.layer.0.attention.self.value.weight', 'bert.encoder.layer.1.attention.self.key.weight', 'bert.encoder.layer.0.output.dense.weight', 'bert.encoder.layer.1.output.dense.weight', 'bert.encoder.layer.0.intermediate.dense.weight', 'bert.encoder.layer.1.attention.output.dense.weight', 'bert.encoder.layer.1.intermediate.dense.weight', 'classifier.weight', 'classifier.bias', 'bert.encoder.layer.1.attention.self.value.weight']\n",
      "You should probably TRAIN this model on a down-stream task to be able to use it for predictions and inference.\n"
     ]
    }
   ],
   "source": [
    "os.environ[\"WANDB_DISABLED\"] = \"true\"\n",
    "\n",
    "train_df = tsv_to_df(TRAIN_FILE_LOC)\n",
    "test_df = tsv_to_df(TEST_FILE_LOC)\n",
    "eval_df = tsv_to_df(EVAL_FILE_LOC)\n",
    "\n",
    "\n",
    "class TINYDataset(Dataset):\n",
    "    def __init__(self, encodings, labels):\n",
    "        self.encodings = encodings\n",
    "        self.labels = labels\n",
    "\n",
    "    def __getitem__(self, idx):\n",
    "        item = {key: torch.tensor(value[idx])\n",
    "                for key, value in self.encodings.items()}\n",
    "        item['labels'] = torch.tensor(self.labels[idx])\n",
    "        return item\n",
    "\n",
    "    def __len__(self):\n",
    "        return len(self.labels)\n",
    "\n",
    "\n",
    "tokenizer = BertTokenizer.from_pretrained(MODEL_NAME)\n",
    "\n",
    "train_encodings = tokenizer(train_df['text'].tolist(\n",
    "), padding=True, truncation=True, max_length=512)\n",
    "test_encodings = tokenizer(test_df['text'].tolist(\n",
    "), padding=True, truncation=True, max_length=512)\n",
    "eval_encodings = tokenizer(eval_df['text'].tolist(\n",
    "), padding=True, truncation=True, max_length=512)\n",
    "\n",
    "train_dataset = TINYDataset(train_encodings, train_df['class_label'].tolist())\n",
    "test_dataset = TINYDataset(test_encodings, test_df['class_label'].tolist())\n",
    "eval_dataset = TINYDataset(eval_encodings, eval_df['class_label'].tolist())\n",
    "\n",
    "model = BertForSequenceClassification.from_pretrained(MODEL_NAME, num_labels=3).to('cuda')\n",
    "model.manual_seed = 14\n"
   ]
  },
  {
   "cell_type": "markdown",
   "metadata": {},
   "source": [
    "## 1 Epoch Train"
   ]
  },
  {
   "cell_type": "code",
   "execution_count": 10,
   "metadata": {},
   "outputs": [
    {
     "name": "stderr",
     "output_type": "stream",
     "text": [
      "Using the `WAND_DISABLED` environment variable is deprecated and will be removed in v5. Use the --report_to flag to control the integrations used for logging result (for instance --report_to none).\n",
      "***** Running training *****\n",
      "  Num examples = 4599\n",
      "  Num Epochs = 1\n",
      "  Instantaneous batch size per device = 48\n",
      "  Total train batch size (w. parallel, distributed & accumulation) = 48\n",
      "  Gradient Accumulation steps = 1\n",
      "  Total optimization steps = 96\n",
      "100%|██████████| 96/96 [00:05<00:00, 18.73it/s]***** Running Evaluation *****\n",
      "  Num examples = 985\n",
      "  Batch size = 96\n"
     ]
    },
    {
     "name": "stdout",
     "output_type": "stream",
     "text": [
      "{'loss': 1.0819, 'learning_rate': 9.600000000000001e-06, 'epoch': 1.0}\n"
     ]
    },
    {
     "name": "stderr",
     "output_type": "stream",
     "text": [
      "                                               \n",
      "100%|██████████| 96/96 [00:05<00:00, 18.73it/s]Saving model checkpoint to temp/checkpoint-96\n",
      "Configuration saved in temp/checkpoint-96/config.json\n"
     ]
    },
    {
     "name": "stdout",
     "output_type": "stream",
     "text": [
      "{'eval_loss': 1.061453938484192, 'eval_runtime': 0.3256, 'eval_samples_per_second': 3025.646, 'eval_steps_per_second': 33.789, 'epoch': 1.0}\n"
     ]
    },
    {
     "name": "stderr",
     "output_type": "stream",
     "text": [
      "Model weights saved in temp/checkpoint-96/pytorch_model.bin\n",
      "\n",
      "\n",
      "Training completed. Do not forget to share your model on huggingface.co/models =)\n",
      "\n",
      "\n",
      "Loading best model from temp/checkpoint-96 (score: 1.061453938484192).\n",
      "100%|██████████| 96/96 [00:07<00:00, 12.42it/s]"
     ]
    },
    {
     "name": "stdout",
     "output_type": "stream",
     "text": [
      "{'train_runtime': 7.7365, 'train_samples_per_second': 594.455, 'train_steps_per_second': 12.409, 'train_loss': 1.0818875630696614, 'epoch': 1.0}\n"
     ]
    },
    {
     "name": "stderr",
     "output_type": "stream",
     "text": [
      "\n"
     ]
    },
    {
     "data": {
      "text/plain": [
       "TrainOutput(global_step=96, training_loss=1.0818875630696614, metrics={'train_runtime': 7.7365, 'train_samples_per_second': 594.455, 'train_steps_per_second': 12.409, 'train_loss': 1.0818875630696614, 'epoch': 1.0})"
      ]
     },
     "execution_count": 10,
     "metadata": {},
     "output_type": "execute_result"
    }
   ],
   "source": [
    "training_args = TrainingArguments(\n",
    "    output_dir=f\"temp\",\n",
    "    num_train_epochs=1,\n",
    "    per_device_train_batch_size=48,\n",
    "    per_device_eval_batch_size=96,\n",
    "    warmup_steps=500,\n",
    "    learning_rate=5e-5,\n",
    "    weight_decay=0.01,\n",
    "    overwrite_output_dir=True,\n",
    "    logging_dir=f\"temp/logs\",\n",
    "    logging_steps=96,\n",
    "    save_steps=96,\n",
    "    load_best_model_at_end=True,\n",
    "    evaluation_strategy=\"steps\",\n",
    "    seed=14,\n",
    ")\n",
    "\n",
    "trainer = Trainer(\n",
    "    model=model,\n",
    "    args=training_args,\n",
    "    train_dataset=train_dataset,\n",
    "    eval_dataset=eval_dataset\n",
    "\n",
    ")\n",
    "\n",
    "trainer.train()\n"
   ]
  },
  {
   "cell_type": "markdown",
   "metadata": {},
   "source": [
    "## 100 Epoch with 1 epoch model"
   ]
  },
  {
   "cell_type": "code",
   "execution_count": 12,
   "metadata": {},
   "outputs": [
    {
     "name": "stderr",
     "output_type": "stream",
     "text": [
      "loading configuration file /home/abdullah/Code/dl/lt_bert/best_models/1/1_cogni_sentiment_50/config.json\n",
      "Model config BertConfig {\n",
      "  \"_name_or_path\": \"/home/abdullah/Code/dl/lt_bert/best_models/pruned_best_tiny_bert\",\n",
      "  \"architectures\": [\n",
      "    \"BertForSequenceClassification\"\n",
      "  ],\n",
      "  \"attention_probs_dropout_prob\": 0.1,\n",
      "  \"classifier_dropout\": null,\n",
      "  \"hidden_act\": \"gelu\",\n",
      "  \"hidden_dropout_prob\": 0.1,\n",
      "  \"hidden_size\": 128,\n",
      "  \"id2label\": {\n",
      "    \"0\": \"LABEL_0\",\n",
      "    \"1\": \"LABEL_1\",\n",
      "    \"2\": \"LABEL_2\"\n",
      "  },\n",
      "  \"initializer_range\": 0.02,\n",
      "  \"intermediate_size\": 512,\n",
      "  \"label2id\": {\n",
      "    \"LABEL_0\": 0,\n",
      "    \"LABEL_1\": 1,\n",
      "    \"LABEL_2\": 2\n",
      "  },\n",
      "  \"layer_norm_eps\": 1e-12,\n",
      "  \"max_position_embeddings\": 512,\n",
      "  \"model_type\": \"bert\",\n",
      "  \"num_attention_heads\": 2,\n",
      "  \"num_hidden_layers\": 2,\n",
      "  \"pad_token_id\": 0,\n",
      "  \"position_embedding_type\": \"absolute\",\n",
      "  \"problem_type\": \"single_label_classification\",\n",
      "  \"torch_dtype\": \"float32\",\n",
      "  \"transformers_version\": \"4.12.5\",\n",
      "  \"type_vocab_size\": 2,\n",
      "  \"use_cache\": true,\n",
      "  \"vocab_size\": 30522\n",
      "}\n",
      "\n",
      "loading weights file /home/abdullah/Code/dl/lt_bert/best_models/1/1_cogni_sentiment_50/pytorch_model.bin\n",
      "All model checkpoint weights were used when initializing BertForSequenceClassification.\n",
      "\n",
      "All the weights of BertForSequenceClassification were initialized from the model checkpoint at /home/abdullah/Code/dl/lt_bert/best_models/1/1_cogni_sentiment_50.\n",
      "If your task is similar to the task the model of the checkpoint was trained on, you can already use BertForSequenceClassification for predictions without further training.\n",
      "using `logging_steps` to initialize `eval_steps` to 400\n",
      "PyTorch: setting up devices\n",
      "The default value for the training argument `--report_to` will change in v5 (from all installed integrations to none). In v5, you will need to use `--report_to all` to get the same behavior as now. You should start updating your code and make this info disappear :-).\n",
      "Using the `WAND_DISABLED` environment variable is deprecated and will be removed in v5. Use the --report_to flag to control the integrations used for logging result (for instance --report_to none).\n",
      "***** Running training *****\n",
      "  Num examples = 4599\n",
      "  Num Epochs = 100\n",
      "  Instantaneous batch size per device = 192\n",
      "  Total train batch size (w. parallel, distributed & accumulation) = 192\n",
      "  Gradient Accumulation steps = 1\n",
      "  Total optimization steps = 2400\n",
      " 17%|█▋        | 400/2400 [01:11<05:55,  5.62it/s]***** Running Evaluation *****\n",
      "  Num examples = 985\n",
      "  Batch size = 384\n"
     ]
    },
    {
     "name": "stdout",
     "output_type": "stream",
     "text": [
      "{'loss': 0.9977, 'learning_rate': 4e-05, 'epoch': 16.67}\n"
     ]
    },
    {
     "name": "stderr",
     "output_type": "stream",
     "text": [
      "                                                  \n",
      " 17%|█▋        | 400/2400 [01:12<05:55,  5.62it/s]Saving model checkpoint to temp/checkpoint-400\n",
      "Configuration saved in temp/checkpoint-400/config.json\n"
     ]
    },
    {
     "name": "stdout",
     "output_type": "stream",
     "text": [
      "{'eval_loss': 0.9121167063713074, 'eval_f1': 0.4037269048734925, 'eval_runtime': 0.3818, 'eval_samples_per_second': 2580.188, 'eval_steps_per_second': 7.858, 'epoch': 16.67}\n"
     ]
    },
    {
     "name": "stderr",
     "output_type": "stream",
     "text": [
      "Model weights saved in temp/checkpoint-400/pytorch_model.bin\n",
      " 33%|███▎      | 800/2400 [02:24<04:45,  5.60it/s]***** Running Evaluation *****\n",
      "  Num examples = 985\n",
      "  Batch size = 384\n"
     ]
    },
    {
     "name": "stdout",
     "output_type": "stream",
     "text": [
      "{'loss': 0.8463, 'learning_rate': 4.210526315789474e-05, 'epoch': 33.33}\n"
     ]
    },
    {
     "name": "stderr",
     "output_type": "stream",
     "text": [
      "                                                  \n",
      " 33%|███▎      | 800/2400 [02:24<04:45,  5.60it/s]Saving model checkpoint to temp/checkpoint-800\n",
      "Configuration saved in temp/checkpoint-800/config.json\n"
     ]
    },
    {
     "name": "stdout",
     "output_type": "stream",
     "text": [
      "{'eval_loss': 0.8230448365211487, 'eval_f1': 0.5645401015515685, 'eval_runtime': 0.3756, 'eval_samples_per_second': 2622.755, 'eval_steps_per_second': 7.988, 'epoch': 33.33}\n"
     ]
    },
    {
     "name": "stderr",
     "output_type": "stream",
     "text": [
      "Model weights saved in temp/checkpoint-800/pytorch_model.bin\n",
      " 50%|█████     | 1200/2400 [03:36<03:31,  5.68it/s]***** Running Evaluation *****\n",
      "  Num examples = 985\n",
      "  Batch size = 384\n"
     ]
    },
    {
     "name": "stdout",
     "output_type": "stream",
     "text": [
      "{'loss': 0.7921, 'learning_rate': 3.157894736842105e-05, 'epoch': 50.0}\n"
     ]
    },
    {
     "name": "stderr",
     "output_type": "stream",
     "text": [
      "                                                   \n",
      " 50%|█████     | 1200/2400 [03:37<03:31,  5.68it/s]Saving model checkpoint to temp/checkpoint-1200\n",
      "Configuration saved in temp/checkpoint-1200/config.json\n"
     ]
    },
    {
     "name": "stdout",
     "output_type": "stream",
     "text": [
      "{'eval_loss': 0.84160315990448, 'eval_f1': 0.5618550706416684, 'eval_runtime': 0.3805, 'eval_samples_per_second': 2588.63, 'eval_steps_per_second': 7.884, 'epoch': 50.0}\n"
     ]
    },
    {
     "name": "stderr",
     "output_type": "stream",
     "text": [
      "Model weights saved in temp/checkpoint-1200/pytorch_model.bin\n",
      " 67%|██████▋   | 1600/2400 [04:49<02:23,  5.58it/s]***** Running Evaluation *****\n",
      "  Num examples = 985\n",
      "  Batch size = 384\n"
     ]
    },
    {
     "name": "stdout",
     "output_type": "stream",
     "text": [
      "{'loss': 0.7457, 'learning_rate': 2.105263157894737e-05, 'epoch': 66.67}\n"
     ]
    },
    {
     "name": "stderr",
     "output_type": "stream",
     "text": [
      "                                                   \n",
      " 67%|██████▋   | 1600/2400 [04:49<02:23,  5.58it/s]Saving model checkpoint to temp/checkpoint-1600\n",
      "Configuration saved in temp/checkpoint-1600/config.json\n"
     ]
    },
    {
     "name": "stdout",
     "output_type": "stream",
     "text": [
      "{'eval_loss': 0.8801267147064209, 'eval_f1': 0.572275460150255, 'eval_runtime': 0.3825, 'eval_samples_per_second': 2575.023, 'eval_steps_per_second': 7.843, 'epoch': 66.67}\n"
     ]
    },
    {
     "name": "stderr",
     "output_type": "stream",
     "text": [
      "Model weights saved in temp/checkpoint-1600/pytorch_model.bin\n",
      " 83%|████████▎ | 2000/2400 [06:02<01:11,  5.60it/s]***** Running Evaluation *****\n",
      "  Num examples = 985\n",
      "  Batch size = 384\n"
     ]
    },
    {
     "name": "stdout",
     "output_type": "stream",
     "text": [
      "{'loss': 0.7117, 'learning_rate': 1.0526315789473684e-05, 'epoch': 83.33}\n"
     ]
    },
    {
     "name": "stderr",
     "output_type": "stream",
     "text": [
      "                                                   \n",
      " 83%|████████▎ | 2000/2400 [06:02<01:11,  5.60it/s]Saving model checkpoint to temp/checkpoint-2000\n",
      "Configuration saved in temp/checkpoint-2000/config.json\n"
     ]
    },
    {
     "name": "stdout",
     "output_type": "stream",
     "text": [
      "{'eval_loss': 0.9014898538589478, 'eval_f1': 0.5754705504886759, 'eval_runtime': 0.3761, 'eval_samples_per_second': 2618.849, 'eval_steps_per_second': 7.976, 'epoch': 83.33}\n"
     ]
    },
    {
     "name": "stderr",
     "output_type": "stream",
     "text": [
      "Model weights saved in temp/checkpoint-2000/pytorch_model.bin\n",
      "100%|██████████| 2400/2400 [07:15<00:00,  5.71it/s]***** Running Evaluation *****\n",
      "  Num examples = 985\n",
      "  Batch size = 384\n"
     ]
    },
    {
     "name": "stdout",
     "output_type": "stream",
     "text": [
      "{'loss': 0.6966, 'learning_rate': 0.0, 'epoch': 100.0}\n"
     ]
    },
    {
     "name": "stderr",
     "output_type": "stream",
     "text": [
      "                                                   \n",
      "100%|██████████| 2400/2400 [07:15<00:00,  5.71it/s]Saving model checkpoint to temp/checkpoint-2400\n",
      "Configuration saved in temp/checkpoint-2400/config.json\n"
     ]
    },
    {
     "name": "stdout",
     "output_type": "stream",
     "text": [
      "{'eval_loss': 0.9133487939834595, 'eval_f1': 0.5681670663574563, 'eval_runtime': 0.3754, 'eval_samples_per_second': 2623.749, 'eval_steps_per_second': 7.991, 'epoch': 100.0}\n"
     ]
    },
    {
     "name": "stderr",
     "output_type": "stream",
     "text": [
      "Model weights saved in temp/checkpoint-2400/pytorch_model.bin\n",
      "\n",
      "\n",
      "Training completed. Do not forget to share your model on huggingface.co/models =)\n",
      "\n",
      "\n",
      "Loading best model from temp/checkpoint-800 (score: 0.8230448365211487).\n",
      "100%|██████████| 2400/2400 [07:16<00:00,  5.49it/s]\n",
      "***** Running training *****\n",
      "  Num examples = 4599\n",
      "  Num Epochs = 100\n",
      "  Instantaneous batch size per device = 192\n",
      "  Total train batch size (w. parallel, distributed & accumulation) = 192\n",
      "  Gradient Accumulation steps = 1\n",
      "  Total optimization steps = 2400\n"
     ]
    },
    {
     "name": "stdout",
     "output_type": "stream",
     "text": [
      "{'train_runtime': 436.9896, 'train_samples_per_second': 1052.428, 'train_steps_per_second': 5.492, 'train_loss': 0.7983423233032226, 'epoch': 100.0}\n"
     ]
    },
    {
     "name": "stderr",
     "output_type": "stream",
     "text": [
      " 17%|█▋        | 400/2400 [01:11<05:58,  5.57it/s]***** Running Evaluation *****\n",
      "  Num examples = 985\n",
      "  Batch size = 384\n"
     ]
    },
    {
     "name": "stdout",
     "output_type": "stream",
     "text": [
      "{'loss': 0.8099, 'learning_rate': 4e-05, 'epoch': 16.67}\n"
     ]
    },
    {
     "name": "stderr",
     "output_type": "stream",
     "text": [
      "\n",
      " 17%|█▋        | 400/2400 [01:11<05:58,  5.57it/s]Saving model checkpoint to temp/checkpoint-400\n",
      "Configuration saved in temp/checkpoint-400/config.json\n"
     ]
    },
    {
     "name": "stdout",
     "output_type": "stream",
     "text": [
      "{'eval_loss': 0.8230096697807312, 'eval_accuracy': 0.6578680203045685, 'eval_runtime': 0.3748, 'eval_samples_per_second': 2628.296, 'eval_steps_per_second': 8.005, 'epoch': 16.67}\n"
     ]
    },
    {
     "name": "stderr",
     "output_type": "stream",
     "text": [
      "Model weights saved in temp/checkpoint-400/pytorch_model.bin\n",
      " 33%|███▎      | 800/2400 [02:24<04:45,  5.61it/s]***** Running Evaluation *****\n",
      "  Num examples = 985\n",
      "  Batch size = 384\n"
     ]
    },
    {
     "name": "stdout",
     "output_type": "stream",
     "text": [
      "{'loss': 0.7756, 'learning_rate': 4.210526315789474e-05, 'epoch': 33.33}\n"
     ]
    },
    {
     "name": "stderr",
     "output_type": "stream",
     "text": [
      "\n",
      " 33%|███▎      | 800/2400 [02:24<04:45,  5.61it/s]Saving model checkpoint to temp/checkpoint-800\n",
      "Configuration saved in temp/checkpoint-800/config.json\n"
     ]
    },
    {
     "name": "stdout",
     "output_type": "stream",
     "text": [
      "{'eval_loss': 0.8572111129760742, 'eval_accuracy': 0.650761421319797, 'eval_runtime': 0.3785, 'eval_samples_per_second': 2602.409, 'eval_steps_per_second': 7.926, 'epoch': 33.33}\n"
     ]
    },
    {
     "name": "stderr",
     "output_type": "stream",
     "text": [
      "Model weights saved in temp/checkpoint-800/pytorch_model.bin\n",
      " 50%|█████     | 1200/2400 [03:36<03:29,  5.73it/s]***** Running Evaluation *****\n",
      "  Num examples = 985\n",
      "  Batch size = 384\n"
     ]
    },
    {
     "name": "stdout",
     "output_type": "stream",
     "text": [
      "{'loss': 0.7181, 'learning_rate': 3.157894736842105e-05, 'epoch': 50.0}\n"
     ]
    },
    {
     "name": "stderr",
     "output_type": "stream",
     "text": [
      "\n",
      " 50%|█████     | 1200/2400 [03:37<03:29,  5.73it/s]Saving model checkpoint to temp/checkpoint-1200\n",
      "Configuration saved in temp/checkpoint-1200/config.json\n"
     ]
    },
    {
     "name": "stdout",
     "output_type": "stream",
     "text": [
      "{'eval_loss': 0.9183330535888672, 'eval_accuracy': 0.6243654822335025, 'eval_runtime': 0.4029, 'eval_samples_per_second': 2444.982, 'eval_steps_per_second': 7.447, 'epoch': 50.0}\n"
     ]
    },
    {
     "name": "stderr",
     "output_type": "stream",
     "text": [
      "Model weights saved in temp/checkpoint-1200/pytorch_model.bin\n",
      " 67%|██████▋   | 1600/2400 [04:49<02:22,  5.60it/s]***** Running Evaluation *****\n",
      "  Num examples = 985\n",
      "  Batch size = 384\n"
     ]
    },
    {
     "name": "stdout",
     "output_type": "stream",
     "text": [
      "{'loss': 0.6765, 'learning_rate': 2.105263157894737e-05, 'epoch': 66.67}\n"
     ]
    },
    {
     "name": "stderr",
     "output_type": "stream",
     "text": [
      "\n",
      " 67%|██████▋   | 1600/2400 [04:49<02:22,  5.60it/s]Saving model checkpoint to temp/checkpoint-1600\n",
      "Configuration saved in temp/checkpoint-1600/config.json\n"
     ]
    },
    {
     "name": "stdout",
     "output_type": "stream",
     "text": [
      "{'eval_loss': 0.9618703722953796, 'eval_accuracy': 0.6274111675126903, 'eval_runtime': 0.3764, 'eval_samples_per_second': 2616.811, 'eval_steps_per_second': 7.97, 'epoch': 66.67}\n"
     ]
    },
    {
     "name": "stderr",
     "output_type": "stream",
     "text": [
      "Model weights saved in temp/checkpoint-1600/pytorch_model.bin\n",
      " 83%|████████▎ | 2000/2400 [06:02<01:11,  5.59it/s]***** Running Evaluation *****\n",
      "  Num examples = 985\n",
      "  Batch size = 384\n"
     ]
    },
    {
     "name": "stdout",
     "output_type": "stream",
     "text": [
      "{'loss': 0.6511, 'learning_rate': 1.0526315789473684e-05, 'epoch': 83.33}\n"
     ]
    },
    {
     "name": "stderr",
     "output_type": "stream",
     "text": [
      "\n",
      " 83%|████████▎ | 2000/2400 [06:02<01:11,  5.59it/s]Saving model checkpoint to temp/checkpoint-2000\n",
      "Configuration saved in temp/checkpoint-2000/config.json\n"
     ]
    },
    {
     "name": "stdout",
     "output_type": "stream",
     "text": [
      "{'eval_loss': 0.9890580773353577, 'eval_accuracy': 0.6284263959390863, 'eval_runtime': 0.3749, 'eval_samples_per_second': 2627.301, 'eval_steps_per_second': 8.002, 'epoch': 83.33}\n"
     ]
    },
    {
     "name": "stderr",
     "output_type": "stream",
     "text": [
      "Model weights saved in temp/checkpoint-2000/pytorch_model.bin\n",
      "100%|██████████| 2400/2400 [07:14<00:00,  5.74it/s]***** Running Evaluation *****\n",
      "  Num examples = 985\n",
      "  Batch size = 384\n"
     ]
    },
    {
     "name": "stdout",
     "output_type": "stream",
     "text": [
      "{'loss': 0.6392, 'learning_rate': 0.0, 'epoch': 100.0}\n"
     ]
    },
    {
     "name": "stderr",
     "output_type": "stream",
     "text": [
      "\n",
      "100%|██████████| 2400/2400 [07:15<00:00,  5.74it/s]Saving model checkpoint to temp/checkpoint-2400\n",
      "Configuration saved in temp/checkpoint-2400/config.json\n"
     ]
    },
    {
     "name": "stdout",
     "output_type": "stream",
     "text": [
      "{'eval_loss': 1.0013792514801025, 'eval_accuracy': 0.6233502538071066, 'eval_runtime': 0.3756, 'eval_samples_per_second': 2622.397, 'eval_steps_per_second': 7.987, 'epoch': 100.0}\n"
     ]
    },
    {
     "name": "stderr",
     "output_type": "stream",
     "text": [
      "Model weights saved in temp/checkpoint-2400/pytorch_model.bin\n",
      "\n",
      "\n",
      "Training completed. Do not forget to share your model on huggingface.co/models =)\n",
      "\n",
      "\n",
      "Loading best model from temp/checkpoint-400 (score: 0.8230096697807312).\n",
      "100%|██████████| 2400/2400 [07:16<00:00,  5.50it/s]"
     ]
    },
    {
     "name": "stdout",
     "output_type": "stream",
     "text": [
      "{'train_runtime': 436.1689, 'train_samples_per_second': 1054.408, 'train_steps_per_second': 5.502, 'train_loss': 0.7117468833923339, 'epoch': 100.0}\n"
     ]
    },
    {
     "name": "stderr",
     "output_type": "stream",
     "text": [
      "\n"
     ]
    },
    {
     "data": {
      "text/plain": [
       "TrainOutput(global_step=2400, training_loss=0.7117468833923339, metrics={'train_runtime': 436.1689, 'train_samples_per_second': 1054.408, 'train_steps_per_second': 5.502, 'train_loss': 0.7117468833923339, 'epoch': 100.0})"
      ]
     },
     "execution_count": 12,
     "metadata": {},
     "output_type": "execute_result"
    }
   ],
   "source": [
    "MODEL_NAME = '/home/abdullah/Code/dl/lt_bert/best_models/1/1_cogni_sentiment_50'\n",
    "model = BertForSequenceClassification.from_pretrained(\n",
    "    MODEL_NAME, num_labels=3).to('cuda')\n",
    "model.manual_seed = 14\n",
    "\n",
    "for name, param in model.named_parameters():\n",
    "    if 'bert.encoder.layer.0' in name:\n",
    "        # print(name, param.requires_grad)\n",
    "        param.requires_grad = False\n",
    "# print(\"\\n\\n\\n\")\n",
    "# for name, param in model.named_parameters():\n",
    "#     print(name, param.requires_grad)\n",
    "\n",
    "training_args = TrainingArguments(\n",
    "    output_dir=f\"temp\",\n",
    "    num_train_epochs=100,\n",
    "    per_device_train_batch_size=192,\n",
    "    per_device_eval_batch_size=384,\n",
    "    warmup_steps=500,\n",
    "    learning_rate=5e-5,\n",
    "    weight_decay=0.01,\n",
    "    overwrite_output_dir=True,\n",
    "    logging_dir=f\"temp/logs\",\n",
    "    logging_steps=400,\n",
    "    save_steps=400,\n",
    "    load_best_model_at_end=True,\n",
    "    evaluation_strategy=\"steps\",\n",
    "    seed=14,\n",
    ")\n",
    "\n",
    "trainer = Trainer(\n",
    "    model=model,\n",
    "    args=training_args,\n",
    "    train_dataset=train_dataset,\n",
    "    eval_dataset=eval_dataset,\n",
    "    compute_metrics=f1_calculator,\n",
    "\n",
    ")\n",
    "\n",
    "trainer.train()\n",
    "\n",
    "# print(cool.metrics)\n",
    "\n",
    "trainer = Trainer(\n",
    "    model=model,\n",
    "    args=training_args,\n",
    "    train_dataset=train_dataset,\n",
    "    eval_dataset=eval_dataset,\n",
    "    compute_metrics=compute_metrics,\n",
    "\n",
    ")\n",
    "\n",
    "trainer.train()\n"
   ]
  }
 ],
 "metadata": {
  "interpreter": {
   "hash": "30945d60abeb4d30e097bab3ad7b6ead7c1fba264acb4ede644ab6174c0ba9cb"
  },
  "kernelspec": {
   "display_name": "Python 3.8.10 ('venv_499A': venv)",
   "language": "python",
   "name": "python3"
  },
  "language_info": {
   "codemirror_mode": {
    "name": "ipython",
    "version": 3
   },
   "file_extension": ".py",
   "mimetype": "text/x-python",
   "name": "python",
   "nbconvert_exporter": "python",
   "pygments_lexer": "ipython3",
   "version": "3.8.10"
  },
  "orig_nbformat": 4
 },
 "nbformat": 4,
 "nbformat_minor": 2
}
