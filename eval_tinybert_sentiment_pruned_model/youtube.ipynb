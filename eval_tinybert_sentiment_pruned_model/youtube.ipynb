{
 "cells": [
  {
   "cell_type": "code",
   "execution_count": 1,
   "metadata": {},
   "outputs": [],
   "source": [
    "import pandas as pd\n",
    "import torch\n",
    "import os\n",
    "\n",
    "from torch.utils.data import Dataset\n",
    "from transformers import (BertTokenizer, BertForSequenceClassification, Trainer,\n",
    "                          TrainingArguments, BertPreTrainedModel)\n",
    "# from simpletransformers.language_modeling import LanguageModelingModel\n",
    "from sklearn.metrics import accuracy_score, f1_score\n"
   ]
  },
  {
   "cell_type": "code",
   "execution_count": 2,
   "metadata": {},
   "outputs": [
    {
     "name": "stdout",
     "output_type": "stream",
     "text": [
      "True\n",
      "NVIDIA GeForce RTX 3060\n",
      "_CudaDeviceProperties(name='NVIDIA GeForce RTX 3060', major=8, minor=6, total_memory=12050MB, multi_processor_count=28)\n"
     ]
    }
   ],
   "source": [
    "print(torch.cuda.is_available())\n",
    "print(torch.cuda.get_device_name(0))\n",
    "print(torch.cuda.get_device_properties(0))"
   ]
  },
  {
   "cell_type": "code",
   "execution_count": 3,
   "metadata": {},
   "outputs": [],
   "source": [
    "MODEL_NAME = '/home/abdullah/Code/dl/lt_bert/best_models/pruned_best_tiny_bert'\n",
    "TRAIN_FILE_LOC = '/home/abdullah/Code/dl/bnlp-resources/sentiment/youtube_sentiment/sentiment_train.tsv'\n",
    "TEST_FILE_LOC = '/home/abdullah/Code/dl/bnlp-resources/sentiment/youtube_sentiment/sentiment_test.tsv'\n",
    "EVAL_FILE_LOC = '/home/abdullah/Code/dl/bnlp-resources/sentiment/youtube_sentiment/sentiment_dev.tsv'\n"
   ]
  },
  {
   "cell_type": "code",
   "execution_count": 4,
   "metadata": {},
   "outputs": [
    {
     "data": {
      "text/plain": [
       "['/home/abdullah/Code/dl/bnlp-resources/sentiment/youtube_sentiment/sentiment_train.txt',\n",
       " 'sentiment_train']"
      ]
     },
     "execution_count": 4,
     "metadata": {},
     "output_type": "execute_result"
    }
   ],
   "source": [
    "def tsv_to_text(tsv_file_loc):\n",
    "    file_name = tsv_file_loc.split(\"/\")[-1].split(\".\")[0]\n",
    "    txt_name = tsv_file_loc.replace(\".tsv\", \".txt\")\n",
    "    txt_name = txt_name.replace(\"split_merged\", \"texts\")\n",
    "\n",
    "    if os.path.exists(txt_name):\n",
    "        return [txt_name, file_name]\n",
    "\n",
    "    df = pd.read_csv(tsv_file_loc, sep=\"\\t\")\n",
    "\n",
    "    for txt in df[\"text\"]:\n",
    "        with open(txt_name, \"a\", encoding=\"utf8\") as f:\n",
    "            f.writelines(txt + \"\\n\")\n",
    "    return [txt_name, file_name]\n",
    "\n",
    "\n",
    "tsv_to_text(TRAIN_FILE_LOC)\n"
   ]
  },
  {
   "cell_type": "code",
   "execution_count": 5,
   "metadata": {},
   "outputs": [
    {
     "name": "stdout",
     "output_type": "stream",
     "text": [
      "                                                  text class_label\n",
      "0     Md খাইছি তােরে oiiii bolder bacha thiki to bolce           2\n",
      "1            এগিয়ে জান তালাশ টিম আমরা আছি আপনাদের পাশে           1\n",
      "2         shakil ahmed মাইরালা অামারে হানি খাই মরি রাই           0\n",
      "3                                             ঘেউ!  :P           2\n",
      "4                          মাল যথার্থ ঠিক কথাই বলেছেন।           1\n",
      "..                                                 ...         ...\n",
      "415               ওরে টাইগার, আমরা তোদের ছাগল মনে করি,           2\n",
      "416  গান টা মোটামুটি ভালোই লাগছিলো নুসরাত ফারিয়ার গ...           0\n",
      "417  এমন কিচু জানোয়ার জন্ম নিয়ে সে সাধারন মানুষ কে ...           2\n",
      "418  সবি ভালো লেগেছে নাটকের তবে ছাত্রীর ঢং করে কথা ...           0\n",
      "419  ইমরানরে জুতা খুলে মুজা দিয়ে পিটানো উচিৎ। শালার...           2\n",
      "\n",
      "[420 rows x 2 columns]\n"
     ]
    }
   ],
   "source": [
    "def tsv_to_df(csv_file_loc):\n",
    "    df = pd.read_csv(csv_file_loc, sep='\\t')\n",
    "    # remove id column\n",
    "    df = df.drop(columns=['id'])\n",
    "\n",
    "    # replace neutral with 0, positive with 1, negative with 2 in class_label column\n",
    "    df.loc[df['class_label'] == 'Neutral', 'class_label'] = 0\n",
    "    df.loc[df['class_label'] == 'Positive', 'class_label'] = 1\n",
    "    df.loc[df['class_label'] == 'Negative', 'class_label'] = 2\n",
    "\n",
    "    return df\n",
    "\n",
    "\n",
    "train_df = tsv_to_df(TEST_FILE_LOC)\n",
    "\n",
    "texts = train_df['text'].tolist()\n",
    "print(train_df)\n"
   ]
  },
  {
   "cell_type": "code",
   "execution_count": 6,
   "metadata": {},
   "outputs": [],
   "source": [
    "def compute_metrics(pred):\n",
    "  labels = pred.label_ids\n",
    "  preds = pred.predictions.argmax(-1)\n",
    "  # calculate accuracy using sklearn's function\n",
    "  acc = accuracy_score(labels, preds)\n",
    "  return {\n",
    "      'accuracy': acc,\n",
    "  }\n"
   ]
  },
  {
   "cell_type": "code",
   "execution_count": 7,
   "metadata": {},
   "outputs": [],
   "source": [
    "def f1_calculator(pred):\n",
    "  labels = pred.label_ids\n",
    "  preds = pred.predictions.argmax(-1)\n",
    "  # calculate accuracy using sklearn's function\n",
    "  f1 = f1_score(labels, preds, average='weighted')\n",
    "  return {\n",
    "      'f1': f1,\n",
    "  }\n"
   ]
  },
  {
   "cell_type": "code",
   "execution_count": 8,
   "metadata": {},
   "outputs": [],
   "source": [
    "train_list = tsv_to_text(TRAIN_FILE_LOC)\n",
    "test_list = tsv_to_text(TEST_FILE_LOC)\n",
    "eval_list = tsv_to_text(EVAL_FILE_LOC)\n"
   ]
  },
  {
   "cell_type": "code",
   "execution_count": 9,
   "metadata": {},
   "outputs": [
    {
     "name": "stderr",
     "output_type": "stream",
     "text": [
      "Some weights of the model checkpoint at /home/abdullah/Code/dl/lt_bert/best_models/pruned_best_tiny_bert were not used when initializing BertForSequenceClassification: ['cls.predictions.bias', 'bert.encoder.layer.1.attention.output.dense.weight_orig', 'bert.encoder.layer.0.attention.self.value.weight_orig', 'bert.encoder.layer.0.attention.self.key.weight_mask', 'bert.encoder.layer.1.attention.self.key.weight_orig', 'bert.encoder.layer.1.attention.self.query.weight_mask', 'bert.encoder.layer.1.attention.self.query.weight_orig', 'bert.encoder.layer.1.attention.self.key.weight_mask', 'bert.encoder.layer.0.attention.output.dense.weight_mask', 'cls.predictions.decoder.weight', 'bert.encoder.layer.0.attention.self.value.weight_mask', 'bert.encoder.layer.0.attention.output.dense.weight_orig', 'bert.encoder.layer.0.intermediate.dense.weight_mask', 'bert.encoder.layer.0.output.dense.weight_orig', 'bert.encoder.layer.1.attention.self.value.weight_mask', 'bert.encoder.layer.1.output.dense.weight_mask', 'bert.encoder.layer.0.attention.self.query.weight_mask', 'cls.predictions.transform.LayerNorm.weight', 'cls.predictions.decoder.bias', 'bert.encoder.layer.1.intermediate.dense.weight_mask', 'cls.predictions.transform.dense.bias', 'bert.encoder.layer.0.attention.self.query.weight_orig', 'bert.encoder.layer.1.attention.self.value.weight_orig', 'bert.encoder.layer.0.output.dense.weight_mask', 'bert.encoder.layer.1.intermediate.dense.weight_orig', 'bert.encoder.layer.0.attention.self.key.weight_orig', 'bert.encoder.layer.1.output.dense.weight_orig', 'bert.encoder.layer.0.intermediate.dense.weight_orig', 'cls.predictions.transform.dense.weight', 'cls.predictions.transform.LayerNorm.bias', 'bert.encoder.layer.1.attention.output.dense.weight_mask']\n",
      "- This IS expected if you are initializing BertForSequenceClassification from the checkpoint of a model trained on another task or with another architecture (e.g. initializing a BertForSequenceClassification model from a BertForPreTraining model).\n",
      "- This IS NOT expected if you are initializing BertForSequenceClassification from the checkpoint of a model that you expect to be exactly identical (initializing a BertForSequenceClassification model from a BertForSequenceClassification model).\n",
      "Some weights of BertForSequenceClassification were not initialized from the model checkpoint at /home/abdullah/Code/dl/lt_bert/best_models/pruned_best_tiny_bert and are newly initialized: ['bert.encoder.layer.0.attention.self.key.weight', 'classifier.bias', 'bert.encoder.layer.0.output.dense.weight', 'bert.encoder.layer.0.intermediate.dense.weight', 'bert.encoder.layer.1.attention.self.value.weight', 'bert.encoder.layer.1.attention.self.query.weight', 'bert.encoder.layer.0.attention.output.dense.weight', 'bert.encoder.layer.1.intermediate.dense.weight', 'bert.encoder.layer.1.attention.output.dense.weight', 'bert.encoder.layer.0.attention.self.value.weight', 'bert.encoder.layer.1.output.dense.weight', 'bert.encoder.layer.0.attention.self.query.weight', 'classifier.weight', 'bert.encoder.layer.1.attention.self.key.weight']\n",
      "You should probably TRAIN this model on a down-stream task to be able to use it for predictions and inference.\n"
     ]
    }
   ],
   "source": [
    "os.environ[\"WANDB_DISABLED\"] = \"true\"\n",
    "\n",
    "train_df = tsv_to_df(TRAIN_FILE_LOC)\n",
    "test_df = tsv_to_df(TEST_FILE_LOC)\n",
    "eval_df = tsv_to_df(EVAL_FILE_LOC)\n",
    "\n",
    "\n",
    "class TINYDataset(Dataset):\n",
    "    def __init__(self, encodings, labels):\n",
    "        self.encodings = encodings\n",
    "        self.labels = labels\n",
    "\n",
    "    def __getitem__(self, idx):\n",
    "        item = {key: torch.tensor(value[idx])\n",
    "                for key, value in self.encodings.items()}\n",
    "        item['labels'] = torch.tensor(self.labels[idx])\n",
    "        return item\n",
    "\n",
    "    def __len__(self):\n",
    "        return len(self.labels)\n",
    "\n",
    "\n",
    "tokenizer = BertTokenizer.from_pretrained(MODEL_NAME)\n",
    "\n",
    "train_encodings = tokenizer(train_df['text'].tolist(\n",
    "), padding=True, truncation=True, max_length=512)\n",
    "test_encodings = tokenizer(test_df['text'].tolist(\n",
    "), padding=True, truncation=True, max_length=512)\n",
    "eval_encodings = tokenizer(eval_df['text'].tolist(\n",
    "), padding=True, truncation=True, max_length=512)\n",
    "\n",
    "train_dataset = TINYDataset(train_encodings, train_df['class_label'].tolist())\n",
    "test_dataset = TINYDataset(test_encodings, test_df['class_label'].tolist())\n",
    "eval_dataset = TINYDataset(eval_encodings, eval_df['class_label'].tolist())\n",
    "\n",
    "model = BertForSequenceClassification.from_pretrained(MODEL_NAME, num_labels=3).to('cuda')\n",
    "model.manual_seed = 14\n"
   ]
  },
  {
   "cell_type": "markdown",
   "metadata": {},
   "source": [
    "## 1 Epoch Train"
   ]
  },
  {
   "cell_type": "code",
   "execution_count": 10,
   "metadata": {},
   "outputs": [
    {
     "name": "stderr",
     "output_type": "stream",
     "text": [
      "Using the `WAND_DISABLED` environment variable is deprecated and will be removed in v5. Use the --report_to flag to control the integrations used for logging result (for instance --report_to none).\n",
      "***** Running training *****\n",
      "  Num examples = 1957\n",
      "  Num Epochs = 1\n",
      "  Instantaneous batch size per device = 48\n",
      "  Total train batch size (w. parallel, distributed & accumulation) = 48\n",
      "  Gradient Accumulation steps = 1\n",
      "  Total optimization steps = 41\n",
      "100%|██████████| 41/41 [00:02<00:00, 18.34it/s]***** Running Evaluation *****\n",
      "  Num examples = 419\n",
      "  Batch size = 96\n"
     ]
    },
    {
     "name": "stdout",
     "output_type": "stream",
     "text": [
      "{'loss': 1.0988, 'learning_rate': 4.1000000000000006e-06, 'epoch': 1.0}\n"
     ]
    },
    {
     "name": "stderr",
     "output_type": "stream",
     "text": [
      "                                               \n",
      "100%|██████████| 41/41 [00:02<00:00, 18.34it/s]Saving model checkpoint to temp/checkpoint-41\n",
      "Configuration saved in temp/checkpoint-41/config.json\n"
     ]
    },
    {
     "name": "stdout",
     "output_type": "stream",
     "text": [
      "{'eval_loss': 1.0939193964004517, 'eval_runtime': 0.1466, 'eval_samples_per_second': 2857.662, 'eval_steps_per_second': 34.101, 'epoch': 1.0}\n"
     ]
    },
    {
     "name": "stderr",
     "output_type": "stream",
     "text": [
      "Model weights saved in temp/checkpoint-41/pytorch_model.bin\n",
      "\n",
      "\n",
      "Training completed. Do not forget to share your model on huggingface.co/models =)\n",
      "\n",
      "\n",
      "Loading best model from temp/checkpoint-41 (score: 1.0939193964004517).\n",
      "100%|██████████| 41/41 [00:04<00:00, 10.10it/s]"
     ]
    },
    {
     "name": "stdout",
     "output_type": "stream",
     "text": [
      "{'train_runtime': 4.0663, 'train_samples_per_second': 481.269, 'train_steps_per_second': 10.083, 'train_loss': 1.0987918202469988, 'epoch': 1.0}\n"
     ]
    },
    {
     "name": "stderr",
     "output_type": "stream",
     "text": [
      "\n"
     ]
    },
    {
     "data": {
      "text/plain": [
       "TrainOutput(global_step=41, training_loss=1.0987918202469988, metrics={'train_runtime': 4.0663, 'train_samples_per_second': 481.269, 'train_steps_per_second': 10.083, 'train_loss': 1.0987918202469988, 'epoch': 1.0})"
      ]
     },
     "execution_count": 10,
     "metadata": {},
     "output_type": "execute_result"
    }
   ],
   "source": [
    "training_args = TrainingArguments(\n",
    "    output_dir=f\"temp\",\n",
    "    num_train_epochs=1,\n",
    "    per_device_train_batch_size=48,\n",
    "    per_device_eval_batch_size=96,\n",
    "    warmup_steps=500,\n",
    "    learning_rate=5e-5,\n",
    "    weight_decay=0.01,\n",
    "    overwrite_output_dir=True,\n",
    "    logging_dir=f\"temp/logs\",\n",
    "    logging_steps=41,\n",
    "    save_steps=41,\n",
    "    load_best_model_at_end=True,\n",
    "    evaluation_strategy=\"steps\",\n",
    "    seed=14,\n",
    ")\n",
    "\n",
    "trainer = Trainer(\n",
    "    model=model,\n",
    "    args=training_args,\n",
    "    train_dataset=train_dataset,\n",
    "    eval_dataset=eval_dataset\n",
    "\n",
    ")\n",
    "\n",
    "trainer.train()\n"
   ]
  },
  {
   "cell_type": "markdown",
   "metadata": {},
   "source": [
    "## 100 Epoch with 1 epoch model"
   ]
  },
  {
   "cell_type": "code",
   "execution_count": 12,
   "metadata": {},
   "outputs": [
    {
     "name": "stderr",
     "output_type": "stream",
     "text": [
      "loading configuration file /home/abdullah/Code/dl/lt_bert/best_models/1/1_youtube_sentiment_50/config.json\n",
      "Model config BertConfig {\n",
      "  \"_name_or_path\": \"/home/abdullah/Code/dl/lt_bert/best_models/pruned_best_tiny_bert\",\n",
      "  \"architectures\": [\n",
      "    \"BertForSequenceClassification\"\n",
      "  ],\n",
      "  \"attention_probs_dropout_prob\": 0.1,\n",
      "  \"classifier_dropout\": null,\n",
      "  \"hidden_act\": \"gelu\",\n",
      "  \"hidden_dropout_prob\": 0.1,\n",
      "  \"hidden_size\": 128,\n",
      "  \"id2label\": {\n",
      "    \"0\": \"LABEL_0\",\n",
      "    \"1\": \"LABEL_1\",\n",
      "    \"2\": \"LABEL_2\"\n",
      "  },\n",
      "  \"initializer_range\": 0.02,\n",
      "  \"intermediate_size\": 512,\n",
      "  \"label2id\": {\n",
      "    \"LABEL_0\": 0,\n",
      "    \"LABEL_1\": 1,\n",
      "    \"LABEL_2\": 2\n",
      "  },\n",
      "  \"layer_norm_eps\": 1e-12,\n",
      "  \"max_position_embeddings\": 512,\n",
      "  \"model_type\": \"bert\",\n",
      "  \"num_attention_heads\": 2,\n",
      "  \"num_hidden_layers\": 2,\n",
      "  \"pad_token_id\": 0,\n",
      "  \"position_embedding_type\": \"absolute\",\n",
      "  \"problem_type\": \"single_label_classification\",\n",
      "  \"torch_dtype\": \"float32\",\n",
      "  \"transformers_version\": \"4.12.5\",\n",
      "  \"type_vocab_size\": 2,\n",
      "  \"use_cache\": true,\n",
      "  \"vocab_size\": 30522\n",
      "}\n",
      "\n",
      "loading weights file /home/abdullah/Code/dl/lt_bert/best_models/1/1_youtube_sentiment_50/pytorch_model.bin\n",
      "All model checkpoint weights were used when initializing BertForSequenceClassification.\n",
      "\n",
      "All the weights of BertForSequenceClassification were initialized from the model checkpoint at /home/abdullah/Code/dl/lt_bert/best_models/1/1_youtube_sentiment_50.\n",
      "If your task is similar to the task the model of the checkpoint was trained on, you can already use BertForSequenceClassification for predictions without further training.\n",
      "using `logging_steps` to initialize `eval_steps` to 100\n",
      "PyTorch: setting up devices\n",
      "The default value for the training argument `--report_to` will change in v5 (from all installed integrations to none). In v5, you will need to use `--report_to all` to get the same behavior as now. You should start updating your code and make this info disappear :-).\n",
      "Using the `WAND_DISABLED` environment variable is deprecated and will be removed in v5. Use the --report_to flag to control the integrations used for logging result (for instance --report_to none).\n",
      "***** Running training *****\n",
      "  Num examples = 1957\n",
      "  Num Epochs = 100\n",
      "  Instantaneous batch size per device = 192\n",
      "  Total train batch size (w. parallel, distributed & accumulation) = 192\n",
      "  Gradient Accumulation steps = 1\n",
      "  Total optimization steps = 1100\n",
      "  9%|▉         | 100/1100 [00:16<02:18,  7.21it/s]***** Running Evaluation *****\n",
      "  Num examples = 419\n",
      "  Batch size = 384\n"
     ]
    },
    {
     "name": "stdout",
     "output_type": "stream",
     "text": [
      "{'loss': 1.0927, 'learning_rate': 1e-05, 'epoch': 9.09}\n"
     ]
    },
    {
     "name": "stderr",
     "output_type": "stream",
     "text": [
      "                                                  \n",
      "  9%|▉         | 100/1100 [00:16<02:18,  7.21it/s]Saving model checkpoint to temp/checkpoint-100\n",
      "Configuration saved in temp/checkpoint-100/config.json\n"
     ]
    },
    {
     "name": "stdout",
     "output_type": "stream",
     "text": [
      "{'eval_loss': 1.074365258216858, 'eval_f1': 0.33466008476537745, 'eval_runtime': 0.1531, 'eval_samples_per_second': 2736.999, 'eval_steps_per_second': 13.064, 'epoch': 9.09}\n"
     ]
    },
    {
     "name": "stderr",
     "output_type": "stream",
     "text": [
      "Model weights saved in temp/checkpoint-100/pytorch_model.bin\n",
      " 18%|█▊        | 200/1100 [00:33<02:15,  6.65it/s]***** Running Evaluation *****\n",
      "  Num examples = 419\n",
      "  Batch size = 384\n"
     ]
    },
    {
     "name": "stdout",
     "output_type": "stream",
     "text": [
      "{'loss': 1.0776, 'learning_rate': 2e-05, 'epoch': 18.18}\n"
     ]
    },
    {
     "name": "stderr",
     "output_type": "stream",
     "text": [
      "                                                  \n",
      " 18%|█▊        | 200/1100 [00:33<02:15,  6.65it/s]Saving model checkpoint to temp/checkpoint-200\n",
      "Configuration saved in temp/checkpoint-200/config.json\n"
     ]
    },
    {
     "name": "stdout",
     "output_type": "stream",
     "text": [
      "{'eval_loss': 1.0486373901367188, 'eval_f1': 0.33466008476537745, 'eval_runtime': 0.1609, 'eval_samples_per_second': 2604.822, 'eval_steps_per_second': 12.434, 'epoch': 18.18}\n"
     ]
    },
    {
     "name": "stderr",
     "output_type": "stream",
     "text": [
      "Model weights saved in temp/checkpoint-200/pytorch_model.bin\n",
      " 27%|██▋       | 300/1100 [00:50<01:59,  6.69it/s]***** Running Evaluation *****\n",
      "  Num examples = 419\n",
      "  Batch size = 384\n"
     ]
    },
    {
     "name": "stdout",
     "output_type": "stream",
     "text": [
      "{'loss': 1.0728, 'learning_rate': 3e-05, 'epoch': 27.27}\n"
     ]
    },
    {
     "name": "stderr",
     "output_type": "stream",
     "text": [
      "                                                  \n",
      " 27%|██▋       | 300/1100 [00:50<01:59,  6.69it/s]Saving model checkpoint to temp/checkpoint-300\n",
      "Configuration saved in temp/checkpoint-300/config.json\n"
     ]
    },
    {
     "name": "stdout",
     "output_type": "stream",
     "text": [
      "{'eval_loss': 1.0432502031326294, 'eval_f1': 0.33466008476537745, 'eval_runtime': 0.1602, 'eval_samples_per_second': 2614.84, 'eval_steps_per_second': 12.481, 'epoch': 27.27}\n"
     ]
    },
    {
     "name": "stderr",
     "output_type": "stream",
     "text": [
      "Model weights saved in temp/checkpoint-300/pytorch_model.bin\n",
      " 36%|███▋      | 400/1100 [01:07<01:49,  6.40it/s]***** Running Evaluation *****\n",
      "  Num examples = 419\n",
      "  Batch size = 384\n"
     ]
    },
    {
     "name": "stdout",
     "output_type": "stream",
     "text": [
      "{'loss': 1.0689, 'learning_rate': 4e-05, 'epoch': 36.36}\n"
     ]
    },
    {
     "name": "stderr",
     "output_type": "stream",
     "text": [
      "                                                  \n",
      " 36%|███▋      | 400/1100 [01:07<01:49,  6.40it/s]Saving model checkpoint to temp/checkpoint-400\n",
      "Configuration saved in temp/checkpoint-400/config.json\n"
     ]
    },
    {
     "name": "stdout",
     "output_type": "stream",
     "text": [
      "{'eval_loss': 1.033755898475647, 'eval_f1': 0.33466008476537745, 'eval_runtime': 0.1528, 'eval_samples_per_second': 2742.265, 'eval_steps_per_second': 13.09, 'epoch': 36.36}\n"
     ]
    },
    {
     "name": "stderr",
     "output_type": "stream",
     "text": [
      "Model weights saved in temp/checkpoint-400/pytorch_model.bin\n",
      " 45%|████▌     | 500/1100 [01:24<01:41,  5.94it/s]***** Running Evaluation *****\n",
      "  Num examples = 419\n",
      "  Batch size = 384\n"
     ]
    },
    {
     "name": "stdout",
     "output_type": "stream",
     "text": [
      "{'loss': 1.0265, 'learning_rate': 5e-05, 'epoch': 45.45}\n"
     ]
    },
    {
     "name": "stderr",
     "output_type": "stream",
     "text": [
      "                                                  \n",
      " 45%|████▌     | 500/1100 [01:24<01:41,  5.94it/s]Saving model checkpoint to temp/checkpoint-500\n",
      "Configuration saved in temp/checkpoint-500/config.json\n"
     ]
    },
    {
     "name": "stdout",
     "output_type": "stream",
     "text": [
      "{'eval_loss': 0.9617426991462708, 'eval_f1': 0.45586718646766705, 'eval_runtime': 0.1628, 'eval_samples_per_second': 2574.471, 'eval_steps_per_second': 12.289, 'epoch': 45.45}\n"
     ]
    },
    {
     "name": "stderr",
     "output_type": "stream",
     "text": [
      "Model weights saved in temp/checkpoint-500/pytorch_model.bin\n",
      " 55%|█████▍    | 600/1100 [01:42<01:25,  5.85it/s]***** Running Evaluation *****\n",
      "  Num examples = 419\n",
      "  Batch size = 384\n"
     ]
    },
    {
     "name": "stdout",
     "output_type": "stream",
     "text": [
      "{'loss': 0.9246, 'learning_rate': 4.166666666666667e-05, 'epoch': 54.55}\n"
     ]
    },
    {
     "name": "stderr",
     "output_type": "stream",
     "text": [
      "                                                  \n",
      " 55%|█████▍    | 600/1100 [01:42<01:25,  5.85it/s]Saving model checkpoint to temp/checkpoint-600\n",
      "Configuration saved in temp/checkpoint-600/config.json\n"
     ]
    },
    {
     "name": "stdout",
     "output_type": "stream",
     "text": [
      "{'eval_loss': 0.9533271789550781, 'eval_f1': 0.4993610888740919, 'eval_runtime': 0.1652, 'eval_samples_per_second': 2536.788, 'eval_steps_per_second': 12.109, 'epoch': 54.55}\n"
     ]
    },
    {
     "name": "stderr",
     "output_type": "stream",
     "text": [
      "Model weights saved in temp/checkpoint-600/pytorch_model.bin\n",
      " 64%|██████▎   | 700/1100 [02:00<01:09,  5.75it/s]***** Running Evaluation *****\n",
      "  Num examples = 419\n",
      "  Batch size = 384\n"
     ]
    },
    {
     "name": "stdout",
     "output_type": "stream",
     "text": [
      "{'loss': 0.8659, 'learning_rate': 3.3333333333333335e-05, 'epoch': 63.64}\n"
     ]
    },
    {
     "name": "stderr",
     "output_type": "stream",
     "text": [
      "                                                  \n",
      " 64%|██████▎   | 700/1100 [02:00<01:09,  5.75it/s]Saving model checkpoint to temp/checkpoint-700\n",
      "Configuration saved in temp/checkpoint-700/config.json\n"
     ]
    },
    {
     "name": "stdout",
     "output_type": "stream",
     "text": [
      "{'eval_loss': 0.9476619362831116, 'eval_f1': 0.5401028714102273, 'eval_runtime': 0.1673, 'eval_samples_per_second': 2504.633, 'eval_steps_per_second': 11.955, 'epoch': 63.64}\n"
     ]
    },
    {
     "name": "stderr",
     "output_type": "stream",
     "text": [
      "Model weights saved in temp/checkpoint-700/pytorch_model.bin\n",
      " 73%|███████▎  | 800/1100 [02:17<00:52,  5.74it/s]***** Running Evaluation *****\n",
      "  Num examples = 419\n",
      "  Batch size = 384\n"
     ]
    },
    {
     "name": "stdout",
     "output_type": "stream",
     "text": [
      "{'loss': 0.828, 'learning_rate': 2.5e-05, 'epoch': 72.73}\n"
     ]
    },
    {
     "name": "stderr",
     "output_type": "stream",
     "text": [
      "                                                  \n",
      " 73%|███████▎  | 800/1100 [02:17<00:52,  5.74it/s]Saving model checkpoint to temp/checkpoint-800\n",
      "Configuration saved in temp/checkpoint-800/config.json\n"
     ]
    },
    {
     "name": "stdout",
     "output_type": "stream",
     "text": [
      "{'eval_loss': 0.9491036534309387, 'eval_f1': 0.5623501731617085, 'eval_runtime': 0.1643, 'eval_samples_per_second': 2550.036, 'eval_steps_per_second': 12.172, 'epoch': 72.73}\n"
     ]
    },
    {
     "name": "stderr",
     "output_type": "stream",
     "text": [
      "Model weights saved in temp/checkpoint-800/pytorch_model.bin\n",
      " 82%|████████▏ | 900/1100 [02:35<00:35,  5.67it/s]***** Running Evaluation *****\n",
      "  Num examples = 419\n",
      "  Batch size = 384\n"
     ]
    },
    {
     "name": "stdout",
     "output_type": "stream",
     "text": [
      "{'loss': 0.7974, 'learning_rate': 1.6666666666666667e-05, 'epoch': 81.82}\n"
     ]
    },
    {
     "name": "stderr",
     "output_type": "stream",
     "text": [
      "                                                  \n",
      " 82%|████████▏ | 900/1100 [02:35<00:35,  5.67it/s]Saving model checkpoint to temp/checkpoint-900\n",
      "Configuration saved in temp/checkpoint-900/config.json\n"
     ]
    },
    {
     "name": "stdout",
     "output_type": "stream",
     "text": [
      "{'eval_loss': 0.9529857635498047, 'eval_f1': 0.5644299834023675, 'eval_runtime': 0.1669, 'eval_samples_per_second': 2510.35, 'eval_steps_per_second': 11.983, 'epoch': 81.82}\n"
     ]
    },
    {
     "name": "stderr",
     "output_type": "stream",
     "text": [
      "Model weights saved in temp/checkpoint-900/pytorch_model.bin\n",
      " 91%|█████████ | 1000/1100 [02:53<00:17,  5.66it/s]***** Running Evaluation *****\n",
      "  Num examples = 419\n",
      "  Batch size = 384\n"
     ]
    },
    {
     "name": "stdout",
     "output_type": "stream",
     "text": [
      "{'loss': 0.7852, 'learning_rate': 8.333333333333334e-06, 'epoch': 90.91}\n"
     ]
    },
    {
     "name": "stderr",
     "output_type": "stream",
     "text": [
      "                                                   \n",
      " 91%|█████████ | 1000/1100 [02:53<00:17,  5.66it/s]Saving model checkpoint to temp/checkpoint-1000\n",
      "Configuration saved in temp/checkpoint-1000/config.json\n"
     ]
    },
    {
     "name": "stdout",
     "output_type": "stream",
     "text": [
      "{'eval_loss': 0.958556592464447, 'eval_f1': 0.5781034509713359, 'eval_runtime': 0.165, 'eval_samples_per_second': 2539.108, 'eval_steps_per_second': 12.12, 'epoch': 90.91}\n"
     ]
    },
    {
     "name": "stderr",
     "output_type": "stream",
     "text": [
      "Model weights saved in temp/checkpoint-1000/pytorch_model.bin\n",
      "100%|██████████| 1100/1100 [03:12<00:00,  5.64it/s]***** Running Evaluation *****\n",
      "  Num examples = 419\n",
      "  Batch size = 384\n"
     ]
    },
    {
     "name": "stdout",
     "output_type": "stream",
     "text": [
      "{'loss': 0.7785, 'learning_rate': 0.0, 'epoch': 100.0}\n"
     ]
    },
    {
     "name": "stderr",
     "output_type": "stream",
     "text": [
      "                                                   \n",
      "100%|██████████| 1100/1100 [03:12<00:00,  5.64it/s]Saving model checkpoint to temp/checkpoint-1100\n",
      "Configuration saved in temp/checkpoint-1100/config.json\n"
     ]
    },
    {
     "name": "stdout",
     "output_type": "stream",
     "text": [
      "{'eval_loss': 0.9632708430290222, 'eval_f1': 0.5739059822075705, 'eval_runtime': 0.1643, 'eval_samples_per_second': 2549.851, 'eval_steps_per_second': 12.171, 'epoch': 100.0}\n"
     ]
    },
    {
     "name": "stderr",
     "output_type": "stream",
     "text": [
      "Model weights saved in temp/checkpoint-1100/pytorch_model.bin\n",
      "\n",
      "\n",
      "Training completed. Do not forget to share your model on huggingface.co/models =)\n",
      "\n",
      "\n",
      "Loading best model from temp/checkpoint-700 (score: 0.9476619362831116).\n",
      "100%|██████████| 1100/1100 [03:13<00:00,  5.70it/s]\n",
      "***** Running training *****\n",
      "  Num examples = 1957\n",
      "  Num Epochs = 100\n",
      "  Instantaneous batch size per device = 192\n",
      "  Total train batch size (w. parallel, distributed & accumulation) = 192\n",
      "  Gradient Accumulation steps = 1\n",
      "  Total optimization steps = 1100\n"
     ]
    },
    {
     "name": "stdout",
     "output_type": "stream",
     "text": [
      "{'train_runtime': 193.1205, 'train_samples_per_second': 1013.357, 'train_steps_per_second': 5.696, 'train_loss': 0.9380000998757102, 'epoch': 100.0}\n"
     ]
    },
    {
     "name": "stderr",
     "output_type": "stream",
     "text": [
      "  9%|▉         | 100/1100 [00:16<02:25,  6.89it/s]***** Running Evaluation *****\n",
      "  Num examples = 419\n",
      "  Batch size = 384\n"
     ]
    },
    {
     "name": "stdout",
     "output_type": "stream",
     "text": [
      "{'loss': 0.8452, 'learning_rate': 1e-05, 'epoch': 9.09}\n"
     ]
    },
    {
     "name": "stderr",
     "output_type": "stream",
     "text": [
      "\n",
      "  9%|▉         | 100/1100 [00:16<02:25,  6.89it/s]Saving model checkpoint to temp/checkpoint-100\n",
      "Configuration saved in temp/checkpoint-100/config.json\n"
     ]
    },
    {
     "name": "stdout",
     "output_type": "stream",
     "text": [
      "{'eval_loss': 0.9515591859817505, 'eval_accuracy': 0.5513126491646778, 'eval_runtime': 0.1642, 'eval_samples_per_second': 2551.798, 'eval_steps_per_second': 12.18, 'epoch': 9.09}\n"
     ]
    },
    {
     "name": "stderr",
     "output_type": "stream",
     "text": [
      "Model weights saved in temp/checkpoint-100/pytorch_model.bin\n",
      " 18%|█▊        | 200/1100 [00:34<02:18,  6.50it/s]***** Running Evaluation *****\n",
      "  Num examples = 419\n",
      "  Batch size = 384\n"
     ]
    },
    {
     "name": "stdout",
     "output_type": "stream",
     "text": [
      "{'loss': 0.8389, 'learning_rate': 2e-05, 'epoch': 18.18}\n"
     ]
    },
    {
     "name": "stderr",
     "output_type": "stream",
     "text": [
      "\n",
      " 18%|█▊        | 200/1100 [00:34<02:18,  6.50it/s]Saving model checkpoint to temp/checkpoint-200\n",
      "Configuration saved in temp/checkpoint-200/config.json\n"
     ]
    },
    {
     "name": "stdout",
     "output_type": "stream",
     "text": [
      "{'eval_loss': 0.9542912840843201, 'eval_accuracy': 0.5513126491646778, 'eval_runtime': 0.1635, 'eval_samples_per_second': 2562.309, 'eval_steps_per_second': 12.231, 'epoch': 18.18}\n"
     ]
    },
    {
     "name": "stderr",
     "output_type": "stream",
     "text": [
      "Model weights saved in temp/checkpoint-200/pytorch_model.bin\n",
      " 27%|██▋       | 300/1100 [00:52<02:07,  6.27it/s]***** Running Evaluation *****\n",
      "  Num examples = 419\n",
      "  Batch size = 384\n"
     ]
    },
    {
     "name": "stdout",
     "output_type": "stream",
     "text": [
      "{'loss': 0.8236, 'learning_rate': 3e-05, 'epoch': 27.27}\n"
     ]
    },
    {
     "name": "stderr",
     "output_type": "stream",
     "text": [
      "\n",
      " 27%|██▋       | 300/1100 [00:52<02:07,  6.27it/s]Saving model checkpoint to temp/checkpoint-300\n",
      "Configuration saved in temp/checkpoint-300/config.json\n"
     ]
    },
    {
     "name": "stdout",
     "output_type": "stream",
     "text": [
      "{'eval_loss': 0.9522185325622559, 'eval_accuracy': 0.5608591885441527, 'eval_runtime': 0.1597, 'eval_samples_per_second': 2623.518, 'eval_steps_per_second': 12.523, 'epoch': 27.27}\n"
     ]
    },
    {
     "name": "stderr",
     "output_type": "stream",
     "text": [
      "Model weights saved in temp/checkpoint-300/pytorch_model.bin\n",
      " 36%|███▋      | 400/1100 [01:09<01:54,  6.13it/s]***** Running Evaluation *****\n",
      "  Num examples = 419\n",
      "  Batch size = 384\n"
     ]
    },
    {
     "name": "stdout",
     "output_type": "stream",
     "text": [
      "{'loss': 0.798, 'learning_rate': 4e-05, 'epoch': 36.36}\n"
     ]
    },
    {
     "name": "stderr",
     "output_type": "stream",
     "text": [
      "\n",
      " 36%|███▋      | 400/1100 [01:09<01:54,  6.13it/s]Saving model checkpoint to temp/checkpoint-400\n",
      "Configuration saved in temp/checkpoint-400/config.json\n"
     ]
    },
    {
     "name": "stdout",
     "output_type": "stream",
     "text": [
      "{'eval_loss': 0.9556759595870972, 'eval_accuracy': 0.5608591885441527, 'eval_runtime': 0.1612, 'eval_samples_per_second': 2599.832, 'eval_steps_per_second': 12.41, 'epoch': 36.36}\n"
     ]
    },
    {
     "name": "stderr",
     "output_type": "stream",
     "text": [
      "Model weights saved in temp/checkpoint-400/pytorch_model.bin\n",
      " 45%|████▌     | 500/1100 [01:27<01:41,  5.94it/s]***** Running Evaluation *****\n",
      "  Num examples = 419\n",
      "  Batch size = 384\n"
     ]
    },
    {
     "name": "stdout",
     "output_type": "stream",
     "text": [
      "{'loss': 0.7807, 'learning_rate': 5e-05, 'epoch': 45.45}\n"
     ]
    },
    {
     "name": "stderr",
     "output_type": "stream",
     "text": [
      "\n",
      " 45%|████▌     | 500/1100 [01:27<01:41,  5.94it/s]Saving model checkpoint to temp/checkpoint-500\n",
      "Configuration saved in temp/checkpoint-500/config.json\n"
     ]
    },
    {
     "name": "stdout",
     "output_type": "stream",
     "text": [
      "{'eval_loss': 0.9587078094482422, 'eval_accuracy': 0.5823389021479713, 'eval_runtime': 0.163, 'eval_samples_per_second': 2570.765, 'eval_steps_per_second': 12.271, 'epoch': 45.45}\n"
     ]
    },
    {
     "name": "stderr",
     "output_type": "stream",
     "text": [
      "Model weights saved in temp/checkpoint-500/pytorch_model.bin\n",
      " 55%|█████▍    | 600/1100 [01:45<01:26,  5.79it/s]***** Running Evaluation *****\n",
      "  Num examples = 419\n",
      "  Batch size = 384\n"
     ]
    },
    {
     "name": "stdout",
     "output_type": "stream",
     "text": [
      "{'loss': 0.7484, 'learning_rate': 4.166666666666667e-05, 'epoch': 54.55}\n"
     ]
    },
    {
     "name": "stderr",
     "output_type": "stream",
     "text": [
      "\n",
      " 55%|█████▍    | 600/1100 [01:45<01:26,  5.79it/s]Saving model checkpoint to temp/checkpoint-600\n",
      "Configuration saved in temp/checkpoint-600/config.json\n"
     ]
    },
    {
     "name": "stdout",
     "output_type": "stream",
     "text": [
      "{'eval_loss': 0.9865256547927856, 'eval_accuracy': 0.5894988066825776, 'eval_runtime': 0.1605, 'eval_samples_per_second': 2610.738, 'eval_steps_per_second': 12.462, 'epoch': 54.55}\n"
     ]
    },
    {
     "name": "stderr",
     "output_type": "stream",
     "text": [
      "Model weights saved in temp/checkpoint-600/pytorch_model.bin\n",
      " 64%|██████▎   | 700/1100 [02:02<01:09,  5.74it/s]***** Running Evaluation *****\n",
      "  Num examples = 419\n",
      "  Batch size = 384\n"
     ]
    },
    {
     "name": "stdout",
     "output_type": "stream",
     "text": [
      "{'loss': 0.7169, 'learning_rate': 3.3333333333333335e-05, 'epoch': 63.64}\n"
     ]
    },
    {
     "name": "stderr",
     "output_type": "stream",
     "text": [
      "\n",
      " 64%|██████▎   | 700/1100 [02:02<01:09,  5.74it/s]Saving model checkpoint to temp/checkpoint-700\n",
      "Configuration saved in temp/checkpoint-700/config.json\n"
     ]
    },
    {
     "name": "stdout",
     "output_type": "stream",
     "text": [
      "{'eval_loss': 1.0145906209945679, 'eval_accuracy': 0.5871121718377088, 'eval_runtime': 0.1624, 'eval_samples_per_second': 2579.53, 'eval_steps_per_second': 12.313, 'epoch': 63.64}\n"
     ]
    },
    {
     "name": "stderr",
     "output_type": "stream",
     "text": [
      "Model weights saved in temp/checkpoint-700/pytorch_model.bin\n",
      " 73%|███████▎  | 800/1100 [02:20<00:55,  5.40it/s]***** Running Evaluation *****\n",
      "  Num examples = 419\n",
      "  Batch size = 384\n"
     ]
    },
    {
     "name": "stdout",
     "output_type": "stream",
     "text": [
      "{'loss': 0.7112, 'learning_rate': 2.5e-05, 'epoch': 72.73}\n"
     ]
    },
    {
     "name": "stderr",
     "output_type": "stream",
     "text": [
      "\n",
      " 73%|███████▎  | 800/1100 [02:20<00:55,  5.40it/s]Saving model checkpoint to temp/checkpoint-800\n",
      "Configuration saved in temp/checkpoint-800/config.json\n"
     ]
    },
    {
     "name": "stdout",
     "output_type": "stream",
     "text": [
      "{'eval_loss': 1.024908185005188, 'eval_accuracy': 0.594272076372315, 'eval_runtime': 0.162, 'eval_samples_per_second': 2585.732, 'eval_steps_per_second': 12.342, 'epoch': 72.73}\n"
     ]
    },
    {
     "name": "stderr",
     "output_type": "stream",
     "text": [
      "Model weights saved in temp/checkpoint-800/pytorch_model.bin\n",
      " 82%|████████▏ | 900/1100 [02:37<00:35,  5.71it/s]***** Running Evaluation *****\n",
      "  Num examples = 419\n",
      "  Batch size = 384\n"
     ]
    },
    {
     "name": "stdout",
     "output_type": "stream",
     "text": [
      "{'loss': 0.6919, 'learning_rate': 1.6666666666666667e-05, 'epoch': 81.82}\n"
     ]
    },
    {
     "name": "stderr",
     "output_type": "stream",
     "text": [
      "\n",
      " 82%|████████▏ | 900/1100 [02:38<00:35,  5.71it/s]Saving model checkpoint to temp/checkpoint-900\n",
      "Configuration saved in temp/checkpoint-900/config.json\n"
     ]
    },
    {
     "name": "stdout",
     "output_type": "stream",
     "text": [
      "{'eval_loss': 1.031721830368042, 'eval_accuracy': 0.5990453460620525, 'eval_runtime': 0.1791, 'eval_samples_per_second': 2339.764, 'eval_steps_per_second': 11.168, 'epoch': 81.82}\n"
     ]
    },
    {
     "name": "stderr",
     "output_type": "stream",
     "text": [
      "Model weights saved in temp/checkpoint-900/pytorch_model.bin\n",
      " 91%|█████████ | 1000/1100 [02:55<00:17,  5.68it/s]***** Running Evaluation *****\n",
      "  Num examples = 419\n",
      "  Batch size = 384\n"
     ]
    },
    {
     "name": "stdout",
     "output_type": "stream",
     "text": [
      "{'loss': 0.6883, 'learning_rate': 8.333333333333334e-06, 'epoch': 90.91}\n"
     ]
    },
    {
     "name": "stderr",
     "output_type": "stream",
     "text": [
      "\n",
      " 91%|█████████ | 1000/1100 [02:56<00:17,  5.68it/s]Saving model checkpoint to temp/checkpoint-1000\n",
      "Configuration saved in temp/checkpoint-1000/config.json\n"
     ]
    },
    {
     "name": "stdout",
     "output_type": "stream",
     "text": [
      "{'eval_loss': 1.0434131622314453, 'eval_accuracy': 0.5990453460620525, 'eval_runtime': 0.1643, 'eval_samples_per_second': 2550.628, 'eval_steps_per_second': 12.175, 'epoch': 90.91}\n"
     ]
    },
    {
     "name": "stderr",
     "output_type": "stream",
     "text": [
      "Model weights saved in temp/checkpoint-1000/pytorch_model.bin\n",
      "100%|██████████| 1100/1100 [03:14<00:00,  5.66it/s]***** Running Evaluation *****\n",
      "  Num examples = 419\n",
      "  Batch size = 384\n"
     ]
    },
    {
     "name": "stdout",
     "output_type": "stream",
     "text": [
      "{'loss': 0.6823, 'learning_rate': 0.0, 'epoch': 100.0}\n"
     ]
    },
    {
     "name": "stderr",
     "output_type": "stream",
     "text": [
      "\n",
      "100%|██████████| 1100/1100 [03:14<00:00,  5.66it/s]Saving model checkpoint to temp/checkpoint-1100\n",
      "Configuration saved in temp/checkpoint-1100/config.json\n"
     ]
    },
    {
     "name": "stdout",
     "output_type": "stream",
     "text": [
      "{'eval_loss': 1.0444663763046265, 'eval_accuracy': 0.594272076372315, 'eval_runtime': 0.1674, 'eval_samples_per_second': 2503.734, 'eval_steps_per_second': 11.951, 'epoch': 100.0}\n"
     ]
    },
    {
     "name": "stderr",
     "output_type": "stream",
     "text": [
      "Model weights saved in temp/checkpoint-1100/pytorch_model.bin\n",
      "\n",
      "\n",
      "Training completed. Do not forget to share your model on huggingface.co/models =)\n",
      "\n",
      "\n",
      "Loading best model from temp/checkpoint-100 (score: 0.9515591859817505).\n",
      "100%|██████████| 1100/1100 [03:15<00:00,  5.63it/s]"
     ]
    },
    {
     "name": "stdout",
     "output_type": "stream",
     "text": [
      "{'train_runtime': 195.551, 'train_samples_per_second': 1000.762, 'train_steps_per_second': 5.625, 'train_loss': 0.7568611075661399, 'epoch': 100.0}\n"
     ]
    },
    {
     "name": "stderr",
     "output_type": "stream",
     "text": [
      "\n"
     ]
    },
    {
     "data": {
      "text/plain": [
       "TrainOutput(global_step=1100, training_loss=0.7568611075661399, metrics={'train_runtime': 195.551, 'train_samples_per_second': 1000.762, 'train_steps_per_second': 5.625, 'train_loss': 0.7568611075661399, 'epoch': 100.0})"
      ]
     },
     "execution_count": 12,
     "metadata": {},
     "output_type": "execute_result"
    }
   ],
   "source": [
    "MODEL_NAME = '/home/abdullah/Code/dl/lt_bert/best_models/1/1_youtube_sentiment_50'\n",
    "model = BertForSequenceClassification.from_pretrained(\n",
    "    MODEL_NAME, num_labels=3).to('cuda')\n",
    "model.manual_seed = 14\n",
    "\n",
    "for name, param in model.named_parameters():\n",
    "    if 'bert.encoder.layer.0' in name:\n",
    "        # print(name, param.requires_grad)\n",
    "        param.requires_grad = False\n",
    "# print(\"\\n\\n\\n\")\n",
    "# for name, param in model.named_parameters():\n",
    "#     print(name, param.requires_grad)\n",
    "\n",
    "training_args = TrainingArguments(\n",
    "    output_dir=f\"temp\",\n",
    "    num_train_epochs=100,\n",
    "    per_device_train_batch_size=192,\n",
    "    per_device_eval_batch_size=384,\n",
    "    warmup_steps=500,\n",
    "    learning_rate=5e-5,\n",
    "    weight_decay=0.01,\n",
    "    overwrite_output_dir=True,\n",
    "    logging_dir=f\"temp/logs\",\n",
    "    logging_steps=100,\n",
    "    save_steps=100,\n",
    "    load_best_model_at_end=True,\n",
    "    evaluation_strategy=\"steps\",\n",
    "    seed=14,\n",
    ")\n",
    "\n",
    "trainer = Trainer(\n",
    "    model=model,\n",
    "    args=training_args,\n",
    "    train_dataset=train_dataset,\n",
    "    eval_dataset=eval_dataset,\n",
    "    compute_metrics=f1_calculator,\n",
    "\n",
    ")\n",
    "\n",
    "trainer.train()\n",
    "\n",
    "# print(cool.metrics)\n",
    "\n",
    "trainer = Trainer(\n",
    "    model=model,\n",
    "    args=training_args,\n",
    "    train_dataset=train_dataset,\n",
    "    eval_dataset=eval_dataset,\n",
    "    compute_metrics=compute_metrics,\n",
    "\n",
    ")\n",
    "\n",
    "trainer.train()\n"
   ]
  }
 ],
 "metadata": {
  "interpreter": {
   "hash": "30945d60abeb4d30e097bab3ad7b6ead7c1fba264acb4ede644ab6174c0ba9cb"
  },
  "kernelspec": {
   "display_name": "Python 3.8.10 ('venv_499A': venv)",
   "language": "python",
   "name": "python3"
  },
  "language_info": {
   "codemirror_mode": {
    "name": "ipython",
    "version": 3
   },
   "file_extension": ".py",
   "mimetype": "text/x-python",
   "name": "python",
   "nbconvert_exporter": "python",
   "pygments_lexer": "ipython3",
   "version": "3.8.10"
  },
  "orig_nbformat": 4
 },
 "nbformat": 4,
 "nbformat_minor": 2
}
