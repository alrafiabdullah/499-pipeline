{
 "cells": [
  {
   "cell_type": "code",
   "execution_count": 1,
   "metadata": {},
   "outputs": [],
   "source": [
    "import pandas as pd\n",
    "import torch\n",
    "import os\n",
    "\n",
    "from torch.utils.data import Dataset\n",
    "from transformers import (BertTokenizer, BertForSequenceClassification, Trainer,\n",
    "                          TrainingArguments, BertPreTrainedModel)\n",
    "# from simpletransformers.language_modeling import LanguageModelingModel\n",
    "from sklearn.metrics import accuracy_score, f1_score\n"
   ]
  },
  {
   "cell_type": "code",
   "execution_count": 2,
   "metadata": {},
   "outputs": [
    {
     "name": "stdout",
     "output_type": "stream",
     "text": [
      "True\n",
      "NVIDIA GeForce RTX 3060\n",
      "_CudaDeviceProperties(name='NVIDIA GeForce RTX 3060', major=8, minor=6, total_memory=12050MB, multi_processor_count=28)\n"
     ]
    }
   ],
   "source": [
    "print(torch.cuda.is_available())\n",
    "print(torch.cuda.get_device_name(0))\n",
    "print(torch.cuda.get_device_properties(0))"
   ]
  },
  {
   "cell_type": "code",
   "execution_count": 3,
   "metadata": {},
   "outputs": [],
   "source": [
    "MODEL_NAME = '/home/abdullah/Code/dl/lt_bert/best_models/pruned_best_tiny_bert'\n",
    "TRAIN_FILE_LOC = '/home/abdullah/Code/dl/bnlp-resources/sentiment/merged_train.csv'\n",
    "EVAL_FILE_LOC = '/home/abdullah/Code/dl/bnlp-resources/sentiment/merged_test.csv'\n"
   ]
  },
  {
   "cell_type": "code",
   "execution_count": 4,
   "metadata": {},
   "outputs": [
    {
     "data": {
      "text/plain": [
       "['/home/abdullah/Code/dl/bnlp-resources/sentiment/merged_train.csv',\n",
       " 'merged_train']"
      ]
     },
     "execution_count": 4,
     "metadata": {},
     "output_type": "execute_result"
    }
   ],
   "source": [
    "def tsv_to_text(tsv_file_loc):\n",
    "    file_name = tsv_file_loc.split(\"/\")[-1].split(\".\")[0]\n",
    "    txt_name = tsv_file_loc.replace(\".tsv\", \".txt\")\n",
    "    txt_name = txt_name.replace(\"split_merged\", \"texts\")\n",
    "\n",
    "    if os.path.exists(txt_name):\n",
    "        return [txt_name, file_name]\n",
    "\n",
    "    df = pd.read_csv(tsv_file_loc, sep=\"\\t\")\n",
    "\n",
    "    for txt in df[\"text\"]:\n",
    "        with open(txt_name, \"a\", encoding=\"utf8\") as f:\n",
    "            f.writelines(txt + \"\\n\")\n",
    "    return [txt_name, file_name]\n",
    "\n",
    "\n",
    "tsv_to_text(TRAIN_FILE_LOC)\n"
   ]
  },
  {
   "cell_type": "code",
   "execution_count": 5,
   "metadata": {},
   "outputs": [
    {
     "name": "stdout",
     "output_type": "stream",
     "text": [
      "                                                    text label\n",
      "0         @BoyBanglar ভালোই,, তাও ত বাংলার বেকার ছেলে না     1\n",
      "1      'সুন্নাহের গুরুত্ব ও প্রয়োজনীয়তাhttp:/t.co/Kv9...     0\n",
      "2      সারা দুনিয়া থেকে যদি বাছাই করে ৫০০ জন ভালো মা...     0\n",
      "3      ক্রিকেট বোর্ড কে যদি দুদকের সম্মুখীন করা হয় এব...     2\n",
      "4      সপ্তাহের জন্য তারা একটি দুর্দান্ত কাজ করে এই র...     1\n",
      "...                                                  ...   ...\n",
      "18739  RT @arafatul: গত এক দশক ধরে জার্মান রাজনীতি খু...     0\n",
      "18740  না অাছে কোনো পাওয়ার হিটার, না অাছে একটা লেগস্প...     2\n",
      "18741  গাজীপুরের শ্রীপুরে ১০০ পিছ ইয়াবা ও গাঁজাসহ ৩ জ...     2\n",
      "18742   করো উন্নতি হউক বা না হউক মেডামের শরীরের ভালো ...     2\n",
      "18743  খেলোয়াড়দের কথা বাদ দিলাম। বোর্ড, কোচ, নির্বাচক...     2\n",
      "\n",
      "[18744 rows x 2 columns]\n"
     ]
    }
   ],
   "source": [
    "def csv_to_df(csv_file_loc):\n",
    "    df = pd.read_csv(csv_file_loc)\n",
    "    # remove id column\n",
    "    # df = df.drop(columns=['id'])\n",
    "\n",
    "    # replace neutral with 0, positive with 1, negative with 2 in class_label column\n",
    "    df.loc[df['label'] == 'Neutral', 'label'] = 0\n",
    "    df.loc[df['label'] == 'Positive', 'label'] = 1\n",
    "    df.loc[df['label'] == 'Negative', 'label'] = 2\n",
    "\n",
    "    return df\n",
    "\n",
    "\n",
    "train_df = csv_to_df(TRAIN_FILE_LOC)\n",
    "\n",
    "texts = train_df['text'].tolist()\n",
    "print(train_df)\n"
   ]
  },
  {
   "cell_type": "code",
   "execution_count": 6,
   "metadata": {},
   "outputs": [],
   "source": [
    "def compute_metrics(pred):\n",
    "  labels = pred.label_ids\n",
    "  preds = pred.predictions.argmax(-1)\n",
    "  # calculate accuracy using sklearn's function\n",
    "  acc = accuracy_score(labels, preds)\n",
    "  return {\n",
    "      'accuracy': acc,\n",
    "  }\n"
   ]
  },
  {
   "cell_type": "code",
   "execution_count": 7,
   "metadata": {},
   "outputs": [],
   "source": [
    "def f1_calculator(pred):\n",
    "  labels = pred.label_ids\n",
    "  preds = pred.predictions.argmax(-1)\n",
    "  # calculate accuracy using sklearn's function\n",
    "  f1 = f1_score(labels, preds, average='weighted')\n",
    "  return {\n",
    "      'f1': f1,\n",
    "  }\n"
   ]
  },
  {
   "cell_type": "code",
   "execution_count": 8,
   "metadata": {},
   "outputs": [],
   "source": [
    "train_list = tsv_to_text(TRAIN_FILE_LOC)\n",
    "eval_list = tsv_to_text(EVAL_FILE_LOC)\n"
   ]
  },
  {
   "cell_type": "code",
   "execution_count": 9,
   "metadata": {},
   "outputs": [
    {
     "name": "stderr",
     "output_type": "stream",
     "text": [
      "Some weights of the model checkpoint at /home/abdullah/Code/dl/lt_bert/best_models/pruned_best_tiny_bert were not used when initializing BertForSequenceClassification: ['bert.encoder.layer.1.output.dense.weight_mask', 'bert.encoder.layer.0.attention.self.query.weight_mask', 'bert.encoder.layer.1.attention.output.dense.weight_mask', 'cls.predictions.transform.LayerNorm.bias', 'bert.encoder.layer.0.output.dense.weight_orig', 'bert.encoder.layer.0.attention.self.query.weight_orig', 'bert.encoder.layer.1.intermediate.dense.weight_mask', 'bert.encoder.layer.0.attention.output.dense.weight_orig', 'bert.encoder.layer.1.output.dense.weight_orig', 'bert.encoder.layer.0.attention.output.dense.weight_mask', 'bert.encoder.layer.1.attention.self.query.weight_mask', 'cls.predictions.transform.LayerNorm.weight', 'bert.encoder.layer.0.attention.self.value.weight_orig', 'bert.encoder.layer.1.intermediate.dense.weight_orig', 'bert.encoder.layer.0.intermediate.dense.weight_orig', 'bert.encoder.layer.1.attention.self.value.weight_mask', 'cls.predictions.transform.dense.bias', 'bert.encoder.layer.0.attention.self.key.weight_mask', 'cls.predictions.bias', 'bert.encoder.layer.0.attention.self.value.weight_mask', 'bert.encoder.layer.1.attention.self.value.weight_orig', 'bert.encoder.layer.0.output.dense.weight_mask', 'bert.encoder.layer.1.attention.self.key.weight_orig', 'cls.predictions.transform.dense.weight', 'bert.encoder.layer.0.attention.self.key.weight_orig', 'bert.encoder.layer.1.attention.output.dense.weight_orig', 'cls.predictions.decoder.weight', 'bert.encoder.layer.1.attention.self.query.weight_orig', 'cls.predictions.decoder.bias', 'bert.encoder.layer.0.intermediate.dense.weight_mask', 'bert.encoder.layer.1.attention.self.key.weight_mask']\n",
      "- This IS expected if you are initializing BertForSequenceClassification from the checkpoint of a model trained on another task or with another architecture (e.g. initializing a BertForSequenceClassification model from a BertForPreTraining model).\n",
      "- This IS NOT expected if you are initializing BertForSequenceClassification from the checkpoint of a model that you expect to be exactly identical (initializing a BertForSequenceClassification model from a BertForSequenceClassification model).\n",
      "Some weights of BertForSequenceClassification were not initialized from the model checkpoint at /home/abdullah/Code/dl/lt_bert/best_models/pruned_best_tiny_bert and are newly initialized: ['bert.encoder.layer.0.attention.self.value.weight', 'bert.encoder.layer.0.attention.self.query.weight', 'bert.encoder.layer.1.attention.self.value.weight', 'bert.encoder.layer.1.attention.self.key.weight', 'classifier.weight', 'bert.encoder.layer.0.output.dense.weight', 'bert.encoder.layer.0.attention.output.dense.weight', 'bert.encoder.layer.1.attention.output.dense.weight', 'bert.encoder.layer.1.intermediate.dense.weight', 'bert.encoder.layer.0.intermediate.dense.weight', 'bert.encoder.layer.1.attention.self.query.weight', 'classifier.bias', 'bert.encoder.layer.1.output.dense.weight', 'bert.encoder.layer.0.attention.self.key.weight']\n",
      "You should probably TRAIN this model on a down-stream task to be able to use it for predictions and inference.\n"
     ]
    }
   ],
   "source": [
    "os.environ[\"WANDB_DISABLED\"] = \"true\"\n",
    "\n",
    "train_df = csv_to_df(TRAIN_FILE_LOC)\n",
    "eval_df = csv_to_df(EVAL_FILE_LOC)\n",
    "\n",
    "\n",
    "class TINYDataset(Dataset):\n",
    "    def __init__(self, encodings, labels):\n",
    "        self.encodings = encodings\n",
    "        self.labels = labels\n",
    "\n",
    "    def __getitem__(self, idx):\n",
    "        item = {key: torch.tensor(value[idx])\n",
    "                for key, value in self.encodings.items()}\n",
    "        item['labels'] = torch.tensor(self.labels[idx])\n",
    "        return item\n",
    "\n",
    "    def __len__(self):\n",
    "        return len(self.labels)\n",
    "\n",
    "\n",
    "tokenizer = BertTokenizer.from_pretrained(MODEL_NAME)\n",
    "\n",
    "train_encodings = tokenizer(train_df['text'].tolist(), padding=True, truncation=True, max_length=512)\n",
    "eval_encodings = tokenizer(eval_df['text'].tolist(), padding=True, truncation=True, max_length=512)\n",
    "\n",
    "train_dataset = TINYDataset(train_encodings, train_df['label'].tolist())\n",
    "eval_dataset = TINYDataset(eval_encodings, eval_df['label'].tolist())\n",
    "\n",
    "model = BertForSequenceClassification.from_pretrained(MODEL_NAME, num_labels=3).to('cuda')\n",
    "model.manual_seed = 14\n"
   ]
  },
  {
   "cell_type": "markdown",
   "metadata": {},
   "source": [
    "## 1 Epoch Train"
   ]
  },
  {
   "cell_type": "code",
   "execution_count": 10,
   "metadata": {},
   "outputs": [
    {
     "name": "stderr",
     "output_type": "stream",
     "text": [
      "Using the `WAND_DISABLED` environment variable is deprecated and will be removed in v5. Use the --report_to flag to control the integrations used for logging result (for instance --report_to none).\n",
      "***** Running training *****\n",
      "  Num examples = 18744\n",
      "  Num Epochs = 1\n",
      "  Instantaneous batch size per device = 48\n",
      "  Total train batch size (w. parallel, distributed & accumulation) = 48\n",
      "  Gradient Accumulation steps = 1\n",
      "  Total optimization steps = 391\n",
      " 33%|███▎      | 130/391 [00:07<00:14, 18.62it/s]***** Running Evaluation *****\n",
      "  Num examples = 4686\n",
      "  Batch size = 96\n"
     ]
    },
    {
     "name": "stdout",
     "output_type": "stream",
     "text": [
      "{'loss': 1.0859, 'learning_rate': 1.3000000000000001e-05, 'epoch': 0.33}\n"
     ]
    },
    {
     "name": "stderr",
     "output_type": "stream",
     "text": [
      "                                                 \n",
      " 33%|███▎      | 130/391 [00:08<00:14, 18.62it/s]Saving model checkpoint to temp/checkpoint-130\n",
      "Configuration saved in temp/checkpoint-130/config.json\n"
     ]
    },
    {
     "name": "stdout",
     "output_type": "stream",
     "text": [
      "{'eval_loss': 1.074790596961975, 'eval_runtime': 1.4909, 'eval_samples_per_second': 3143.163, 'eval_steps_per_second': 32.867, 'epoch': 0.33}\n"
     ]
    },
    {
     "name": "stderr",
     "output_type": "stream",
     "text": [
      "Model weights saved in temp/checkpoint-130/pytorch_model.bin\n",
      " 66%|██████▋   | 260/391 [00:16<00:06, 19.38it/s]***** Running Evaluation *****\n",
      "  Num examples = 4686\n",
      "  Batch size = 96\n"
     ]
    },
    {
     "name": "stdout",
     "output_type": "stream",
     "text": [
      "{'loss': 1.0667, 'learning_rate': 2.6000000000000002e-05, 'epoch': 0.66}\n"
     ]
    },
    {
     "name": "stderr",
     "output_type": "stream",
     "text": [
      "                                                 \n",
      " 66%|██████▋   | 260/391 [00:18<00:06, 19.38it/s]Saving model checkpoint to temp/checkpoint-260\n",
      "Configuration saved in temp/checkpoint-260/config.json\n"
     ]
    },
    {
     "name": "stdout",
     "output_type": "stream",
     "text": [
      "{'eval_loss': 1.0611416101455688, 'eval_runtime': 1.4938, 'eval_samples_per_second': 3136.897, 'eval_steps_per_second': 32.802, 'epoch': 0.66}\n"
     ]
    },
    {
     "name": "stderr",
     "output_type": "stream",
     "text": [
      "Model weights saved in temp/checkpoint-260/pytorch_model.bin\n",
      "100%|█████████▉| 390/391 [00:26<00:00, 19.35it/s]***** Running Evaluation *****\n",
      "  Num examples = 4686\n",
      "  Batch size = 96\n"
     ]
    },
    {
     "name": "stdout",
     "output_type": "stream",
     "text": [
      "{'loss': 0.9965, 'learning_rate': 3.9000000000000006e-05, 'epoch': 1.0}\n"
     ]
    },
    {
     "name": "stderr",
     "output_type": "stream",
     "text": [
      "                                                 \n",
      "100%|█████████▉| 390/391 [00:28<00:00, 19.35it/s]Saving model checkpoint to temp/checkpoint-390\n",
      "Configuration saved in temp/checkpoint-390/config.json\n"
     ]
    },
    {
     "name": "stdout",
     "output_type": "stream",
     "text": [
      "{'eval_loss': 0.9461308717727661, 'eval_runtime': 1.4958, 'eval_samples_per_second': 3132.682, 'eval_steps_per_second': 32.757, 'epoch': 1.0}\n"
     ]
    },
    {
     "name": "stderr",
     "output_type": "stream",
     "text": [
      "Model weights saved in temp/checkpoint-390/pytorch_model.bin\n",
      "100%|██████████| 391/391 [00:29<00:00,  2.22it/s]\n",
      "\n",
      "Training completed. Do not forget to share your model on huggingface.co/models =)\n",
      "\n",
      "\n",
      "Loading best model from temp/checkpoint-390 (score: 0.9461308717727661).\n",
      "100%|██████████| 391/391 [00:29<00:00, 13.18it/s]"
     ]
    },
    {
     "name": "stdout",
     "output_type": "stream",
     "text": [
      "{'train_runtime': 29.6652, 'train_samples_per_second': 631.85, 'train_steps_per_second': 13.18, 'train_loss': 1.0494939073577256, 'epoch': 1.0}\n"
     ]
    },
    {
     "name": "stderr",
     "output_type": "stream",
     "text": [
      "\n"
     ]
    },
    {
     "data": {
      "text/plain": [
       "TrainOutput(global_step=391, training_loss=1.0494939073577256, metrics={'train_runtime': 29.6652, 'train_samples_per_second': 631.85, 'train_steps_per_second': 13.18, 'train_loss': 1.0494939073577256, 'epoch': 1.0})"
      ]
     },
     "execution_count": 10,
     "metadata": {},
     "output_type": "execute_result"
    }
   ],
   "source": [
    "training_args = TrainingArguments(\n",
    "    output_dir=f\"temp\",\n",
    "    num_train_epochs=1,\n",
    "    per_device_train_batch_size=48,\n",
    "    per_device_eval_batch_size=96,\n",
    "    warmup_steps=500,\n",
    "    learning_rate=5e-5,\n",
    "    weight_decay=0.01,\n",
    "    overwrite_output_dir=True,\n",
    "    logging_dir=f\"temp/logs\",\n",
    "    logging_steps=130,\n",
    "    save_steps=130,\n",
    "    load_best_model_at_end=True,\n",
    "    evaluation_strategy=\"steps\",\n",
    "    seed=14,\n",
    ")\n",
    "\n",
    "trainer = Trainer(\n",
    "    model=model,\n",
    "    args=training_args,\n",
    "    train_dataset=train_dataset,\n",
    "    eval_dataset=eval_dataset\n",
    "\n",
    ")\n",
    "\n",
    "trainer.train()\n"
   ]
  },
  {
   "cell_type": "markdown",
   "metadata": {},
   "source": [
    "## 100 Epoch with 1 epoch model"
   ]
  },
  {
   "cell_type": "code",
   "execution_count": 12,
   "metadata": {},
   "outputs": [
    {
     "name": "stderr",
     "output_type": "stream",
     "text": [
      "loading configuration file /home/abdullah/Code/dl/lt_bert/best_models/1/1_combined_50/config.json\n",
      "Model config BertConfig {\n",
      "  \"_name_or_path\": \"/home/abdullah/Code/dl/lt_bert/best_models/pruned_best_tiny_bert\",\n",
      "  \"architectures\": [\n",
      "    \"BertForSequenceClassification\"\n",
      "  ],\n",
      "  \"attention_probs_dropout_prob\": 0.1,\n",
      "  \"classifier_dropout\": null,\n",
      "  \"hidden_act\": \"gelu\",\n",
      "  \"hidden_dropout_prob\": 0.1,\n",
      "  \"hidden_size\": 128,\n",
      "  \"id2label\": {\n",
      "    \"0\": \"LABEL_0\",\n",
      "    \"1\": \"LABEL_1\",\n",
      "    \"2\": \"LABEL_2\"\n",
      "  },\n",
      "  \"initializer_range\": 0.02,\n",
      "  \"intermediate_size\": 512,\n",
      "  \"label2id\": {\n",
      "    \"LABEL_0\": 0,\n",
      "    \"LABEL_1\": 1,\n",
      "    \"LABEL_2\": 2\n",
      "  },\n",
      "  \"layer_norm_eps\": 1e-12,\n",
      "  \"max_position_embeddings\": 512,\n",
      "  \"model_type\": \"bert\",\n",
      "  \"num_attention_heads\": 2,\n",
      "  \"num_hidden_layers\": 2,\n",
      "  \"pad_token_id\": 0,\n",
      "  \"position_embedding_type\": \"absolute\",\n",
      "  \"problem_type\": \"single_label_classification\",\n",
      "  \"torch_dtype\": \"float32\",\n",
      "  \"transformers_version\": \"4.12.5\",\n",
      "  \"type_vocab_size\": 2,\n",
      "  \"use_cache\": true,\n",
      "  \"vocab_size\": 30522\n",
      "}\n",
      "\n",
      "loading weights file /home/abdullah/Code/dl/lt_bert/best_models/1/1_combined_50/pytorch_model.bin\n",
      "All model checkpoint weights were used when initializing BertForSequenceClassification.\n",
      "\n",
      "All the weights of BertForSequenceClassification were initialized from the model checkpoint at /home/abdullah/Code/dl/lt_bert/best_models/1/1_combined_50.\n",
      "If your task is similar to the task the model of the checkpoint was trained on, you can already use BertForSequenceClassification for predictions without further training.\n",
      "using `logging_steps` to initialize `eval_steps` to 400\n",
      "PyTorch: setting up devices\n",
      "The default value for the training argument `--report_to` will change in v5 (from all installed integrations to none). In v5, you will need to use `--report_to all` to get the same behavior as now. You should start updating your code and make this info disappear :-).\n",
      "Using the `WAND_DISABLED` environment variable is deprecated and will be removed in v5. Use the --report_to flag to control the integrations used for logging result (for instance --report_to none).\n",
      "***** Running training *****\n",
      "  Num examples = 18744\n",
      "  Num Epochs = 100\n",
      "  Instantaneous batch size per device = 192\n",
      "  Total train batch size (w. parallel, distributed & accumulation) = 192\n",
      "  Gradient Accumulation steps = 1\n",
      "  Total optimization steps = 9800\n",
      "  4%|▍         | 400/9800 [01:11<27:42,  5.66it/s]***** Running Evaluation *****\n",
      "  Num examples = 4686\n",
      "  Batch size = 384\n"
     ]
    },
    {
     "name": "stdout",
     "output_type": "stream",
     "text": [
      "{'loss': 0.932, 'learning_rate': 4e-05, 'epoch': 4.08}\n"
     ]
    },
    {
     "name": "stderr",
     "output_type": "stream",
     "text": [
      "                                                  \n",
      "  4%|▍         | 400/9800 [01:13<27:42,  5.66it/s]Saving model checkpoint to temp/checkpoint-400\n",
      "Configuration saved in temp/checkpoint-400/config.json\n"
     ]
    },
    {
     "name": "stdout",
     "output_type": "stream",
     "text": [
      "{'eval_loss': 0.9268326163291931, 'eval_f1': 0.4224656966846347, 'eval_runtime': 1.7821, 'eval_samples_per_second': 2629.452, 'eval_steps_per_second': 7.295, 'epoch': 4.08}\n"
     ]
    },
    {
     "name": "stderr",
     "output_type": "stream",
     "text": [
      "Model weights saved in temp/checkpoint-400/pytorch_model.bin\n",
      "  8%|▊         | 800/9800 [02:26<26:48,  5.60it/s]  ***** Running Evaluation *****\n",
      "  Num examples = 4686\n",
      "  Batch size = 384\n"
     ]
    },
    {
     "name": "stdout",
     "output_type": "stream",
     "text": [
      "{'loss': 0.9124, 'learning_rate': 4.8387096774193554e-05, 'epoch': 8.16}\n"
     ]
    },
    {
     "name": "stderr",
     "output_type": "stream",
     "text": [
      "                                                  \n",
      "  8%|▊         | 800/9800 [02:27<26:48,  5.60it/s]Saving model checkpoint to temp/checkpoint-800\n",
      "Configuration saved in temp/checkpoint-800/config.json\n"
     ]
    },
    {
     "name": "stdout",
     "output_type": "stream",
     "text": [
      "{'eval_loss': 0.8964125514030457, 'eval_f1': 0.4446060169844989, 'eval_runtime': 1.7923, 'eval_samples_per_second': 2614.513, 'eval_steps_per_second': 7.253, 'epoch': 8.16}\n"
     ]
    },
    {
     "name": "stderr",
     "output_type": "stream",
     "text": [
      "Model weights saved in temp/checkpoint-800/pytorch_model.bin\n",
      " 12%|█▏        | 1200/9800 [03:40<25:52,  5.54it/s] ***** Running Evaluation *****\n",
      "  Num examples = 4686\n",
      "  Batch size = 384\n"
     ]
    },
    {
     "name": "stdout",
     "output_type": "stream",
     "text": [
      "{'loss': 0.8501, 'learning_rate': 4.6236559139784944e-05, 'epoch': 12.24}\n"
     ]
    },
    {
     "name": "stderr",
     "output_type": "stream",
     "text": [
      "                                                   \n",
      " 12%|█▏        | 1200/9800 [03:42<25:52,  5.54it/s]Saving model checkpoint to temp/checkpoint-1200\n",
      "Configuration saved in temp/checkpoint-1200/config.json\n"
     ]
    },
    {
     "name": "stdout",
     "output_type": "stream",
     "text": [
      "{'eval_loss': 0.8312300443649292, 'eval_f1': 0.6217534669756833, 'eval_runtime': 1.79, 'eval_samples_per_second': 2617.855, 'eval_steps_per_second': 7.263, 'epoch': 12.24}\n"
     ]
    },
    {
     "name": "stderr",
     "output_type": "stream",
     "text": [
      "Model weights saved in temp/checkpoint-1200/pytorch_model.bin\n",
      " 16%|█▋        | 1600/9800 [04:54<24:16,  5.63it/s]  ***** Running Evaluation *****\n",
      "  Num examples = 4686\n",
      "  Batch size = 384\n"
     ]
    },
    {
     "name": "stdout",
     "output_type": "stream",
     "text": [
      "{'loss': 0.8131, 'learning_rate': 4.408602150537635e-05, 'epoch': 16.33}\n"
     ]
    },
    {
     "name": "stderr",
     "output_type": "stream",
     "text": [
      "                                                   \n",
      " 16%|█▋        | 1600/9800 [04:56<24:16,  5.63it/s]Saving model checkpoint to temp/checkpoint-1600\n",
      "Configuration saved in temp/checkpoint-1600/config.json\n"
     ]
    },
    {
     "name": "stdout",
     "output_type": "stream",
     "text": [
      "{'eval_loss': 0.8229454755783081, 'eval_f1': 0.6303078160918113, 'eval_runtime': 1.7896, 'eval_samples_per_second': 2618.526, 'eval_steps_per_second': 7.264, 'epoch': 16.33}\n"
     ]
    },
    {
     "name": "stderr",
     "output_type": "stream",
     "text": [
      "Model weights saved in temp/checkpoint-1600/pytorch_model.bin\n",
      " 20%|██        | 2000/9800 [06:08<23:00,  5.65it/s]  ***** Running Evaluation *****\n",
      "  Num examples = 4686\n",
      "  Batch size = 384\n"
     ]
    },
    {
     "name": "stdout",
     "output_type": "stream",
     "text": [
      "{'loss': 0.7938, 'learning_rate': 4.1935483870967746e-05, 'epoch': 20.41}\n"
     ]
    },
    {
     "name": "stderr",
     "output_type": "stream",
     "text": [
      "                                                   \n",
      " 20%|██        | 2000/9800 [06:10<23:00,  5.65it/s]Saving model checkpoint to temp/checkpoint-2000\n",
      "Configuration saved in temp/checkpoint-2000/config.json\n"
     ]
    },
    {
     "name": "stdout",
     "output_type": "stream",
     "text": [
      "{'eval_loss': 0.8207581639289856, 'eval_f1': 0.6361189965223594, 'eval_runtime': 1.768, 'eval_samples_per_second': 2650.393, 'eval_steps_per_second': 7.353, 'epoch': 20.41}\n"
     ]
    },
    {
     "name": "stderr",
     "output_type": "stream",
     "text": [
      "Model weights saved in temp/checkpoint-2000/pytorch_model.bin\n",
      " 24%|██▍       | 2400/9800 [07:22<21:51,  5.64it/s]  ***** Running Evaluation *****\n",
      "  Num examples = 4686\n",
      "  Batch size = 384\n"
     ]
    },
    {
     "name": "stdout",
     "output_type": "stream",
     "text": [
      "{'loss': 0.7735, 'learning_rate': 3.978494623655914e-05, 'epoch': 24.49}\n"
     ]
    },
    {
     "name": "stderr",
     "output_type": "stream",
     "text": [
      "                                                   \n",
      " 24%|██▍       | 2400/9800 [07:24<21:51,  5.64it/s]Saving model checkpoint to temp/checkpoint-2400\n",
      "Configuration saved in temp/checkpoint-2400/config.json\n"
     ]
    },
    {
     "name": "stdout",
     "output_type": "stream",
     "text": [
      "{'eval_loss': 0.8200910687446594, 'eval_f1': 0.6452599890285028, 'eval_runtime': 1.7918, 'eval_samples_per_second': 2615.18, 'eval_steps_per_second': 7.255, 'epoch': 24.49}\n"
     ]
    },
    {
     "name": "stderr",
     "output_type": "stream",
     "text": [
      "Model weights saved in temp/checkpoint-2400/pytorch_model.bin\n",
      " 29%|██▊       | 2800/9800 [08:36<20:53,  5.58it/s]  ***** Running Evaluation *****\n",
      "  Num examples = 4686\n",
      "  Batch size = 384\n"
     ]
    },
    {
     "name": "stdout",
     "output_type": "stream",
     "text": [
      "{'loss': 0.7484, 'learning_rate': 3.763440860215054e-05, 'epoch': 28.57}\n"
     ]
    },
    {
     "name": "stderr",
     "output_type": "stream",
     "text": [
      "                                                   \n",
      " 29%|██▊       | 2800/9800 [08:38<20:53,  5.58it/s]Saving model checkpoint to temp/checkpoint-2800\n",
      "Configuration saved in temp/checkpoint-2800/config.json\n"
     ]
    },
    {
     "name": "stdout",
     "output_type": "stream",
     "text": [
      "{'eval_loss': 0.8233359456062317, 'eval_f1': 0.6476206525982856, 'eval_runtime': 1.7743, 'eval_samples_per_second': 2640.993, 'eval_steps_per_second': 7.327, 'epoch': 28.57}\n"
     ]
    },
    {
     "name": "stderr",
     "output_type": "stream",
     "text": [
      "Model weights saved in temp/checkpoint-2800/pytorch_model.bin\n",
      " 33%|███▎      | 3200/9800 [09:51<19:41,  5.58it/s]  ***** Running Evaluation *****\n",
      "  Num examples = 4686\n",
      "  Batch size = 384\n"
     ]
    },
    {
     "name": "stdout",
     "output_type": "stream",
     "text": [
      "{'loss': 0.7295, 'learning_rate': 3.548387096774194e-05, 'epoch': 32.65}\n"
     ]
    },
    {
     "name": "stderr",
     "output_type": "stream",
     "text": [
      "                                                   \n",
      " 33%|███▎      | 3200/9800 [09:52<19:41,  5.58it/s]Saving model checkpoint to temp/checkpoint-3200\n",
      "Configuration saved in temp/checkpoint-3200/config.json\n"
     ]
    },
    {
     "name": "stdout",
     "output_type": "stream",
     "text": [
      "{'eval_loss': 0.8262816071510315, 'eval_f1': 0.6453565663825808, 'eval_runtime': 1.7757, 'eval_samples_per_second': 2638.977, 'eval_steps_per_second': 7.321, 'epoch': 32.65}\n"
     ]
    },
    {
     "name": "stderr",
     "output_type": "stream",
     "text": [
      "Model weights saved in temp/checkpoint-3200/pytorch_model.bin\n",
      " 37%|███▋      | 3600/9800 [11:05<18:26,  5.60it/s]  ***** Running Evaluation *****\n",
      "  Num examples = 4686\n",
      "  Batch size = 384\n"
     ]
    },
    {
     "name": "stdout",
     "output_type": "stream",
     "text": [
      "{'loss': 0.7153, 'learning_rate': 3.3333333333333335e-05, 'epoch': 36.73}\n"
     ]
    },
    {
     "name": "stderr",
     "output_type": "stream",
     "text": [
      "                                                   \n",
      " 37%|███▋      | 3600/9800 [11:07<18:26,  5.60it/s]Saving model checkpoint to temp/checkpoint-3600\n",
      "Configuration saved in temp/checkpoint-3600/config.json\n"
     ]
    },
    {
     "name": "stdout",
     "output_type": "stream",
     "text": [
      "{'eval_loss': 0.8320893049240112, 'eval_f1': 0.6491470214549394, 'eval_runtime': 1.7775, 'eval_samples_per_second': 2636.335, 'eval_steps_per_second': 7.314, 'epoch': 36.73}\n"
     ]
    },
    {
     "name": "stderr",
     "output_type": "stream",
     "text": [
      "Model weights saved in temp/checkpoint-3600/pytorch_model.bin\n",
      " 41%|████      | 4000/9800 [12:19<17:08,  5.64it/s]  ***** Running Evaluation *****\n",
      "  Num examples = 4686\n",
      "  Batch size = 384\n"
     ]
    },
    {
     "name": "stdout",
     "output_type": "stream",
     "text": [
      "{'loss': 0.7029, 'learning_rate': 3.118279569892473e-05, 'epoch': 40.82}\n"
     ]
    },
    {
     "name": "stderr",
     "output_type": "stream",
     "text": [
      "                                                   \n",
      " 41%|████      | 4000/9800 [12:21<17:08,  5.64it/s]Saving model checkpoint to temp/checkpoint-4000\n",
      "Configuration saved in temp/checkpoint-4000/config.json\n"
     ]
    },
    {
     "name": "stdout",
     "output_type": "stream",
     "text": [
      "{'eval_loss': 0.8421012759208679, 'eval_f1': 0.6511020057079464, 'eval_runtime': 1.7771, 'eval_samples_per_second': 2636.855, 'eval_steps_per_second': 7.315, 'epoch': 40.82}\n"
     ]
    },
    {
     "name": "stderr",
     "output_type": "stream",
     "text": [
      "Model weights saved in temp/checkpoint-4000/pytorch_model.bin\n",
      " 45%|████▍     | 4400/9800 [13:33<15:50,  5.68it/s]  ***** Running Evaluation *****\n",
      "  Num examples = 4686\n",
      "  Batch size = 384\n"
     ]
    },
    {
     "name": "stdout",
     "output_type": "stream",
     "text": [
      "{'loss': 0.6938, 'learning_rate': 2.9032258064516133e-05, 'epoch': 44.9}\n"
     ]
    },
    {
     "name": "stderr",
     "output_type": "stream",
     "text": [
      "                                                   \n",
      " 45%|████▍     | 4400/9800 [13:34<15:50,  5.68it/s]Saving model checkpoint to temp/checkpoint-4400\n",
      "Configuration saved in temp/checkpoint-4400/config.json\n"
     ]
    },
    {
     "name": "stdout",
     "output_type": "stream",
     "text": [
      "{'eval_loss': 0.8491581678390503, 'eval_f1': 0.6514259094708419, 'eval_runtime': 1.7567, 'eval_samples_per_second': 2667.45, 'eval_steps_per_second': 7.4, 'epoch': 44.9}\n"
     ]
    },
    {
     "name": "stderr",
     "output_type": "stream",
     "text": [
      "Model weights saved in temp/checkpoint-4400/pytorch_model.bin\n",
      " 49%|████▉     | 4800/9800 [14:46<14:54,  5.59it/s]  ***** Running Evaluation *****\n",
      "  Num examples = 4686\n",
      "  Batch size = 384\n"
     ]
    },
    {
     "name": "stdout",
     "output_type": "stream",
     "text": [
      "{'loss': 0.6857, 'learning_rate': 2.6881720430107527e-05, 'epoch': 48.98}\n"
     ]
    },
    {
     "name": "stderr",
     "output_type": "stream",
     "text": [
      "                                                   \n",
      " 49%|████▉     | 4800/9800 [14:48<14:54,  5.59it/s]Saving model checkpoint to temp/checkpoint-4800\n",
      "Configuration saved in temp/checkpoint-4800/config.json\n"
     ]
    },
    {
     "name": "stdout",
     "output_type": "stream",
     "text": [
      "{'eval_loss': 0.8590767979621887, 'eval_f1': 0.6466339467371769, 'eval_runtime': 1.7841, 'eval_samples_per_second': 2626.543, 'eval_steps_per_second': 7.287, 'epoch': 48.98}\n"
     ]
    },
    {
     "name": "stderr",
     "output_type": "stream",
     "text": [
      "Model weights saved in temp/checkpoint-4800/pytorch_model.bin\n",
      " 53%|█████▎    | 5200/9800 [16:01<13:26,  5.70it/s]  ***** Running Evaluation *****\n",
      "  Num examples = 4686\n",
      "  Batch size = 384\n"
     ]
    },
    {
     "name": "stdout",
     "output_type": "stream",
     "text": [
      "{'loss': 0.6782, 'learning_rate': 2.4731182795698928e-05, 'epoch': 53.06}\n"
     ]
    },
    {
     "name": "stderr",
     "output_type": "stream",
     "text": [
      "                                                   \n",
      " 53%|█████▎    | 5200/9800 [16:02<13:26,  5.70it/s]Saving model checkpoint to temp/checkpoint-5200\n",
      "Configuration saved in temp/checkpoint-5200/config.json\n"
     ]
    },
    {
     "name": "stdout",
     "output_type": "stream",
     "text": [
      "{'eval_loss': 0.8638338446617126, 'eval_f1': 0.6449579607758779, 'eval_runtime': 1.7694, 'eval_samples_per_second': 2648.414, 'eval_steps_per_second': 7.347, 'epoch': 53.06}\n"
     ]
    },
    {
     "name": "stderr",
     "output_type": "stream",
     "text": [
      "Model weights saved in temp/checkpoint-5200/pytorch_model.bin\n",
      " 57%|█████▋    | 5600/9800 [17:14<12:27,  5.62it/s]  ***** Running Evaluation *****\n",
      "  Num examples = 4686\n",
      "  Batch size = 384\n"
     ]
    },
    {
     "name": "stdout",
     "output_type": "stream",
     "text": [
      "{'loss': 0.672, 'learning_rate': 2.258064516129032e-05, 'epoch': 57.14}\n"
     ]
    },
    {
     "name": "stderr",
     "output_type": "stream",
     "text": [
      "                                                   \n",
      " 57%|█████▋    | 5600/9800 [17:16<12:27,  5.62it/s]Saving model checkpoint to temp/checkpoint-5600\n",
      "Configuration saved in temp/checkpoint-5600/config.json\n"
     ]
    },
    {
     "name": "stdout",
     "output_type": "stream",
     "text": [
      "{'eval_loss': 0.8725993633270264, 'eval_f1': 0.6429306245083211, 'eval_runtime': 1.7852, 'eval_samples_per_second': 2624.967, 'eval_steps_per_second': 7.282, 'epoch': 57.14}\n"
     ]
    },
    {
     "name": "stderr",
     "output_type": "stream",
     "text": [
      "Model weights saved in temp/checkpoint-5600/pytorch_model.bin\n",
      " 61%|██████    | 6000/9800 [18:28<11:12,  5.65it/s]  ***** Running Evaluation *****\n",
      "  Num examples = 4686\n",
      "  Batch size = 384\n"
     ]
    },
    {
     "name": "stdout",
     "output_type": "stream",
     "text": [
      "{'loss': 0.6655, 'learning_rate': 2.0430107526881722e-05, 'epoch': 61.22}\n"
     ]
    },
    {
     "name": "stderr",
     "output_type": "stream",
     "text": [
      "                                                   \n",
      " 61%|██████    | 6000/9800 [18:30<11:12,  5.65it/s]Saving model checkpoint to temp/checkpoint-6000\n",
      "Configuration saved in temp/checkpoint-6000/config.json\n"
     ]
    },
    {
     "name": "stdout",
     "output_type": "stream",
     "text": [
      "{'eval_loss': 0.8746367692947388, 'eval_f1': 0.647092830446133, 'eval_runtime': 1.7613, 'eval_samples_per_second': 2660.464, 'eval_steps_per_second': 7.381, 'epoch': 61.22}\n"
     ]
    },
    {
     "name": "stderr",
     "output_type": "stream",
     "text": [
      "Model weights saved in temp/checkpoint-6000/pytorch_model.bin\n",
      " 65%|██████▌   | 6400/9800 [19:42<10:02,  5.65it/s]  ***** Running Evaluation *****\n",
      "  Num examples = 4686\n",
      "  Batch size = 384\n"
     ]
    },
    {
     "name": "stdout",
     "output_type": "stream",
     "text": [
      "{'loss': 0.6642, 'learning_rate': 1.827956989247312e-05, 'epoch': 65.31}\n"
     ]
    },
    {
     "name": "stderr",
     "output_type": "stream",
     "text": [
      "                                                   \n",
      " 65%|██████▌   | 6400/9800 [19:44<10:02,  5.65it/s]Saving model checkpoint to temp/checkpoint-6400\n",
      "Configuration saved in temp/checkpoint-6400/config.json\n"
     ]
    },
    {
     "name": "stdout",
     "output_type": "stream",
     "text": [
      "{'eval_loss': 0.8770627379417419, 'eval_f1': 0.6460668975469535, 'eval_runtime': 1.7627, 'eval_samples_per_second': 2658.408, 'eval_steps_per_second': 7.375, 'epoch': 65.31}\n"
     ]
    },
    {
     "name": "stderr",
     "output_type": "stream",
     "text": [
      "Model weights saved in temp/checkpoint-6400/pytorch_model.bin\n",
      " 69%|██████▉   | 6800/9800 [20:57<08:48,  5.68it/s]  ***** Running Evaluation *****\n",
      "  Num examples = 4686\n",
      "  Batch size = 384\n"
     ]
    },
    {
     "name": "stdout",
     "output_type": "stream",
     "text": [
      "{'loss': 0.6588, 'learning_rate': 1.6129032258064517e-05, 'epoch': 69.39}\n"
     ]
    },
    {
     "name": "stderr",
     "output_type": "stream",
     "text": [
      "                                                   \n",
      " 69%|██████▉   | 6800/9800 [20:58<08:48,  5.68it/s]Saving model checkpoint to temp/checkpoint-6800\n",
      "Configuration saved in temp/checkpoint-6800/config.json\n"
     ]
    },
    {
     "name": "stdout",
     "output_type": "stream",
     "text": [
      "{'eval_loss': 0.883075475692749, 'eval_f1': 0.6481030195503154, 'eval_runtime': 1.742, 'eval_samples_per_second': 2690.061, 'eval_steps_per_second': 7.463, 'epoch': 69.39}\n"
     ]
    },
    {
     "name": "stderr",
     "output_type": "stream",
     "text": [
      "Model weights saved in temp/checkpoint-6800/pytorch_model.bin\n",
      " 73%|███████▎  | 7200/9800 [22:10<07:37,  5.68it/s]***** Running Evaluation *****\n",
      "  Num examples = 4686\n",
      "  Batch size = 384\n"
     ]
    },
    {
     "name": "stdout",
     "output_type": "stream",
     "text": [
      "{'loss': 0.6569, 'learning_rate': 1.3978494623655914e-05, 'epoch': 73.47}\n"
     ]
    },
    {
     "name": "stderr",
     "output_type": "stream",
     "text": [
      "                                                   \n",
      " 73%|███████▎  | 7200/9800 [22:12<07:37,  5.68it/s]Saving model checkpoint to temp/checkpoint-7200\n",
      "Configuration saved in temp/checkpoint-7200/config.json\n"
     ]
    },
    {
     "name": "stdout",
     "output_type": "stream",
     "text": [
      "{'eval_loss': 0.8839555978775024, 'eval_f1': 0.6458400874312616, 'eval_runtime': 1.7621, 'eval_samples_per_second': 2659.369, 'eval_steps_per_second': 7.378, 'epoch': 73.47}\n"
     ]
    },
    {
     "name": "stderr",
     "output_type": "stream",
     "text": [
      "Model weights saved in temp/checkpoint-7200/pytorch_model.bin\n",
      " 78%|███████▊  | 7600/9800 [23:23<06:29,  5.65it/s]***** Running Evaluation *****\n",
      "  Num examples = 4686\n",
      "  Batch size = 384\n"
     ]
    },
    {
     "name": "stdout",
     "output_type": "stream",
     "text": [
      "{'loss': 0.6561, 'learning_rate': 1.1827956989247313e-05, 'epoch': 77.55}\n"
     ]
    },
    {
     "name": "stderr",
     "output_type": "stream",
     "text": [
      "                                                   \n",
      " 78%|███████▊  | 7600/9800 [23:25<06:29,  5.65it/s]Saving model checkpoint to temp/checkpoint-7600\n",
      "Configuration saved in temp/checkpoint-7600/config.json\n"
     ]
    },
    {
     "name": "stdout",
     "output_type": "stream",
     "text": [
      "{'eval_loss': 0.8886541724205017, 'eval_f1': 0.6436692793144205, 'eval_runtime': 1.7676, 'eval_samples_per_second': 2651.081, 'eval_steps_per_second': 7.355, 'epoch': 77.55}\n"
     ]
    },
    {
     "name": "stderr",
     "output_type": "stream",
     "text": [
      "Model weights saved in temp/checkpoint-7600/pytorch_model.bin\n",
      " 82%|████████▏ | 8000/9800 [24:38<05:20,  5.62it/s]***** Running Evaluation *****\n",
      "  Num examples = 4686\n",
      "  Batch size = 384\n"
     ]
    },
    {
     "name": "stdout",
     "output_type": "stream",
     "text": [
      "{'loss': 0.6512, 'learning_rate': 9.67741935483871e-06, 'epoch': 81.63}\n"
     ]
    },
    {
     "name": "stderr",
     "output_type": "stream",
     "text": [
      "                                                   \n",
      " 82%|████████▏ | 8000/9800 [24:40<05:20,  5.62it/s]Saving model checkpoint to temp/checkpoint-8000\n",
      "Configuration saved in temp/checkpoint-8000/config.json\n"
     ]
    },
    {
     "name": "stdout",
     "output_type": "stream",
     "text": [
      "{'eval_loss': 0.891326904296875, 'eval_f1': 0.64345817866895, 'eval_runtime': 1.7765, 'eval_samples_per_second': 2637.828, 'eval_steps_per_second': 7.318, 'epoch': 81.63}\n"
     ]
    },
    {
     "name": "stderr",
     "output_type": "stream",
     "text": [
      "Model weights saved in temp/checkpoint-8000/pytorch_model.bin\n",
      " 86%|████████▌ | 8400/9800 [25:52<04:09,  5.61it/s]***** Running Evaluation *****\n",
      "  Num examples = 4686\n",
      "  Batch size = 384\n"
     ]
    },
    {
     "name": "stdout",
     "output_type": "stream",
     "text": [
      "{'loss': 0.6505, 'learning_rate': 7.526881720430108e-06, 'epoch': 85.71}\n"
     ]
    },
    {
     "name": "stderr",
     "output_type": "stream",
     "text": [
      "                                                   \n",
      " 86%|████████▌ | 8400/9800 [25:53<04:09,  5.61it/s]Saving model checkpoint to temp/checkpoint-8400\n",
      "Configuration saved in temp/checkpoint-8400/config.json\n"
     ]
    },
    {
     "name": "stdout",
     "output_type": "stream",
     "text": [
      "{'eval_loss': 0.8938393592834473, 'eval_f1': 0.6439761192210715, 'eval_runtime': 1.7868, 'eval_samples_per_second': 2622.578, 'eval_steps_per_second': 7.276, 'epoch': 85.71}\n"
     ]
    },
    {
     "name": "stderr",
     "output_type": "stream",
     "text": [
      "Model weights saved in temp/checkpoint-8400/pytorch_model.bin\n",
      " 90%|████████▉ | 8800/9800 [27:05<02:57,  5.64it/s]***** Running Evaluation *****\n",
      "  Num examples = 4686\n",
      "  Batch size = 384\n"
     ]
    },
    {
     "name": "stdout",
     "output_type": "stream",
     "text": [
      "{'loss': 0.6477, 'learning_rate': 5.376344086021506e-06, 'epoch': 89.8}\n"
     ]
    },
    {
     "name": "stderr",
     "output_type": "stream",
     "text": [
      "                                                   \n",
      " 90%|████████▉ | 8800/9800 [27:07<02:57,  5.64it/s]Saving model checkpoint to temp/checkpoint-8800\n",
      "Configuration saved in temp/checkpoint-8800/config.json\n"
     ]
    },
    {
     "name": "stdout",
     "output_type": "stream",
     "text": [
      "{'eval_loss': 0.895429790019989, 'eval_f1': 0.6443165636170556, 'eval_runtime': 1.7621, 'eval_samples_per_second': 2659.27, 'eval_steps_per_second': 7.377, 'epoch': 89.8}\n"
     ]
    },
    {
     "name": "stderr",
     "output_type": "stream",
     "text": [
      "Model weights saved in temp/checkpoint-8800/pytorch_model.bin\n",
      " 94%|█████████▍| 9200/9800 [28:19<01:46,  5.64it/s]***** Running Evaluation *****\n",
      "  Num examples = 4686\n",
      "  Batch size = 384\n"
     ]
    },
    {
     "name": "stdout",
     "output_type": "stream",
     "text": [
      "{'loss': 0.6446, 'learning_rate': 3.225806451612903e-06, 'epoch': 93.88}\n"
     ]
    },
    {
     "name": "stderr",
     "output_type": "stream",
     "text": [
      "                                                   \n",
      " 94%|█████████▍| 9200/9800 [28:21<01:46,  5.64it/s]Saving model checkpoint to temp/checkpoint-9200\n",
      "Configuration saved in temp/checkpoint-9200/config.json\n"
     ]
    },
    {
     "name": "stdout",
     "output_type": "stream",
     "text": [
      "{'eval_loss': 0.8963251709938049, 'eval_f1': 0.6432787440829502, 'eval_runtime': 1.7612, 'eval_samples_per_second': 2660.755, 'eval_steps_per_second': 7.382, 'epoch': 93.88}\n"
     ]
    },
    {
     "name": "stderr",
     "output_type": "stream",
     "text": [
      "Model weights saved in temp/checkpoint-9200/pytorch_model.bin\n",
      " 98%|█████████▊| 9600/9800 [29:33<00:35,  5.58it/s]***** Running Evaluation *****\n",
      "  Num examples = 4686\n",
      "  Batch size = 384\n"
     ]
    },
    {
     "name": "stdout",
     "output_type": "stream",
     "text": [
      "{'loss': 0.6474, 'learning_rate': 1.0752688172043011e-06, 'epoch': 97.96}\n"
     ]
    },
    {
     "name": "stderr",
     "output_type": "stream",
     "text": [
      "                                                   \n",
      " 98%|█████████▊| 9600/9800 [29:35<00:35,  5.58it/s]Saving model checkpoint to temp/checkpoint-9600\n",
      "Configuration saved in temp/checkpoint-9600/config.json\n"
     ]
    },
    {
     "name": "stdout",
     "output_type": "stream",
     "text": [
      "{'eval_loss': 0.8975085616111755, 'eval_f1': 0.6430413426041153, 'eval_runtime': 1.7746, 'eval_samples_per_second': 2640.543, 'eval_steps_per_second': 7.325, 'epoch': 97.96}\n"
     ]
    },
    {
     "name": "stderr",
     "output_type": "stream",
     "text": [
      "Model weights saved in temp/checkpoint-9600/pytorch_model.bin\n",
      "100%|██████████| 9800/9800 [30:12<00:00,  6.27it/s]\n",
      "\n",
      "Training completed. Do not forget to share your model on huggingface.co/models =)\n",
      "\n",
      "\n",
      "Loading best model from temp/checkpoint-2400 (score: 0.8200910687446594).\n",
      "100%|██████████| 9800/9800 [30:12<00:00,  5.41it/s]\n",
      "***** Running training *****\n",
      "  Num examples = 18744\n",
      "  Num Epochs = 100\n",
      "  Instantaneous batch size per device = 192\n",
      "  Total train batch size (w. parallel, distributed & accumulation) = 192\n",
      "  Gradient Accumulation steps = 1\n",
      "  Total optimization steps = 9800\n"
     ]
    },
    {
     "name": "stdout",
     "output_type": "stream",
     "text": [
      "{'train_runtime': 1812.2248, 'train_samples_per_second': 1034.309, 'train_steps_per_second': 5.408, 'train_loss': 0.7169937663175622, 'epoch': 100.0}\n"
     ]
    },
    {
     "name": "stderr",
     "output_type": "stream",
     "text": [
      "  4%|▍         | 400/9800 [01:11<27:37,  5.67it/s]***** Running Evaluation *****\n",
      "  Num examples = 4686\n",
      "  Batch size = 384\n"
     ]
    },
    {
     "name": "stdout",
     "output_type": "stream",
     "text": [
      "{'loss': 0.7532, 'learning_rate': 4e-05, 'epoch': 4.08}\n"
     ]
    },
    {
     "name": "stderr",
     "output_type": "stream",
     "text": [
      "\n",
      "  4%|▍         | 400/9800 [01:13<27:37,  5.67it/s]Saving model checkpoint to temp/checkpoint-400\n",
      "Configuration saved in temp/checkpoint-400/config.json\n"
     ]
    },
    {
     "name": "stdout",
     "output_type": "stream",
     "text": [
      "{'eval_loss': 0.8267119526863098, 'eval_accuracy': 0.6457533077251387, 'eval_runtime': 1.7752, 'eval_samples_per_second': 2639.645, 'eval_steps_per_second': 7.323, 'epoch': 4.08}\n"
     ]
    },
    {
     "name": "stderr",
     "output_type": "stream",
     "text": [
      "Model weights saved in temp/checkpoint-400/pytorch_model.bin\n",
      "  8%|▊         | 800/9800 [02:25<26:42,  5.62it/s]  ***** Running Evaluation *****\n",
      "  Num examples = 4686\n",
      "  Batch size = 384\n"
     ]
    },
    {
     "name": "stdout",
     "output_type": "stream",
     "text": [
      "{'loss': 0.7424, 'learning_rate': 4.8387096774193554e-05, 'epoch': 8.16}\n"
     ]
    },
    {
     "name": "stderr",
     "output_type": "stream",
     "text": [
      "\n",
      "  8%|▊         | 800/9800 [02:27<26:42,  5.62it/s]Saving model checkpoint to temp/checkpoint-800\n",
      "Configuration saved in temp/checkpoint-800/config.json\n"
     ]
    },
    {
     "name": "stdout",
     "output_type": "stream",
     "text": [
      "{'eval_loss': 0.8244216442108154, 'eval_accuracy': 0.6487409304310713, 'eval_runtime': 1.7923, 'eval_samples_per_second': 2614.483, 'eval_steps_per_second': 7.253, 'epoch': 8.16}\n"
     ]
    },
    {
     "name": "stderr",
     "output_type": "stream",
     "text": [
      "Model weights saved in temp/checkpoint-800/pytorch_model.bin\n",
      " 12%|█▏        | 1200/9800 [03:40<25:36,  5.60it/s] ***** Running Evaluation *****\n",
      "  Num examples = 4686\n",
      "  Batch size = 384\n"
     ]
    },
    {
     "name": "stdout",
     "output_type": "stream",
     "text": [
      "{'loss': 0.7215, 'learning_rate': 4.6236559139784944e-05, 'epoch': 12.24}\n"
     ]
    },
    {
     "name": "stderr",
     "output_type": "stream",
     "text": [
      "\n",
      " 12%|█▏        | 1200/9800 [03:41<25:36,  5.60it/s]Saving model checkpoint to temp/checkpoint-1200\n",
      "Configuration saved in temp/checkpoint-1200/config.json\n"
     ]
    },
    {
     "name": "stdout",
     "output_type": "stream",
     "text": [
      "{'eval_loss': 0.835204541683197, 'eval_accuracy': 0.6515151515151515, 'eval_runtime': 1.7934, 'eval_samples_per_second': 2612.908, 'eval_steps_per_second': 7.249, 'epoch': 12.24}\n"
     ]
    },
    {
     "name": "stderr",
     "output_type": "stream",
     "text": [
      "Model weights saved in temp/checkpoint-1200/pytorch_model.bin\n",
      " 16%|█▋        | 1600/9800 [04:54<24:12,  5.64it/s]  ***** Running Evaluation *****\n",
      "  Num examples = 4686\n",
      "  Batch size = 384\n"
     ]
    },
    {
     "name": "stdout",
     "output_type": "stream",
     "text": [
      "{'loss': 0.7078, 'learning_rate': 4.408602150537635e-05, 'epoch': 16.33}\n"
     ]
    },
    {
     "name": "stderr",
     "output_type": "stream",
     "text": [
      "\n",
      " 16%|█▋        | 1600/9800 [04:56<24:12,  5.64it/s]Saving model checkpoint to temp/checkpoint-1600\n",
      "Configuration saved in temp/checkpoint-1600/config.json\n"
     ]
    },
    {
     "name": "stdout",
     "output_type": "stream",
     "text": [
      "{'eval_loss': 0.8407989740371704, 'eval_accuracy': 0.6498079385403329, 'eval_runtime': 1.7703, 'eval_samples_per_second': 2647.022, 'eval_steps_per_second': 7.343, 'epoch': 16.33}\n"
     ]
    },
    {
     "name": "stderr",
     "output_type": "stream",
     "text": [
      "Model weights saved in temp/checkpoint-1600/pytorch_model.bin\n",
      " 20%|██        | 2000/9800 [06:07<23:11,  5.61it/s]  ***** Running Evaluation *****\n",
      "  Num examples = 4686\n",
      "  Batch size = 384\n"
     ]
    },
    {
     "name": "stdout",
     "output_type": "stream",
     "text": [
      "{'loss': 0.6939, 'learning_rate': 4.1935483870967746e-05, 'epoch': 20.41}\n"
     ]
    },
    {
     "name": "stderr",
     "output_type": "stream",
     "text": [
      "\n",
      " 20%|██        | 2000/9800 [06:09<23:11,  5.61it/s]Saving model checkpoint to temp/checkpoint-2000\n",
      "Configuration saved in temp/checkpoint-2000/config.json\n"
     ]
    },
    {
     "name": "stdout",
     "output_type": "stream",
     "text": [
      "{'eval_loss': 0.8559519648551941, 'eval_accuracy': 0.6489543320529236, 'eval_runtime': 1.7685, 'eval_samples_per_second': 2649.641, 'eval_steps_per_second': 7.351, 'epoch': 20.41}\n"
     ]
    },
    {
     "name": "stderr",
     "output_type": "stream",
     "text": [
      "Model weights saved in temp/checkpoint-2000/pytorch_model.bin\n",
      " 24%|██▍       | 2400/9800 [07:21<22:02,  5.60it/s]  ***** Running Evaluation *****\n",
      "  Num examples = 4686\n",
      "  Batch size = 384\n"
     ]
    },
    {
     "name": "stdout",
     "output_type": "stream",
     "text": [
      "{'loss': 0.6832, 'learning_rate': 3.978494623655914e-05, 'epoch': 24.49}\n"
     ]
    },
    {
     "name": "stderr",
     "output_type": "stream",
     "text": [
      "\n",
      " 24%|██▍       | 2400/9800 [07:23<22:02,  5.60it/s]Saving model checkpoint to temp/checkpoint-2400\n",
      "Configuration saved in temp/checkpoint-2400/config.json\n"
     ]
    },
    {
     "name": "stdout",
     "output_type": "stream",
     "text": [
      "{'eval_loss': 0.865621030330658, 'eval_accuracy': 0.6474605206999573, 'eval_runtime': 1.787, 'eval_samples_per_second': 2622.201, 'eval_steps_per_second': 7.275, 'epoch': 24.49}\n"
     ]
    },
    {
     "name": "stderr",
     "output_type": "stream",
     "text": [
      "Model weights saved in temp/checkpoint-2400/pytorch_model.bin\n",
      " 29%|██▊       | 2800/9800 [08:35<20:53,  5.59it/s]  ***** Running Evaluation *****\n",
      "  Num examples = 4686\n",
      "  Batch size = 384\n"
     ]
    },
    {
     "name": "stdout",
     "output_type": "stream",
     "text": [
      "{'loss': 0.675, 'learning_rate': 3.763440860215054e-05, 'epoch': 28.57}\n"
     ]
    },
    {
     "name": "stderr",
     "output_type": "stream",
     "text": [
      "\n",
      " 29%|██▊       | 2800/9800 [08:37<20:53,  5.59it/s]Saving model checkpoint to temp/checkpoint-2800\n",
      "Configuration saved in temp/checkpoint-2800/config.json\n"
     ]
    },
    {
     "name": "stdout",
     "output_type": "stream",
     "text": [
      "{'eval_loss': 0.8716239333152771, 'eval_accuracy': 0.6436192915066155, 'eval_runtime': 1.7751, 'eval_samples_per_second': 2639.831, 'eval_steps_per_second': 7.323, 'epoch': 28.57}\n"
     ]
    },
    {
     "name": "stderr",
     "output_type": "stream",
     "text": [
      "Model weights saved in temp/checkpoint-2800/pytorch_model.bin\n",
      " 33%|███▎      | 3200/9800 [09:50<19:45,  5.57it/s]  ***** Running Evaluation *****\n",
      "  Num examples = 4686\n",
      "  Batch size = 384\n"
     ]
    },
    {
     "name": "stdout",
     "output_type": "stream",
     "text": [
      "{'loss': 0.667, 'learning_rate': 3.548387096774194e-05, 'epoch': 32.65}\n"
     ]
    },
    {
     "name": "stderr",
     "output_type": "stream",
     "text": [
      "\n",
      " 33%|███▎      | 3200/9800 [09:51<19:45,  5.57it/s]Saving model checkpoint to temp/checkpoint-3200\n",
      "Configuration saved in temp/checkpoint-3200/config.json\n"
     ]
    },
    {
     "name": "stdout",
     "output_type": "stream",
     "text": [
      "{'eval_loss': 0.8768733143806458, 'eval_accuracy': 0.6470337174562527, 'eval_runtime': 1.7925, 'eval_samples_per_second': 2614.164, 'eval_steps_per_second': 7.252, 'epoch': 32.65}\n"
     ]
    },
    {
     "name": "stderr",
     "output_type": "stream",
     "text": [
      "Model weights saved in temp/checkpoint-3200/pytorch_model.bin\n",
      " 37%|███▋      | 3600/9800 [11:04<18:22,  5.62it/s]  ***** Running Evaluation *****\n",
      "  Num examples = 4686\n",
      "  Batch size = 384\n"
     ]
    },
    {
     "name": "stdout",
     "output_type": "stream",
     "text": [
      "{'loss': 0.6594, 'learning_rate': 3.3333333333333335e-05, 'epoch': 36.73}\n"
     ]
    },
    {
     "name": "stderr",
     "output_type": "stream",
     "text": [
      "\n",
      " 37%|███▋      | 3600/9800 [11:06<18:22,  5.62it/s]Saving model checkpoint to temp/checkpoint-3600\n",
      "Configuration saved in temp/checkpoint-3600/config.json\n"
     ]
    },
    {
     "name": "stdout",
     "output_type": "stream",
     "text": [
      "{'eval_loss': 0.88669353723526, 'eval_accuracy': 0.6463935125906957, 'eval_runtime': 1.7758, 'eval_samples_per_second': 2638.856, 'eval_steps_per_second': 7.321, 'epoch': 36.73}\n"
     ]
    },
    {
     "name": "stderr",
     "output_type": "stream",
     "text": [
      "Model weights saved in temp/checkpoint-3600/pytorch_model.bin\n",
      " 41%|████      | 4000/9800 [12:18<16:59,  5.69it/s]  ***** Running Evaluation *****\n",
      "  Num examples = 4686\n",
      "  Batch size = 384\n"
     ]
    },
    {
     "name": "stdout",
     "output_type": "stream",
     "text": [
      "{'loss': 0.6541, 'learning_rate': 3.118279569892473e-05, 'epoch': 40.82}\n"
     ]
    },
    {
     "name": "stderr",
     "output_type": "stream",
     "text": [
      "\n",
      " 41%|████      | 4000/9800 [12:19<16:59,  5.69it/s]Saving model checkpoint to temp/checkpoint-4000\n",
      "Configuration saved in temp/checkpoint-4000/config.json\n"
     ]
    },
    {
     "name": "stdout",
     "output_type": "stream",
     "text": [
      "{'eval_loss': 0.8963725566864014, 'eval_accuracy': 0.6416986769099445, 'eval_runtime': 1.7833, 'eval_samples_per_second': 2627.743, 'eval_steps_per_second': 7.29, 'epoch': 40.82}\n"
     ]
    },
    {
     "name": "stderr",
     "output_type": "stream",
     "text": [
      "Model weights saved in temp/checkpoint-4000/pytorch_model.bin\n",
      " 45%|████▍     | 4400/9800 [13:31<16:00,  5.62it/s]  ***** Running Evaluation *****\n",
      "  Num examples = 4686\n",
      "  Batch size = 384\n"
     ]
    },
    {
     "name": "stdout",
     "output_type": "stream",
     "text": [
      "{'loss': 0.6495, 'learning_rate': 2.9032258064516133e-05, 'epoch': 44.9}\n"
     ]
    },
    {
     "name": "stderr",
     "output_type": "stream",
     "text": [
      "\n",
      " 45%|████▍     | 4400/9800 [13:33<16:00,  5.62it/s]Saving model checkpoint to temp/checkpoint-4400\n",
      "Configuration saved in temp/checkpoint-4400/config.json\n"
     ]
    },
    {
     "name": "stdout",
     "output_type": "stream",
     "text": [
      "{'eval_loss': 0.9009112119674683, 'eval_accuracy': 0.6446862996158771, 'eval_runtime': 1.7755, 'eval_samples_per_second': 2639.251, 'eval_steps_per_second': 7.322, 'epoch': 44.9}\n"
     ]
    },
    {
     "name": "stderr",
     "output_type": "stream",
     "text": [
      "Model weights saved in temp/checkpoint-4400/pytorch_model.bin\n",
      " 49%|████▉     | 4800/9800 [14:46<14:50,  5.61it/s]  ***** Running Evaluation *****\n",
      "  Num examples = 4686\n",
      "  Batch size = 384\n"
     ]
    },
    {
     "name": "stdout",
     "output_type": "stream",
     "text": [
      "{'loss': 0.644, 'learning_rate': 2.6881720430107527e-05, 'epoch': 48.98}\n"
     ]
    },
    {
     "name": "stderr",
     "output_type": "stream",
     "text": [
      "\n",
      " 49%|████▉     | 4800/9800 [14:47<14:50,  5.61it/s]Saving model checkpoint to temp/checkpoint-4800\n",
      "Configuration saved in temp/checkpoint-4800/config.json\n"
     ]
    },
    {
     "name": "stdout",
     "output_type": "stream",
     "text": [
      "{'eval_loss': 0.9102607369422913, 'eval_accuracy': 0.6419120785317969, 'eval_runtime': 1.7732, 'eval_samples_per_second': 2642.678, 'eval_steps_per_second': 7.331, 'epoch': 48.98}\n"
     ]
    },
    {
     "name": "stderr",
     "output_type": "stream",
     "text": [
      "Model weights saved in temp/checkpoint-4800/pytorch_model.bin\n",
      " 53%|█████▎    | 5200/9800 [16:00<13:26,  5.70it/s]  ***** Running Evaluation *****\n",
      "  Num examples = 4686\n",
      "  Batch size = 384\n"
     ]
    },
    {
     "name": "stdout",
     "output_type": "stream",
     "text": [
      "{'loss': 0.6403, 'learning_rate': 2.4731182795698928e-05, 'epoch': 53.06}\n"
     ]
    },
    {
     "name": "stderr",
     "output_type": "stream",
     "text": [
      "\n",
      " 53%|█████▎    | 5200/9800 [16:02<13:26,  5.70it/s]Saving model checkpoint to temp/checkpoint-5200\n",
      "Configuration saved in temp/checkpoint-5200/config.json\n"
     ]
    },
    {
     "name": "stdout",
     "output_type": "stream",
     "text": [
      "{'eval_loss': 0.9116031527519226, 'eval_accuracy': 0.639991463935126, 'eval_runtime': 1.7868, 'eval_samples_per_second': 2622.523, 'eval_steps_per_second': 7.275, 'epoch': 53.06}\n"
     ]
    },
    {
     "name": "stderr",
     "output_type": "stream",
     "text": [
      "Model weights saved in temp/checkpoint-5200/pytorch_model.bin\n",
      " 57%|█████▋    | 5600/9800 [17:14<12:28,  5.61it/s]  ***** Running Evaluation *****\n",
      "  Num examples = 4686\n",
      "  Batch size = 384\n"
     ]
    },
    {
     "name": "stdout",
     "output_type": "stream",
     "text": [
      "{'loss': 0.6364, 'learning_rate': 2.258064516129032e-05, 'epoch': 57.14}\n"
     ]
    },
    {
     "name": "stderr",
     "output_type": "stream",
     "text": [
      "\n",
      " 57%|█████▋    | 5600/9800 [17:16<12:28,  5.61it/s]Saving model checkpoint to temp/checkpoint-5600\n",
      "Configuration saved in temp/checkpoint-5600/config.json\n"
     ]
    },
    {
     "name": "stdout",
     "output_type": "stream",
     "text": [
      "{'eval_loss': 0.9166362285614014, 'eval_accuracy': 0.6389244558258643, 'eval_runtime': 1.7829, 'eval_samples_per_second': 2628.281, 'eval_steps_per_second': 7.291, 'epoch': 57.14}\n"
     ]
    },
    {
     "name": "stderr",
     "output_type": "stream",
     "text": [
      "Model weights saved in temp/checkpoint-5600/pytorch_model.bin\n",
      " 61%|██████    | 6000/9800 [18:29<11:13,  5.65it/s]  ***** Running Evaluation *****\n",
      "  Num examples = 4686\n",
      "  Batch size = 384\n"
     ]
    },
    {
     "name": "stdout",
     "output_type": "stream",
     "text": [
      "{'loss': 0.6317, 'learning_rate': 2.0430107526881722e-05, 'epoch': 61.22}\n"
     ]
    },
    {
     "name": "stderr",
     "output_type": "stream",
     "text": [
      "\n",
      " 61%|██████    | 6000/9800 [18:30<11:13,  5.65it/s]Saving model checkpoint to temp/checkpoint-6000\n",
      "Configuration saved in temp/checkpoint-6000/config.json\n"
     ]
    },
    {
     "name": "stdout",
     "output_type": "stream",
     "text": [
      "{'eval_loss': 0.9203482866287231, 'eval_accuracy': 0.6393512590695689, 'eval_runtime': 1.7793, 'eval_samples_per_second': 2633.679, 'eval_steps_per_second': 7.306, 'epoch': 61.22}\n"
     ]
    },
    {
     "name": "stderr",
     "output_type": "stream",
     "text": [
      "Model weights saved in temp/checkpoint-6000/pytorch_model.bin\n",
      " 65%|██████▌   | 6400/9800 [19:43<09:58,  5.68it/s]  ***** Running Evaluation *****\n",
      "  Num examples = 4686\n",
      "  Batch size = 384\n"
     ]
    },
    {
     "name": "stdout",
     "output_type": "stream",
     "text": [
      "{'loss': 0.6316, 'learning_rate': 1.827956989247312e-05, 'epoch': 65.31}\n"
     ]
    },
    {
     "name": "stderr",
     "output_type": "stream",
     "text": [
      "\n",
      " 65%|██████▌   | 6400/9800 [19:44<09:58,  5.68it/s]Saving model checkpoint to temp/checkpoint-6400\n",
      "Configuration saved in temp/checkpoint-6400/config.json\n"
     ]
    },
    {
     "name": "stdout",
     "output_type": "stream",
     "text": [
      "{'eval_loss': 0.9197334051132202, 'eval_accuracy': 0.639991463935126, 'eval_runtime': 1.7475, 'eval_samples_per_second': 2681.488, 'eval_steps_per_second': 7.439, 'epoch': 65.31}\n"
     ]
    },
    {
     "name": "stderr",
     "output_type": "stream",
     "text": [
      "Model weights saved in temp/checkpoint-6400/pytorch_model.bin\n",
      " 69%|██████▉   | 6800/9800 [20:56<08:57,  5.58it/s]  ***** Running Evaluation *****\n",
      "  Num examples = 4686\n",
      "  Batch size = 384\n"
     ]
    },
    {
     "name": "stdout",
     "output_type": "stream",
     "text": [
      "{'loss': 0.6277, 'learning_rate': 1.6129032258064517e-05, 'epoch': 69.39}\n"
     ]
    },
    {
     "name": "stderr",
     "output_type": "stream",
     "text": [
      "\n",
      " 69%|██████▉   | 6800/9800 [20:58<08:57,  5.58it/s]Saving model checkpoint to temp/checkpoint-6800\n",
      "Configuration saved in temp/checkpoint-6800/config.json\n"
     ]
    },
    {
     "name": "stdout",
     "output_type": "stream",
     "text": [
      "{'eval_loss': 0.9249185919761658, 'eval_accuracy': 0.6410584720443875, 'eval_runtime': 1.807, 'eval_samples_per_second': 2593.222, 'eval_steps_per_second': 7.194, 'epoch': 69.39}\n"
     ]
    },
    {
     "name": "stderr",
     "output_type": "stream",
     "text": [
      "Model weights saved in temp/checkpoint-6800/pytorch_model.bin\n",
      " 73%|███████▎  | 7200/9800 [22:09<07:53,  5.49it/s]***** Running Evaluation *****\n",
      "  Num examples = 4686\n",
      "  Batch size = 384\n"
     ]
    },
    {
     "name": "stdout",
     "output_type": "stream",
     "text": [
      "{'loss': 0.6268, 'learning_rate': 1.3978494623655914e-05, 'epoch': 73.47}\n"
     ]
    },
    {
     "name": "stderr",
     "output_type": "stream",
     "text": [
      "\n",
      " 73%|███████▎  | 7200/9800 [22:11<07:53,  5.49it/s]Saving model checkpoint to temp/checkpoint-7200\n",
      "Configuration saved in temp/checkpoint-7200/config.json\n"
     ]
    },
    {
     "name": "stdout",
     "output_type": "stream",
     "text": [
      "{'eval_loss': 0.9248293042182922, 'eval_accuracy': 0.6397780623132736, 'eval_runtime': 1.7442, 'eval_samples_per_second': 2686.663, 'eval_steps_per_second': 7.453, 'epoch': 73.47}\n"
     ]
    },
    {
     "name": "stderr",
     "output_type": "stream",
     "text": [
      "Model weights saved in temp/checkpoint-7200/pytorch_model.bin\n",
      " 78%|███████▊  | 7600/9800 [23:26<06:52,  5.33it/s]***** Running Evaluation *****\n",
      "  Num examples = 4686\n",
      "  Batch size = 384\n"
     ]
    },
    {
     "name": "stdout",
     "output_type": "stream",
     "text": [
      "{'loss': 0.6258, 'learning_rate': 1.1827956989247313e-05, 'epoch': 77.55}\n"
     ]
    },
    {
     "name": "stderr",
     "output_type": "stream",
     "text": [
      "\n",
      " 78%|███████▊  | 7600/9800 [23:28<06:52,  5.33it/s]Saving model checkpoint to temp/checkpoint-7600\n",
      "Configuration saved in temp/checkpoint-7600/config.json\n"
     ]
    },
    {
     "name": "stdout",
     "output_type": "stream",
     "text": [
      "{'eval_loss': 0.9303790926933289, 'eval_accuracy': 0.6389244558258643, 'eval_runtime': 1.8623, 'eval_samples_per_second': 2516.227, 'eval_steps_per_second': 6.981, 'epoch': 77.55}\n"
     ]
    },
    {
     "name": "stderr",
     "output_type": "stream",
     "text": [
      "Model weights saved in temp/checkpoint-7600/pytorch_model.bin\n",
      " 82%|████████▏ | 8000/9800 [24:42<05:12,  5.76it/s]***** Running Evaluation *****\n",
      "  Num examples = 4686\n",
      "  Batch size = 384\n"
     ]
    },
    {
     "name": "stdout",
     "output_type": "stream",
     "text": [
      "{'loss': 0.6212, 'learning_rate': 9.67741935483871e-06, 'epoch': 81.63}\n"
     ]
    },
    {
     "name": "stderr",
     "output_type": "stream",
     "text": [
      "\n",
      " 82%|████████▏ | 8000/9800 [24:43<05:12,  5.76it/s]Saving model checkpoint to temp/checkpoint-8000\n",
      "Configuration saved in temp/checkpoint-8000/config.json\n"
     ]
    },
    {
     "name": "stdout",
     "output_type": "stream",
     "text": [
      "{'eval_loss': 0.9336408376693726, 'eval_accuracy': 0.6382842509603073, 'eval_runtime': 1.8474, 'eval_samples_per_second': 2536.559, 'eval_steps_per_second': 7.037, 'epoch': 81.63}\n"
     ]
    },
    {
     "name": "stderr",
     "output_type": "stream",
     "text": [
      "Model weights saved in temp/checkpoint-8000/pytorch_model.bin\n",
      " 86%|████████▌ | 8400/9800 [25:58<04:21,  5.36it/s]***** Running Evaluation *****\n",
      "  Num examples = 4686\n",
      "  Batch size = 384\n"
     ]
    },
    {
     "name": "stdout",
     "output_type": "stream",
     "text": [
      "{'loss': 0.6217, 'learning_rate': 7.526881720430108e-06, 'epoch': 85.71}\n"
     ]
    },
    {
     "name": "stderr",
     "output_type": "stream",
     "text": [
      "\n",
      " 86%|████████▌ | 8400/9800 [26:00<04:21,  5.36it/s]Saving model checkpoint to temp/checkpoint-8400\n",
      "Configuration saved in temp/checkpoint-8400/config.json\n"
     ]
    },
    {
     "name": "stdout",
     "output_type": "stream",
     "text": [
      "{'eval_loss': 0.9364458918571472, 'eval_accuracy': 0.6384976525821596, 'eval_runtime': 1.8523, 'eval_samples_per_second': 2529.858, 'eval_steps_per_second': 7.018, 'epoch': 85.71}\n"
     ]
    },
    {
     "name": "stderr",
     "output_type": "stream",
     "text": [
      "Model weights saved in temp/checkpoint-8400/pytorch_model.bin\n",
      " 90%|████████▉ | 8800/9800 [27:13<02:56,  5.68it/s]***** Running Evaluation *****\n",
      "  Num examples = 4686\n",
      "  Batch size = 384\n"
     ]
    },
    {
     "name": "stdout",
     "output_type": "stream",
     "text": [
      "{'loss': 0.6193, 'learning_rate': 5.376344086021506e-06, 'epoch': 89.8}\n"
     ]
    },
    {
     "name": "stderr",
     "output_type": "stream",
     "text": [
      "\n",
      " 90%|████████▉ | 8800/9800 [27:15<02:56,  5.68it/s]Saving model checkpoint to temp/checkpoint-8800\n",
      "Configuration saved in temp/checkpoint-8800/config.json\n"
     ]
    },
    {
     "name": "stdout",
     "output_type": "stream",
     "text": [
      "{'eval_loss': 0.9373853802680969, 'eval_accuracy': 0.6393512590695689, 'eval_runtime': 1.7599, 'eval_samples_per_second': 2662.718, 'eval_steps_per_second': 7.387, 'epoch': 89.8}\n"
     ]
    },
    {
     "name": "stderr",
     "output_type": "stream",
     "text": [
      "Model weights saved in temp/checkpoint-8800/pytorch_model.bin\n",
      " 94%|█████████▍| 9200/9800 [28:25<01:41,  5.90it/s]***** Running Evaluation *****\n",
      "  Num examples = 4686\n",
      "  Batch size = 384\n"
     ]
    },
    {
     "name": "stdout",
     "output_type": "stream",
     "text": [
      "{'loss': 0.6164, 'learning_rate': 3.225806451612903e-06, 'epoch': 93.88}\n"
     ]
    },
    {
     "name": "stderr",
     "output_type": "stream",
     "text": [
      "\n",
      " 94%|█████████▍| 9200/9800 [28:27<01:41,  5.90it/s]Saving model checkpoint to temp/checkpoint-9200\n",
      "Configuration saved in temp/checkpoint-9200/config.json\n"
     ]
    },
    {
     "name": "stdout",
     "output_type": "stream",
     "text": [
      "{'eval_loss': 0.93868488073349, 'eval_accuracy': 0.637430644472898, 'eval_runtime': 1.7109, 'eval_samples_per_second': 2738.905, 'eval_steps_per_second': 7.598, 'epoch': 93.88}\n"
     ]
    },
    {
     "name": "stderr",
     "output_type": "stream",
     "text": [
      "Model weights saved in temp/checkpoint-9200/pytorch_model.bin\n",
      " 98%|█████████▊| 9600/9800 [29:40<00:36,  5.55it/s]***** Running Evaluation *****\n",
      "  Num examples = 4686\n",
      "  Batch size = 384\n"
     ]
    },
    {
     "name": "stdout",
     "output_type": "stream",
     "text": [
      "{'loss': 0.6196, 'learning_rate': 1.0752688172043011e-06, 'epoch': 97.96}\n"
     ]
    },
    {
     "name": "stderr",
     "output_type": "stream",
     "text": [
      "\n",
      " 98%|█████████▊| 9600/9800 [29:42<00:36,  5.55it/s]Saving model checkpoint to temp/checkpoint-9600\n",
      "Configuration saved in temp/checkpoint-9600/config.json\n"
     ]
    },
    {
     "name": "stdout",
     "output_type": "stream",
     "text": [
      "{'eval_loss': 0.9393672347068787, 'eval_accuracy': 0.6384976525821596, 'eval_runtime': 1.7724, 'eval_samples_per_second': 2643.923, 'eval_steps_per_second': 7.335, 'epoch': 97.96}\n"
     ]
    },
    {
     "name": "stderr",
     "output_type": "stream",
     "text": [
      "Model weights saved in temp/checkpoint-9600/pytorch_model.bin\n",
      "100%|██████████| 9800/9800 [30:19<00:00,  6.16it/s]\n",
      "\n",
      "Training completed. Do not forget to share your model on huggingface.co/models =)\n",
      "\n",
      "\n",
      "Loading best model from temp/checkpoint-800 (score: 0.8244216442108154).\n",
      "100%|██████████| 9800/9800 [30:19<00:00,  5.39it/s]"
     ]
    },
    {
     "name": "stdout",
     "output_type": "stream",
     "text": [
      "{'train_runtime': 1819.5274, 'train_samples_per_second': 1030.158, 'train_steps_per_second': 5.386, 'train_loss': 0.6562452728894292, 'epoch': 100.0}\n"
     ]
    },
    {
     "name": "stderr",
     "output_type": "stream",
     "text": [
      "\n"
     ]
    },
    {
     "data": {
      "text/plain": [
       "TrainOutput(global_step=9800, training_loss=0.6562452728894292, metrics={'train_runtime': 1819.5274, 'train_samples_per_second': 1030.158, 'train_steps_per_second': 5.386, 'train_loss': 0.6562452728894292, 'epoch': 100.0})"
      ]
     },
     "execution_count": 12,
     "metadata": {},
     "output_type": "execute_result"
    }
   ],
   "source": [
    "MODEL_NAME = '/home/abdullah/Code/dl/lt_bert/best_models/1/1_combined_50'\n",
    "model = BertForSequenceClassification.from_pretrained(\n",
    "    MODEL_NAME, num_labels=3).to('cuda')\n",
    "model.manual_seed = 14\n",
    "\n",
    "for name, param in model.named_parameters():\n",
    "    if 'bert.encoder.layer.0' in name:\n",
    "        # print(name, param.requires_grad)\n",
    "        param.requires_grad = False\n",
    "# print(\"\\n\\n\\n\")\n",
    "# for name, param in model.named_parameters():\n",
    "#     print(name, param.requires_grad)\n",
    "\n",
    "training_args = TrainingArguments(\n",
    "    output_dir=f\"temp\",\n",
    "    num_train_epochs=100,\n",
    "    per_device_train_batch_size=192,\n",
    "    per_device_eval_batch_size=384,\n",
    "    warmup_steps=500,\n",
    "    learning_rate=5e-5,\n",
    "    weight_decay=0.01,\n",
    "    overwrite_output_dir=True,\n",
    "    logging_dir=f\"temp/logs\",\n",
    "    logging_steps=400,\n",
    "    save_steps=400,\n",
    "    load_best_model_at_end=True,\n",
    "    evaluation_strategy=\"steps\",\n",
    "    seed=14,\n",
    ")\n",
    "\n",
    "trainer = Trainer(\n",
    "    model=model,\n",
    "    args=training_args,\n",
    "    train_dataset=train_dataset,\n",
    "    eval_dataset=eval_dataset,\n",
    "    compute_metrics=f1_calculator,\n",
    "\n",
    ")\n",
    "\n",
    "trainer.train()\n",
    "\n",
    "# print(cool.metrics)\n",
    "\n",
    "trainer = Trainer(\n",
    "    model=model,\n",
    "    args=training_args,\n",
    "    train_dataset=train_dataset,\n",
    "    eval_dataset=eval_dataset,\n",
    "    compute_metrics=compute_metrics,\n",
    "\n",
    ")\n",
    "\n",
    "trainer.train()\n"
   ]
  }
 ],
 "metadata": {
  "interpreter": {
   "hash": "30945d60abeb4d30e097bab3ad7b6ead7c1fba264acb4ede644ab6174c0ba9cb"
  },
  "kernelspec": {
   "display_name": "Python 3.8.10 ('venv_499A': venv)",
   "language": "python",
   "name": "python3"
  },
  "language_info": {
   "codemirror_mode": {
    "name": "ipython",
    "version": 3
   },
   "file_extension": ".py",
   "mimetype": "text/x-python",
   "name": "python",
   "nbconvert_exporter": "python",
   "pygments_lexer": "ipython3",
   "version": "3.8.10"
  },
  "orig_nbformat": 4
 },
 "nbformat": 4,
 "nbformat_minor": 2
}
