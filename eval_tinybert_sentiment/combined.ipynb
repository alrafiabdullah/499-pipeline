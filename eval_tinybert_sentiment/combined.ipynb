{
 "cells": [
  {
   "cell_type": "code",
   "execution_count": 1,
   "metadata": {},
   "outputs": [],
   "source": [
    "import pandas as pd\n",
    "import torch\n",
    "import os\n",
    "\n",
    "from torch.utils.data import Dataset\n",
    "from transformers import (BertTokenizer, BertForSequenceClassification, Trainer,\n",
    "                          TrainingArguments, BertPreTrainedModel)\n",
    "# from simpletransformers.language_modeling import LanguageModelingModel\n",
    "from sklearn.metrics import accuracy_score, f1_score\n"
   ]
  },
  {
   "cell_type": "code",
   "execution_count": 2,
   "metadata": {},
   "outputs": [
    {
     "name": "stdout",
     "output_type": "stream",
     "text": [
      "True\n",
      "NVIDIA GeForce RTX 3060\n",
      "_CudaDeviceProperties(name='NVIDIA GeForce RTX 3060', major=8, minor=6, total_memory=12050MB, multi_processor_count=28)\n"
     ]
    }
   ],
   "source": [
    "print(torch.cuda.is_available())\n",
    "print(torch.cuda.get_device_name(0))\n",
    "print(torch.cuda.get_device_properties(0))"
   ]
  },
  {
   "cell_type": "code",
   "execution_count": 3,
   "metadata": {},
   "outputs": [],
   "source": [
    "MODEL_NAME = '/home/abdullah/Code/dl/lt_bert/best_models/best_tiny_bert'\n",
    "TRAIN_FILE_LOC = '/home/abdullah/Code/dl/bnlp-resources/sentiment/merged_train.csv'\n",
    "EVAL_FILE_LOC = '/home/abdullah/Code/dl/bnlp-resources/sentiment/merged_test.csv'\n"
   ]
  },
  {
   "cell_type": "code",
   "execution_count": 4,
   "metadata": {},
   "outputs": [
    {
     "data": {
      "text/plain": [
       "['/home/abdullah/Code/dl/bnlp-resources/sentiment/merged_train.csv',\n",
       " 'merged_train']"
      ]
     },
     "execution_count": 4,
     "metadata": {},
     "output_type": "execute_result"
    }
   ],
   "source": [
    "def tsv_to_text(tsv_file_loc):\n",
    "    file_name = tsv_file_loc.split(\"/\")[-1].split(\".\")[0]\n",
    "    txt_name = tsv_file_loc.replace(\".tsv\", \".txt\")\n",
    "    txt_name = txt_name.replace(\"split_merged\", \"texts\")\n",
    "\n",
    "    if os.path.exists(txt_name):\n",
    "        return [txt_name, file_name]\n",
    "\n",
    "    df = pd.read_csv(tsv_file_loc, sep=\"\\t\")\n",
    "\n",
    "    for txt in df[\"text\"]:\n",
    "        with open(txt_name, \"a\", encoding=\"utf8\") as f:\n",
    "            f.writelines(txt + \"\\n\")\n",
    "    return [txt_name, file_name]\n",
    "\n",
    "\n",
    "tsv_to_text(TRAIN_FILE_LOC)\n"
   ]
  },
  {
   "cell_type": "code",
   "execution_count": 5,
   "metadata": {},
   "outputs": [
    {
     "name": "stdout",
     "output_type": "stream",
     "text": [
      "                                                    text label\n",
      "0         @BoyBanglar ভালোই,, তাও ত বাংলার বেকার ছেলে না     1\n",
      "1      'সুন্নাহের গুরুত্ব ও প্রয়োজনীয়তাhttp:/t.co/Kv9...     0\n",
      "2      সারা দুনিয়া থেকে যদি বাছাই করে ৫০০ জন ভালো মা...     0\n",
      "3      ক্রিকেট বোর্ড কে যদি দুদকের সম্মুখীন করা হয় এব...     2\n",
      "4      সপ্তাহের জন্য তারা একটি দুর্দান্ত কাজ করে এই র...     1\n",
      "...                                                  ...   ...\n",
      "18739  RT @arafatul: গত এক দশক ধরে জার্মান রাজনীতি খু...     0\n",
      "18740  না অাছে কোনো পাওয়ার হিটার, না অাছে একটা লেগস্প...     2\n",
      "18741  গাজীপুরের শ্রীপুরে ১০০ পিছ ইয়াবা ও গাঁজাসহ ৩ জ...     2\n",
      "18742   করো উন্নতি হউক বা না হউক মেডামের শরীরের ভালো ...     2\n",
      "18743  খেলোয়াড়দের কথা বাদ দিলাম। বোর্ড, কোচ, নির্বাচক...     2\n",
      "\n",
      "[18744 rows x 2 columns]\n"
     ]
    }
   ],
   "source": [
    "def csv_to_df(csv_file_loc):\n",
    "    df = pd.read_csv(csv_file_loc)\n",
    "    # remove id column\n",
    "    # df = df.drop(columns=['id'])\n",
    "\n",
    "    # replace neutral with 0, positive with 1, negative with 2 in class_label column\n",
    "    df.loc[df['label'] == 'Neutral', 'label'] = 0\n",
    "    df.loc[df['label'] == 'Positive', 'label'] = 1\n",
    "    df.loc[df['label'] == 'Negative', 'label'] = 2\n",
    "\n",
    "    return df\n",
    "\n",
    "\n",
    "train_df = csv_to_df(TRAIN_FILE_LOC)\n",
    "\n",
    "texts = train_df['text'].tolist()\n",
    "print(train_df)\n"
   ]
  },
  {
   "cell_type": "code",
   "execution_count": 6,
   "metadata": {},
   "outputs": [],
   "source": [
    "def compute_metrics(pred):\n",
    "  labels = pred.label_ids\n",
    "  preds = pred.predictions.argmax(-1)\n",
    "  # calculate accuracy using sklearn's function\n",
    "  acc = accuracy_score(labels, preds)\n",
    "  return {\n",
    "      'accuracy': acc,\n",
    "  }\n"
   ]
  },
  {
   "cell_type": "code",
   "execution_count": 7,
   "metadata": {},
   "outputs": [],
   "source": [
    "def f1_calculator(pred):\n",
    "  labels = pred.label_ids\n",
    "  preds = pred.predictions.argmax(-1)\n",
    "  # calculate accuracy using sklearn's function\n",
    "  f1 = f1_score(labels, preds, average='weighted')\n",
    "  return {\n",
    "      'f1': f1,\n",
    "  }\n"
   ]
  },
  {
   "cell_type": "code",
   "execution_count": 8,
   "metadata": {},
   "outputs": [],
   "source": [
    "train_list = tsv_to_text(TRAIN_FILE_LOC)\n",
    "eval_list = tsv_to_text(EVAL_FILE_LOC)\n"
   ]
  },
  {
   "cell_type": "code",
   "execution_count": 9,
   "metadata": {},
   "outputs": [
    {
     "name": "stderr",
     "output_type": "stream",
     "text": [
      "Some weights of the model checkpoint at /home/abdullah/Code/dl/lt_bert/best_models/best_tiny_bert were not used when initializing BertForSequenceClassification: ['cls.predictions.decoder.weight', 'cls.predictions.decoder.bias', 'cls.predictions.transform.LayerNorm.weight', 'cls.predictions.transform.LayerNorm.bias', 'cls.predictions.transform.dense.bias', 'cls.predictions.transform.dense.weight', 'cls.predictions.bias']\n",
      "- This IS expected if you are initializing BertForSequenceClassification from the checkpoint of a model trained on another task or with another architecture (e.g. initializing a BertForSequenceClassification model from a BertForPreTraining model).\n",
      "- This IS NOT expected if you are initializing BertForSequenceClassification from the checkpoint of a model that you expect to be exactly identical (initializing a BertForSequenceClassification model from a BertForSequenceClassification model).\n",
      "Some weights of BertForSequenceClassification were not initialized from the model checkpoint at /home/abdullah/Code/dl/lt_bert/best_models/best_tiny_bert and are newly initialized: ['bert.pooler.dense.bias', 'bert.pooler.dense.weight', 'classifier.bias', 'classifier.weight']\n",
      "You should probably TRAIN this model on a down-stream task to be able to use it for predictions and inference.\n"
     ]
    }
   ],
   "source": [
    "os.environ[\"WANDB_DISABLED\"] = \"true\"\n",
    "\n",
    "train_df = csv_to_df(TRAIN_FILE_LOC)\n",
    "eval_df = csv_to_df(EVAL_FILE_LOC)\n",
    "\n",
    "\n",
    "class TINYDataset(Dataset):\n",
    "    def __init__(self, encodings, labels):\n",
    "        self.encodings = encodings\n",
    "        self.labels = labels\n",
    "\n",
    "    def __getitem__(self, idx):\n",
    "        item = {key: torch.tensor(value[idx])\n",
    "                for key, value in self.encodings.items()}\n",
    "        item['labels'] = torch.tensor(self.labels[idx])\n",
    "        return item\n",
    "\n",
    "    def __len__(self):\n",
    "        return len(self.labels)\n",
    "\n",
    "\n",
    "tokenizer = BertTokenizer.from_pretrained(MODEL_NAME)\n",
    "\n",
    "train_encodings = tokenizer(train_df['text'].tolist(), padding=True, truncation=True, max_length=512)\n",
    "eval_encodings = tokenizer(eval_df['text'].tolist(), padding=True, truncation=True, max_length=512)\n",
    "\n",
    "train_dataset = TINYDataset(train_encodings, train_df['label'].tolist())\n",
    "eval_dataset = TINYDataset(eval_encodings, eval_df['label'].tolist())\n",
    "\n",
    "model = BertForSequenceClassification.from_pretrained(MODEL_NAME, num_labels=3).to('cuda')\n",
    "model.manual_seed = 14\n"
   ]
  },
  {
   "cell_type": "markdown",
   "metadata": {},
   "source": [
    "## 1 Epoch Train"
   ]
  },
  {
   "cell_type": "code",
   "execution_count": 10,
   "metadata": {},
   "outputs": [
    {
     "name": "stderr",
     "output_type": "stream",
     "text": [
      "Using the `WAND_DISABLED` environment variable is deprecated and will be removed in v5. Use the --report_to flag to control the integrations used for logging result (for instance --report_to none).\n",
      "***** Running training *****\n",
      "  Num examples = 18744\n",
      "  Num Epochs = 1\n",
      "  Instantaneous batch size per device = 48\n",
      "  Total train batch size (w. parallel, distributed & accumulation) = 48\n",
      "  Gradient Accumulation steps = 1\n",
      "  Total optimization steps = 391\n",
      " 33%|███▎      | 130/391 [00:07<00:14, 18.64it/s]***** Running Evaluation *****\n",
      "  Num examples = 4686\n",
      "  Batch size = 96\n"
     ]
    },
    {
     "name": "stdout",
     "output_type": "stream",
     "text": [
      "{'loss': 1.0833, 'learning_rate': 1.3000000000000001e-05, 'epoch': 0.33}\n"
     ]
    },
    {
     "name": "stderr",
     "output_type": "stream",
     "text": [
      "                                                 \n",
      " 33%|███▎      | 130/391 [00:08<00:14, 18.64it/s]Saving model checkpoint to temp/checkpoint-130\n",
      "Configuration saved in temp/checkpoint-130/config.json\n"
     ]
    },
    {
     "name": "stdout",
     "output_type": "stream",
     "text": [
      "{'eval_loss': 1.0609605312347412, 'eval_runtime': 1.5151, 'eval_samples_per_second': 3092.92, 'eval_steps_per_second': 32.342, 'epoch': 0.33}\n"
     ]
    },
    {
     "name": "stderr",
     "output_type": "stream",
     "text": [
      "Model weights saved in temp/checkpoint-130/pytorch_model.bin\n",
      " 66%|██████▋   | 260/391 [00:17<00:07, 18.71it/s]***** Running Evaluation *****\n",
      "  Num examples = 4686\n",
      "  Batch size = 96\n"
     ]
    },
    {
     "name": "stdout",
     "output_type": "stream",
     "text": [
      "{'loss': 1.0169, 'learning_rate': 2.6000000000000002e-05, 'epoch': 0.66}\n"
     ]
    },
    {
     "name": "stderr",
     "output_type": "stream",
     "text": [
      "                                                 \n",
      " 66%|██████▋   | 260/391 [00:19<00:07, 18.71it/s]Saving model checkpoint to temp/checkpoint-260\n",
      "Configuration saved in temp/checkpoint-260/config.json\n"
     ]
    },
    {
     "name": "stdout",
     "output_type": "stream",
     "text": [
      "{'eval_loss': 0.9470070004463196, 'eval_runtime': 1.5117, 'eval_samples_per_second': 3099.87, 'eval_steps_per_second': 32.414, 'epoch': 0.66}\n"
     ]
    },
    {
     "name": "stderr",
     "output_type": "stream",
     "text": [
      "Model weights saved in temp/checkpoint-260/pytorch_model.bin\n",
      "100%|█████████▉| 390/391 [00:27<00:00, 18.73it/s]***** Running Evaluation *****\n",
      "  Num examples = 4686\n",
      "  Batch size = 96\n"
     ]
    },
    {
     "name": "stdout",
     "output_type": "stream",
     "text": [
      "{'loss': 0.9302, 'learning_rate': 3.9000000000000006e-05, 'epoch': 1.0}\n"
     ]
    },
    {
     "name": "stderr",
     "output_type": "stream",
     "text": [
      "                                                 \n",
      "100%|█████████▉| 390/391 [00:28<00:00, 18.73it/s]Saving model checkpoint to temp/checkpoint-390\n",
      "Configuration saved in temp/checkpoint-390/config.json\n"
     ]
    },
    {
     "name": "stdout",
     "output_type": "stream",
     "text": [
      "{'eval_loss': 0.893717885017395, 'eval_runtime': 1.5125, 'eval_samples_per_second': 3098.249, 'eval_steps_per_second': 32.397, 'epoch': 1.0}\n"
     ]
    },
    {
     "name": "stderr",
     "output_type": "stream",
     "text": [
      "Model weights saved in temp/checkpoint-390/pytorch_model.bin\n",
      "100%|██████████| 391/391 [00:30<00:00,  1.86it/s]\n",
      "\n",
      "Training completed. Do not forget to share your model on huggingface.co/models =)\n",
      "\n",
      "\n",
      "Loading best model from temp/checkpoint-390 (score: 0.893717885017395).\n",
      "100%|██████████| 391/391 [00:30<00:00, 12.78it/s]"
     ]
    },
    {
     "name": "stdout",
     "output_type": "stream",
     "text": [
      "{'train_runtime': 30.6137, 'train_samples_per_second': 612.276, 'train_steps_per_second': 12.772, 'train_loss': 1.0099699033800598, 'epoch': 1.0}\n"
     ]
    },
    {
     "name": "stderr",
     "output_type": "stream",
     "text": [
      "\n"
     ]
    },
    {
     "data": {
      "text/plain": [
       "TrainOutput(global_step=391, training_loss=1.0099699033800598, metrics={'train_runtime': 30.6137, 'train_samples_per_second': 612.276, 'train_steps_per_second': 12.772, 'train_loss': 1.0099699033800598, 'epoch': 1.0})"
      ]
     },
     "execution_count": 10,
     "metadata": {},
     "output_type": "execute_result"
    }
   ],
   "source": [
    "# training_args = TrainingArguments(\n",
    "#     output_dir=f\"temp\",\n",
    "#     num_train_epochs=1,\n",
    "#     per_device_train_batch_size=48,\n",
    "#     per_device_eval_batch_size=96,\n",
    "#     warmup_steps=500,\n",
    "#     learning_rate=5e-5,\n",
    "#     weight_decay=0.01,\n",
    "#     overwrite_output_dir=True,\n",
    "#     logging_dir=f\"temp/logs\",\n",
    "#     logging_steps=130,\n",
    "#     save_steps=130,\n",
    "#     load_best_model_at_end=True,\n",
    "#     evaluation_strategy=\"steps\",\n",
    "#     seed=14,\n",
    "# )\n",
    "\n",
    "# trainer = Trainer(\n",
    "#     model=model,\n",
    "#     args=training_args,\n",
    "#     train_dataset=train_dataset,\n",
    "#     eval_dataset=eval_dataset\n",
    "\n",
    "# )\n",
    "\n",
    "# trainer.train()\n"
   ]
  },
  {
   "cell_type": "markdown",
   "metadata": {},
   "source": [
    "## 100 Epoch with 1 epoch model"
   ]
  },
  {
   "cell_type": "code",
   "execution_count": 12,
   "metadata": {},
   "outputs": [
    {
     "name": "stderr",
     "output_type": "stream",
     "text": [
      "loading configuration file /home/abdullah/Code/dl/lt_bert/best_models/1/1_combined/config.json\n",
      "Model config BertConfig {\n",
      "  \"_name_or_path\": \"/home/abdullah/Code/dl/lt_bert/best_models/best_tiny_bert\",\n",
      "  \"architectures\": [\n",
      "    \"BertForSequenceClassification\"\n",
      "  ],\n",
      "  \"attention_probs_dropout_prob\": 0.1,\n",
      "  \"classifier_dropout\": null,\n",
      "  \"hidden_act\": \"gelu\",\n",
      "  \"hidden_dropout_prob\": 0.1,\n",
      "  \"hidden_size\": 128,\n",
      "  \"id2label\": {\n",
      "    \"0\": \"LABEL_0\",\n",
      "    \"1\": \"LABEL_1\",\n",
      "    \"2\": \"LABEL_2\"\n",
      "  },\n",
      "  \"initializer_range\": 0.02,\n",
      "  \"intermediate_size\": 512,\n",
      "  \"label2id\": {\n",
      "    \"LABEL_0\": 0,\n",
      "    \"LABEL_1\": 1,\n",
      "    \"LABEL_2\": 2\n",
      "  },\n",
      "  \"layer_norm_eps\": 1e-12,\n",
      "  \"max_position_embeddings\": 512,\n",
      "  \"model_type\": \"bert\",\n",
      "  \"num_attention_heads\": 2,\n",
      "  \"num_hidden_layers\": 2,\n",
      "  \"pad_token_id\": 0,\n",
      "  \"position_embedding_type\": \"absolute\",\n",
      "  \"problem_type\": \"single_label_classification\",\n",
      "  \"torch_dtype\": \"float32\",\n",
      "  \"transformers_version\": \"4.12.5\",\n",
      "  \"type_vocab_size\": 2,\n",
      "  \"use_cache\": true,\n",
      "  \"vocab_size\": 30522\n",
      "}\n",
      "\n",
      "loading weights file /home/abdullah/Code/dl/lt_bert/best_models/1/1_combined/pytorch_model.bin\n",
      "All model checkpoint weights were used when initializing BertForSequenceClassification.\n",
      "\n",
      "All the weights of BertForSequenceClassification were initialized from the model checkpoint at /home/abdullah/Code/dl/lt_bert/best_models/1/1_combined.\n",
      "If your task is similar to the task the model of the checkpoint was trained on, you can already use BertForSequenceClassification for predictions without further training.\n",
      "using `logging_steps` to initialize `eval_steps` to 400\n",
      "PyTorch: setting up devices\n",
      "The default value for the training argument `--report_to` will change in v5 (from all installed integrations to none). In v5, you will need to use `--report_to all` to get the same behavior as now. You should start updating your code and make this info disappear :-).\n",
      "Using the `WAND_DISABLED` environment variable is deprecated and will be removed in v5. Use the --report_to flag to control the integrations used for logging result (for instance --report_to none).\n",
      "***** Running training *****\n",
      "  Num examples = 18744\n",
      "  Num Epochs = 100\n",
      "  Instantaneous batch size per device = 192\n",
      "  Total train batch size (w. parallel, distributed & accumulation) = 192\n",
      "  Gradient Accumulation steps = 1\n",
      "  Total optimization steps = 9800\n",
      "  4%|▍         | 400/9800 [01:11<27:49,  5.63it/s]***** Running Evaluation *****\n",
      "  Num examples = 4686\n",
      "  Batch size = 384\n"
     ]
    },
    {
     "name": "stdout",
     "output_type": "stream",
     "text": [
      "{'loss': 0.8779, 'learning_rate': 4e-05, 'epoch': 4.08}\n"
     ]
    },
    {
     "name": "stderr",
     "output_type": "stream",
     "text": [
      "\n",
      "  4%|▍         | 400/9800 [01:13<27:49,  5.63it/s]Saving model checkpoint to temp/checkpoint-400\n",
      "Configuration saved in temp/checkpoint-400/config.json\n"
     ]
    },
    {
     "name": "stdout",
     "output_type": "stream",
     "text": [
      "{'eval_loss': 0.8381050229072571, 'eval_f1': 0.6311814528843358, 'eval_runtime': 1.7933, 'eval_samples_per_second': 2613.109, 'eval_steps_per_second': 7.249, 'epoch': 4.08}\n"
     ]
    },
    {
     "name": "stderr",
     "output_type": "stream",
     "text": [
      "Model weights saved in temp/checkpoint-400/pytorch_model.bin\n",
      "  8%|▊         | 800/9800 [02:23<25:23,  5.91it/s]  ***** Running Evaluation *****\n",
      "  Num examples = 4686\n",
      "  Batch size = 384\n"
     ]
    },
    {
     "name": "stdout",
     "output_type": "stream",
     "text": [
      "{'loss': 0.8263, 'learning_rate': 4.8387096774193554e-05, 'epoch': 8.16}\n"
     ]
    },
    {
     "name": "stderr",
     "output_type": "stream",
     "text": [
      "\n",
      "  8%|▊         | 800/9800 [02:24<25:23,  5.91it/s]Saving model checkpoint to temp/checkpoint-800\n",
      "Configuration saved in temp/checkpoint-800/config.json\n"
     ]
    },
    {
     "name": "stdout",
     "output_type": "stream",
     "text": [
      "{'eval_loss': 0.8150410056114197, 'eval_f1': 0.6419399933743292, 'eval_runtime': 1.7037, 'eval_samples_per_second': 2750.555, 'eval_steps_per_second': 7.631, 'epoch': 8.16}\n"
     ]
    },
    {
     "name": "stderr",
     "output_type": "stream",
     "text": [
      "Model weights saved in temp/checkpoint-800/pytorch_model.bin\n",
      " 12%|█▏        | 1200/9800 [03:34<24:17,  5.90it/s] ***** Running Evaluation *****\n",
      "  Num examples = 4686\n",
      "  Batch size = 384\n"
     ]
    },
    {
     "name": "stdout",
     "output_type": "stream",
     "text": [
      "{'loss': 0.8003, 'learning_rate': 4.6236559139784944e-05, 'epoch': 12.24}\n"
     ]
    },
    {
     "name": "stderr",
     "output_type": "stream",
     "text": [
      "\n",
      " 12%|█▏        | 1200/9800 [03:36<24:17,  5.90it/s]Saving model checkpoint to temp/checkpoint-1200\n",
      "Configuration saved in temp/checkpoint-1200/config.json\n"
     ]
    },
    {
     "name": "stdout",
     "output_type": "stream",
     "text": [
      "{'eval_loss': 0.8021912574768066, 'eval_f1': 0.6510371020220614, 'eval_runtime': 1.6975, 'eval_samples_per_second': 2760.505, 'eval_steps_per_second': 7.658, 'epoch': 12.24}\n"
     ]
    },
    {
     "name": "stderr",
     "output_type": "stream",
     "text": [
      "Model weights saved in temp/checkpoint-1200/pytorch_model.bin\n",
      " 16%|█▋        | 1600/9800 [04:45<23:01,  5.93it/s]  ***** Running Evaluation *****\n",
      "  Num examples = 4686\n",
      "  Batch size = 384\n"
     ]
    },
    {
     "name": "stdout",
     "output_type": "stream",
     "text": [
      "{'loss': 0.781, 'learning_rate': 4.408602150537635e-05, 'epoch': 16.33}\n"
     ]
    },
    {
     "name": "stderr",
     "output_type": "stream",
     "text": [
      "\n",
      " 16%|█▋        | 1600/9800 [04:47<23:01,  5.93it/s]Saving model checkpoint to temp/checkpoint-1600\n",
      "Configuration saved in temp/checkpoint-1600/config.json\n",
      "Model weights saved in temp/checkpoint-1600/pytorch_model.bin\n"
     ]
    },
    {
     "name": "stdout",
     "output_type": "stream",
     "text": [
      "{'eval_loss': 0.7931427359580994, 'eval_f1': 0.6563714342288443, 'eval_runtime': 1.6992, 'eval_samples_per_second': 2757.82, 'eval_steps_per_second': 7.651, 'epoch': 16.33}\n"
     ]
    },
    {
     "name": "stderr",
     "output_type": "stream",
     "text": [
      " 20%|██        | 2000/9800 [05:58<22:50,  5.69it/s]  ***** Running Evaluation *****\n",
      "  Num examples = 4686\n",
      "  Batch size = 384\n"
     ]
    },
    {
     "name": "stdout",
     "output_type": "stream",
     "text": [
      "{'loss': 0.7586, 'learning_rate': 4.1935483870967746e-05, 'epoch': 20.41}\n"
     ]
    },
    {
     "name": "stderr",
     "output_type": "stream",
     "text": [
      "                                                   \n",
      " 20%|██        | 2000/9800 [06:00<22:50,  5.69it/s]Saving model checkpoint to temp/checkpoint-2000\n",
      "Configuration saved in temp/checkpoint-2000/config.json\n"
     ]
    },
    {
     "name": "stdout",
     "output_type": "stream",
     "text": [
      "{'eval_loss': 0.7867947816848755, 'eval_f1': 0.6648455624134015, 'eval_runtime': 1.7477, 'eval_samples_per_second': 2681.207, 'eval_steps_per_second': 7.438, 'epoch': 20.41}\n"
     ]
    },
    {
     "name": "stderr",
     "output_type": "stream",
     "text": [
      "Model weights saved in temp/checkpoint-2000/pytorch_model.bin\n",
      " 24%|██▍       | 2400/9800 [07:11<20:50,  5.92it/s]  ***** Running Evaluation *****\n",
      "  Num examples = 4686\n",
      "  Batch size = 384\n"
     ]
    },
    {
     "name": "stdout",
     "output_type": "stream",
     "text": [
      "{'loss': 0.7427, 'learning_rate': 3.978494623655914e-05, 'epoch': 24.49}\n"
     ]
    },
    {
     "name": "stderr",
     "output_type": "stream",
     "text": [
      "\n",
      " 24%|██▍       | 2400/9800 [07:13<20:50,  5.92it/s]Saving model checkpoint to temp/checkpoint-2400\n",
      "Configuration saved in temp/checkpoint-2400/config.json\n"
     ]
    },
    {
     "name": "stdout",
     "output_type": "stream",
     "text": [
      "{'eval_loss': 0.7799067497253418, 'eval_f1': 0.6714036888875788, 'eval_runtime': 1.7065, 'eval_samples_per_second': 2746.009, 'eval_steps_per_second': 7.618, 'epoch': 24.49}\n"
     ]
    },
    {
     "name": "stderr",
     "output_type": "stream",
     "text": [
      "Model weights saved in temp/checkpoint-2400/pytorch_model.bin\n",
      " 29%|██▊       | 2800/9800 [08:22<19:44,  5.91it/s]  ***** Running Evaluation *****\n",
      "  Num examples = 4686\n",
      "  Batch size = 384\n"
     ]
    },
    {
     "name": "stdout",
     "output_type": "stream",
     "text": [
      "{'loss': 0.7231, 'learning_rate': 3.763440860215054e-05, 'epoch': 28.57}\n"
     ]
    },
    {
     "name": "stderr",
     "output_type": "stream",
     "text": [
      "                                                   \n",
      " 29%|██▊       | 2800/9800 [08:23<19:44,  5.91it/s]Saving model checkpoint to temp/checkpoint-2800\n",
      "Configuration saved in temp/checkpoint-2800/config.json\n"
     ]
    },
    {
     "name": "stdout",
     "output_type": "stream",
     "text": [
      "{'eval_loss': 0.7736707925796509, 'eval_f1': 0.678237909471621, 'eval_runtime': 1.6927, 'eval_samples_per_second': 2768.439, 'eval_steps_per_second': 7.68, 'epoch': 28.57}\n"
     ]
    },
    {
     "name": "stderr",
     "output_type": "stream",
     "text": [
      "Model weights saved in temp/checkpoint-2800/pytorch_model.bin\n",
      " 33%|███▎      | 3200/9800 [09:36<19:42,  5.58it/s]  ***** Running Evaluation *****\n",
      "  Num examples = 4686\n",
      "  Batch size = 384\n"
     ]
    },
    {
     "name": "stdout",
     "output_type": "stream",
     "text": [
      "{'loss': 0.7073, 'learning_rate': 3.548387096774194e-05, 'epoch': 32.65}\n"
     ]
    },
    {
     "name": "stderr",
     "output_type": "stream",
     "text": [
      "\n",
      " 33%|███▎      | 3200/9800 [09:37<19:42,  5.58it/s]Saving model checkpoint to temp/checkpoint-3200\n",
      "Configuration saved in temp/checkpoint-3200/config.json\n"
     ]
    },
    {
     "name": "stdout",
     "output_type": "stream",
     "text": [
      "{'eval_loss': 0.7710894346237183, 'eval_f1': 0.6816925546804526, 'eval_runtime': 1.788, 'eval_samples_per_second': 2620.808, 'eval_steps_per_second': 7.271, 'epoch': 32.65}\n"
     ]
    },
    {
     "name": "stderr",
     "output_type": "stream",
     "text": [
      "Model weights saved in temp/checkpoint-3200/pytorch_model.bin\n",
      " 37%|███▋      | 3600/9800 [10:47<17:36,  5.87it/s]  ***** Running Evaluation *****\n",
      "  Num examples = 4686\n",
      "  Batch size = 384\n"
     ]
    },
    {
     "name": "stdout",
     "output_type": "stream",
     "text": [
      "{'loss': 0.6896, 'learning_rate': 3.3333333333333335e-05, 'epoch': 36.73}\n"
     ]
    },
    {
     "name": "stderr",
     "output_type": "stream",
     "text": [
      "\n",
      " 37%|███▋      | 3600/9800 [10:49<17:36,  5.87it/s]Saving model checkpoint to temp/checkpoint-3600\n",
      "Configuration saved in temp/checkpoint-3600/config.json\n"
     ]
    },
    {
     "name": "stdout",
     "output_type": "stream",
     "text": [
      "{'eval_loss': 0.7675222754478455, 'eval_f1': 0.6858458146092123, 'eval_runtime': 1.7027, 'eval_samples_per_second': 2752.172, 'eval_steps_per_second': 7.635, 'epoch': 36.73}\n"
     ]
    },
    {
     "name": "stderr",
     "output_type": "stream",
     "text": [
      "Model weights saved in temp/checkpoint-3600/pytorch_model.bin\n",
      " 41%|████      | 4000/9800 [11:58<16:29,  5.86it/s]  ***** Running Evaluation *****\n",
      "  Num examples = 4686\n",
      "  Batch size = 384\n"
     ]
    },
    {
     "name": "stdout",
     "output_type": "stream",
     "text": [
      "{'loss': 0.6748, 'learning_rate': 3.118279569892473e-05, 'epoch': 40.82}\n"
     ]
    },
    {
     "name": "stderr",
     "output_type": "stream",
     "text": [
      "\n",
      " 41%|████      | 4000/9800 [12:00<16:29,  5.86it/s]Saving model checkpoint to temp/checkpoint-4000\n",
      "Configuration saved in temp/checkpoint-4000/config.json\n"
     ]
    },
    {
     "name": "stdout",
     "output_type": "stream",
     "text": [
      "{'eval_loss': 0.7658502459526062, 'eval_f1': 0.6902416976418718, 'eval_runtime': 1.7041, 'eval_samples_per_second': 2749.873, 'eval_steps_per_second': 7.629, 'epoch': 40.82}\n"
     ]
    },
    {
     "name": "stderr",
     "output_type": "stream",
     "text": [
      "Model weights saved in temp/checkpoint-4000/pytorch_model.bin\n",
      " 45%|████▍     | 4400/9800 [13:09<15:15,  5.90it/s]  ***** Running Evaluation *****\n",
      "  Num examples = 4686\n",
      "  Batch size = 384\n"
     ]
    },
    {
     "name": "stdout",
     "output_type": "stream",
     "text": [
      "{'loss': 0.6593, 'learning_rate': 2.9032258064516133e-05, 'epoch': 44.9}\n"
     ]
    },
    {
     "name": "stderr",
     "output_type": "stream",
     "text": [
      "\n",
      " 45%|████▍     | 4400/9800 [13:11<15:15,  5.90it/s]Saving model checkpoint to temp/checkpoint-4400\n",
      "Configuration saved in temp/checkpoint-4400/config.json\n"
     ]
    },
    {
     "name": "stdout",
     "output_type": "stream",
     "text": [
      "{'eval_loss': 0.7703796625137329, 'eval_f1': 0.6942485874669178, 'eval_runtime': 1.8863, 'eval_samples_per_second': 2484.172, 'eval_steps_per_second': 6.892, 'epoch': 44.9}\n"
     ]
    },
    {
     "name": "stderr",
     "output_type": "stream",
     "text": [
      "Model weights saved in temp/checkpoint-4400/pytorch_model.bin\n",
      " 49%|████▉     | 4800/9800 [14:19<14:07,  5.90it/s]  ***** Running Evaluation *****\n",
      "  Num examples = 4686\n",
      "  Batch size = 384\n"
     ]
    },
    {
     "name": "stdout",
     "output_type": "stream",
     "text": [
      "{'loss': 0.6479, 'learning_rate': 2.6881720430107527e-05, 'epoch': 48.98}\n"
     ]
    },
    {
     "name": "stderr",
     "output_type": "stream",
     "text": [
      "\n",
      " 49%|████▉     | 4800/9800 [14:21<14:07,  5.90it/s]Saving model checkpoint to temp/checkpoint-4800\n",
      "Configuration saved in temp/checkpoint-4800/config.json\n"
     ]
    },
    {
     "name": "stdout",
     "output_type": "stream",
     "text": [
      "{'eval_loss': 0.7720142602920532, 'eval_f1': 0.692396783856922, 'eval_runtime': 1.706, 'eval_samples_per_second': 2746.711, 'eval_steps_per_second': 7.62, 'epoch': 48.98}\n"
     ]
    },
    {
     "name": "stderr",
     "output_type": "stream",
     "text": [
      "Model weights saved in temp/checkpoint-4800/pytorch_model.bin\n",
      " 53%|█████▎    | 5200/9800 [15:29<12:45,  6.01it/s]  ***** Running Evaluation *****\n",
      "  Num examples = 4686\n",
      "  Batch size = 384\n"
     ]
    },
    {
     "name": "stdout",
     "output_type": "stream",
     "text": [
      "{'loss': 0.6358, 'learning_rate': 2.4731182795698928e-05, 'epoch': 53.06}\n"
     ]
    },
    {
     "name": "stderr",
     "output_type": "stream",
     "text": [
      "\n",
      " 53%|█████▎    | 5200/9800 [15:31<12:45,  6.01it/s]Saving model checkpoint to temp/checkpoint-5200\n",
      "Configuration saved in temp/checkpoint-5200/config.json\n"
     ]
    },
    {
     "name": "stdout",
     "output_type": "stream",
     "text": [
      "{'eval_loss': 0.7680339217185974, 'eval_f1': 0.6987826894365133, 'eval_runtime': 1.7037, 'eval_samples_per_second': 2750.492, 'eval_steps_per_second': 7.63, 'epoch': 53.06}\n"
     ]
    },
    {
     "name": "stderr",
     "output_type": "stream",
     "text": [
      "Model weights saved in temp/checkpoint-5200/pytorch_model.bin\n",
      " 57%|█████▋    | 5600/9800 [16:41<12:29,  5.60it/s]  ***** Running Evaluation *****\n",
      "  Num examples = 4686\n",
      "  Batch size = 384\n"
     ]
    },
    {
     "name": "stdout",
     "output_type": "stream",
     "text": [
      "{'loss': 0.6251, 'learning_rate': 2.258064516129032e-05, 'epoch': 57.14}\n"
     ]
    },
    {
     "name": "stderr",
     "output_type": "stream",
     "text": [
      "\n",
      " 57%|█████▋    | 5600/9800 [16:43<12:29,  5.60it/s]Saving model checkpoint to temp/checkpoint-5600\n",
      "Configuration saved in temp/checkpoint-5600/config.json\n"
     ]
    },
    {
     "name": "stdout",
     "output_type": "stream",
     "text": [
      "{'eval_loss': 0.7723830342292786, 'eval_f1': 0.6984802343624676, 'eval_runtime': 1.7798, 'eval_samples_per_second': 2632.953, 'eval_steps_per_second': 7.304, 'epoch': 57.14}\n"
     ]
    },
    {
     "name": "stderr",
     "output_type": "stream",
     "text": [
      "Model weights saved in temp/checkpoint-5600/pytorch_model.bin\n",
      " 61%|██████    | 6000/9800 [17:55<11:21,  5.57it/s]  ***** Running Evaluation *****\n",
      "  Num examples = 4686\n",
      "  Batch size = 384\n"
     ]
    },
    {
     "name": "stdout",
     "output_type": "stream",
     "text": [
      "{'loss': 0.6171, 'learning_rate': 2.0430107526881722e-05, 'epoch': 61.22}\n"
     ]
    },
    {
     "name": "stderr",
     "output_type": "stream",
     "text": [
      "\n",
      " 61%|██████    | 6000/9800 [17:57<11:21,  5.57it/s]Saving model checkpoint to temp/checkpoint-6000\n",
      "Configuration saved in temp/checkpoint-6000/config.json\n"
     ]
    },
    {
     "name": "stdout",
     "output_type": "stream",
     "text": [
      "{'eval_loss': 0.774113118648529, 'eval_f1': 0.6986385733306825, 'eval_runtime': 1.7823, 'eval_samples_per_second': 2629.213, 'eval_steps_per_second': 7.294, 'epoch': 61.22}\n"
     ]
    },
    {
     "name": "stderr",
     "output_type": "stream",
     "text": [
      "Model weights saved in temp/checkpoint-6000/pytorch_model.bin\n",
      " 65%|██████▌   | 6400/9800 [19:10<10:13,  5.54it/s]  ***** Running Evaluation *****\n",
      "  Num examples = 4686\n",
      "  Batch size = 384\n"
     ]
    },
    {
     "name": "stdout",
     "output_type": "stream",
     "text": [
      "{'loss': 0.612, 'learning_rate': 1.827956989247312e-05, 'epoch': 65.31}\n"
     ]
    },
    {
     "name": "stderr",
     "output_type": "stream",
     "text": [
      "                                                   \n",
      " 65%|██████▌   | 6400/9800 [19:12<10:13,  5.54it/s]Saving model checkpoint to temp/checkpoint-6400\n",
      "Configuration saved in temp/checkpoint-6400/config.json\n"
     ]
    },
    {
     "name": "stdout",
     "output_type": "stream",
     "text": [
      "{'eval_loss': 0.7737630605697632, 'eval_f1': 0.7000721010674372, 'eval_runtime': 1.7929, 'eval_samples_per_second': 2613.642, 'eval_steps_per_second': 7.251, 'epoch': 65.31}\n"
     ]
    },
    {
     "name": "stderr",
     "output_type": "stream",
     "text": [
      "Model weights saved in temp/checkpoint-6400/pytorch_model.bin\n",
      " 69%|██████▉   | 6800/9800 [20:24<08:53,  5.62it/s]***** Running Evaluation *****\n",
      "  Num examples = 4686\n",
      "  Batch size = 384\n"
     ]
    },
    {
     "name": "stdout",
     "output_type": "stream",
     "text": [
      "{'loss': 0.603, 'learning_rate': 1.6129032258064517e-05, 'epoch': 69.39}\n"
     ]
    },
    {
     "name": "stderr",
     "output_type": "stream",
     "text": [
      "\n",
      " 69%|██████▉   | 6800/9800 [20:26<08:53,  5.62it/s]Saving model checkpoint to temp/checkpoint-6800\n",
      "Configuration saved in temp/checkpoint-6800/config.json\n"
     ]
    },
    {
     "name": "stdout",
     "output_type": "stream",
     "text": [
      "{'eval_loss': 0.7773008346557617, 'eval_f1': 0.7004112308991688, 'eval_runtime': 1.7888, 'eval_samples_per_second': 2619.597, 'eval_steps_per_second': 7.267, 'epoch': 69.39}\n"
     ]
    },
    {
     "name": "stderr",
     "output_type": "stream",
     "text": [
      "Model weights saved in temp/checkpoint-6800/pytorch_model.bin\n",
      " 73%|███████▎  | 7200/9800 [21:38<07:40,  5.64it/s]***** Running Evaluation *****\n",
      "  Num examples = 4686\n",
      "  Batch size = 384\n"
     ]
    },
    {
     "name": "stdout",
     "output_type": "stream",
     "text": [
      "{'loss': 0.5974, 'learning_rate': 1.3978494623655914e-05, 'epoch': 73.47}\n"
     ]
    },
    {
     "name": "stderr",
     "output_type": "stream",
     "text": [
      "\n",
      " 73%|███████▎  | 7200/9800 [21:40<07:40,  5.64it/s]Saving model checkpoint to temp/checkpoint-7200\n",
      "Configuration saved in temp/checkpoint-7200/config.json\n"
     ]
    },
    {
     "name": "stdout",
     "output_type": "stream",
     "text": [
      "{'eval_loss': 0.7786484360694885, 'eval_f1': 0.7046781784040629, 'eval_runtime': 1.7744, 'eval_samples_per_second': 2640.839, 'eval_steps_per_second': 7.326, 'epoch': 73.47}\n"
     ]
    },
    {
     "name": "stderr",
     "output_type": "stream",
     "text": [
      "Model weights saved in temp/checkpoint-7200/pytorch_model.bin\n",
      " 78%|███████▊  | 7600/9800 [22:49<06:14,  5.88it/s]***** Running Evaluation *****\n",
      "  Num examples = 4686\n",
      "  Batch size = 384\n"
     ]
    },
    {
     "name": "stdout",
     "output_type": "stream",
     "text": [
      "{'loss': 0.5939, 'learning_rate': 1.1827956989247313e-05, 'epoch': 77.55}\n"
     ]
    },
    {
     "name": "stderr",
     "output_type": "stream",
     "text": [
      "\n",
      " 78%|███████▊  | 7600/9800 [22:50<06:14,  5.88it/s]Saving model checkpoint to temp/checkpoint-7600\n",
      "Configuration saved in temp/checkpoint-7600/config.json\n"
     ]
    },
    {
     "name": "stdout",
     "output_type": "stream",
     "text": [
      "{'eval_loss': 0.7813209295272827, 'eval_f1': 0.7028263789660867, 'eval_runtime': 1.6866, 'eval_samples_per_second': 2778.358, 'eval_steps_per_second': 7.708, 'epoch': 77.55}\n"
     ]
    },
    {
     "name": "stderr",
     "output_type": "stream",
     "text": [
      "Model weights saved in temp/checkpoint-7600/pytorch_model.bin\n",
      " 82%|████████▏ | 8000/9800 [23:59<05:04,  5.91it/s]***** Running Evaluation *****\n",
      "  Num examples = 4686\n",
      "  Batch size = 384\n"
     ]
    },
    {
     "name": "stdout",
     "output_type": "stream",
     "text": [
      "{'loss': 0.5865, 'learning_rate': 9.67741935483871e-06, 'epoch': 81.63}\n"
     ]
    },
    {
     "name": "stderr",
     "output_type": "stream",
     "text": [
      "\n",
      " 82%|████████▏ | 8000/9800 [24:00<05:04,  5.91it/s]Saving model checkpoint to temp/checkpoint-8000\n",
      "Configuration saved in temp/checkpoint-8000/config.json\n"
     ]
    },
    {
     "name": "stdout",
     "output_type": "stream",
     "text": [
      "{'eval_loss': 0.7822911739349365, 'eval_f1': 0.7025836074926674, 'eval_runtime': 1.695, 'eval_samples_per_second': 2764.671, 'eval_steps_per_second': 7.67, 'epoch': 81.63}\n"
     ]
    },
    {
     "name": "stderr",
     "output_type": "stream",
     "text": [
      "Model weights saved in temp/checkpoint-8000/pytorch_model.bin\n",
      " 86%|████████▌ | 8400/9800 [25:09<03:56,  5.92it/s]***** Running Evaluation *****\n",
      "  Num examples = 4686\n",
      "  Batch size = 384\n"
     ]
    },
    {
     "name": "stdout",
     "output_type": "stream",
     "text": [
      "{'loss': 0.5849, 'learning_rate': 7.526881720430108e-06, 'epoch': 85.71}\n"
     ]
    },
    {
     "name": "stderr",
     "output_type": "stream",
     "text": [
      "\n",
      " 86%|████████▌ | 8400/9800 [25:11<03:56,  5.92it/s]Saving model checkpoint to temp/checkpoint-8400\n",
      "Configuration saved in temp/checkpoint-8400/config.json\n"
     ]
    },
    {
     "name": "stdout",
     "output_type": "stream",
     "text": [
      "{'eval_loss': 0.7838456630706787, 'eval_f1': 0.7037615757410443, 'eval_runtime': 1.6987, 'eval_samples_per_second': 2758.558, 'eval_steps_per_second': 7.653, 'epoch': 85.71}\n"
     ]
    },
    {
     "name": "stderr",
     "output_type": "stream",
     "text": [
      "Model weights saved in temp/checkpoint-8400/pytorch_model.bin\n",
      " 90%|████████▉ | 8800/9800 [26:19<02:48,  5.94it/s]***** Running Evaluation *****\n",
      "  Num examples = 4686\n",
      "  Batch size = 384\n"
     ]
    },
    {
     "name": "stdout",
     "output_type": "stream",
     "text": [
      "{'loss': 0.5833, 'learning_rate': 5.376344086021506e-06, 'epoch': 89.8}\n"
     ]
    },
    {
     "name": "stderr",
     "output_type": "stream",
     "text": [
      "\n",
      " 90%|████████▉ | 8800/9800 [26:21<02:48,  5.94it/s]Saving model checkpoint to temp/checkpoint-8800\n",
      "Configuration saved in temp/checkpoint-8800/config.json\n"
     ]
    },
    {
     "name": "stdout",
     "output_type": "stream",
     "text": [
      "{'eval_loss': 0.7842379808425903, 'eval_f1': 0.7052251922665624, 'eval_runtime': 1.6917, 'eval_samples_per_second': 2770.005, 'eval_steps_per_second': 7.685, 'epoch': 89.8}\n"
     ]
    },
    {
     "name": "stderr",
     "output_type": "stream",
     "text": [
      "Model weights saved in temp/checkpoint-8800/pytorch_model.bin\n",
      " 94%|█████████▍| 9200/9800 [27:29<01:41,  5.92it/s]***** Running Evaluation *****\n",
      "  Num examples = 4686\n",
      "  Batch size = 384\n"
     ]
    },
    {
     "name": "stdout",
     "output_type": "stream",
     "text": [
      "{'loss': 0.5792, 'learning_rate': 3.225806451612903e-06, 'epoch': 93.88}\n"
     ]
    },
    {
     "name": "stderr",
     "output_type": "stream",
     "text": [
      "\n",
      " 94%|█████████▍| 9200/9800 [27:31<01:41,  5.92it/s]Saving model checkpoint to temp/checkpoint-9200\n",
      "Configuration saved in temp/checkpoint-9200/config.json\n"
     ]
    },
    {
     "name": "stdout",
     "output_type": "stream",
     "text": [
      "{'eval_loss': 0.7839885950088501, 'eval_f1': 0.7047368115447835, 'eval_runtime': 1.7014, 'eval_samples_per_second': 2754.226, 'eval_steps_per_second': 7.641, 'epoch': 93.88}\n"
     ]
    },
    {
     "name": "stderr",
     "output_type": "stream",
     "text": [
      "Model weights saved in temp/checkpoint-9200/pytorch_model.bin\n",
      " 98%|█████████▊| 9600/9800 [28:40<00:33,  5.92it/s]***** Running Evaluation *****\n",
      "  Num examples = 4686\n",
      "  Batch size = 384\n"
     ]
    },
    {
     "name": "stdout",
     "output_type": "stream",
     "text": [
      "{'loss': 0.5813, 'learning_rate': 1.0752688172043011e-06, 'epoch': 97.96}\n"
     ]
    },
    {
     "name": "stderr",
     "output_type": "stream",
     "text": [
      "\n",
      " 98%|█████████▊| 9600/9800 [28:42<00:33,  5.92it/s]Saving model checkpoint to temp/checkpoint-9600\n",
      "Configuration saved in temp/checkpoint-9600/config.json\n",
      "Model weights saved in temp/checkpoint-9600/pytorch_model.bin\n"
     ]
    },
    {
     "name": "stdout",
     "output_type": "stream",
     "text": [
      "{'eval_loss': 0.7850894927978516, 'eval_f1': 0.7054863672269955, 'eval_runtime': 1.6882, 'eval_samples_per_second': 2775.77, 'eval_steps_per_second': 7.701, 'epoch': 97.96}\n"
     ]
    },
    {
     "name": "stderr",
     "output_type": "stream",
     "text": [
      "100%|██████████| 9800/9800 [29:16<00:00,  6.64it/s]\n",
      "\n",
      "Training completed. Do not forget to share your model on huggingface.co/models =)\n",
      "\n",
      "\n",
      "Loading best model from temp/checkpoint-4000 (score: 0.7658502459526062).\n",
      "100%|██████████| 9800/9800 [29:16<00:00,  5.58it/s]\n",
      "***** Running training *****\n",
      "  Num examples = 18744\n",
      "  Num Epochs = 100\n",
      "  Instantaneous batch size per device = 192\n",
      "  Total train batch size (w. parallel, distributed & accumulation) = 192\n",
      "  Gradient Accumulation steps = 1\n",
      "  Total optimization steps = 9800\n"
     ]
    },
    {
     "name": "stdout",
     "output_type": "stream",
     "text": [
      "{'train_runtime': 1756.5861, 'train_samples_per_second': 1067.07, 'train_steps_per_second': 5.579, 'train_loss': 0.6684466116768973, 'epoch': 100.0}\n"
     ]
    },
    {
     "name": "stderr",
     "output_type": "stream",
     "text": [
      "  4%|▍         | 400/9800 [01:07<26:18,  5.95it/s]***** Running Evaluation *****\n",
      "  Num examples = 4686\n",
      "  Batch size = 384\n"
     ]
    },
    {
     "name": "stdout",
     "output_type": "stream",
     "text": [
      "{'loss': 0.6607, 'learning_rate': 4e-05, 'epoch': 4.08}\n"
     ]
    },
    {
     "name": "stderr",
     "output_type": "stream",
     "text": [
      "                                                  \n",
      "  4%|▍         | 400/9800 [01:09<26:18,  5.95it/s]Saving model checkpoint to temp/checkpoint-400\n",
      "Configuration saved in temp/checkpoint-400/config.json\n",
      "Model weights saved in temp/checkpoint-400/pytorch_model.bin\n"
     ]
    },
    {
     "name": "stdout",
     "output_type": "stream",
     "text": [
      "{'eval_loss': 0.7805559039115906, 'eval_accuracy': 0.6873666239863423, 'eval_runtime': 1.7022, 'eval_samples_per_second': 2752.944, 'eval_steps_per_second': 7.637, 'epoch': 4.08}\n"
     ]
    },
    {
     "name": "stderr",
     "output_type": "stream",
     "text": [
      "  8%|▊         | 800/9800 [02:17<25:38,  5.85it/s]  ***** Running Evaluation *****\n",
      "  Num examples = 4686\n",
      "  Batch size = 384\n"
     ]
    },
    {
     "name": "stdout",
     "output_type": "stream",
     "text": [
      "{'loss': 0.6486, 'learning_rate': 4.8387096774193554e-05, 'epoch': 8.16}\n"
     ]
    },
    {
     "name": "stderr",
     "output_type": "stream",
     "text": [
      "                                                  \n",
      "  8%|▊         | 800/9800 [02:19<25:38,  5.85it/s]Saving model checkpoint to temp/checkpoint-800\n",
      "Configuration saved in temp/checkpoint-800/config.json\n"
     ]
    },
    {
     "name": "stdout",
     "output_type": "stream",
     "text": [
      "{'eval_loss': 0.7707378268241882, 'eval_accuracy': 0.6952624839948783, 'eval_runtime': 1.8408, 'eval_samples_per_second': 2545.681, 'eval_steps_per_second': 7.062, 'epoch': 8.16}\n"
     ]
    },
    {
     "name": "stderr",
     "output_type": "stream",
     "text": [
      "Model weights saved in temp/checkpoint-800/pytorch_model.bin\n",
      " 12%|█▏        | 1200/9800 [03:30<24:37,  5.82it/s] ***** Running Evaluation *****\n",
      "  Num examples = 4686\n",
      "  Batch size = 384\n"
     ]
    },
    {
     "name": "stdout",
     "output_type": "stream",
     "text": [
      "{'loss': 0.6314, 'learning_rate': 4.6236559139784944e-05, 'epoch': 12.24}\n"
     ]
    },
    {
     "name": "stderr",
     "output_type": "stream",
     "text": [
      "                                                   \n",
      " 12%|█▏        | 1200/9800 [03:32<24:37,  5.82it/s]Saving model checkpoint to temp/checkpoint-1200\n",
      "Configuration saved in temp/checkpoint-1200/config.json\n"
     ]
    },
    {
     "name": "stdout",
     "output_type": "stream",
     "text": [
      "{'eval_loss': 0.7781342267990112, 'eval_accuracy': 0.6935552710200598, 'eval_runtime': 1.7317, 'eval_samples_per_second': 2705.968, 'eval_steps_per_second': 7.507, 'epoch': 12.24}\n"
     ]
    },
    {
     "name": "stderr",
     "output_type": "stream",
     "text": [
      "Model weights saved in temp/checkpoint-1200/pytorch_model.bin\n",
      " 16%|█▋        | 1600/9800 [04:47<24:32,  5.57it/s]  ***** Running Evaluation *****\n",
      "  Num examples = 4686\n",
      "  Batch size = 384\n"
     ]
    },
    {
     "name": "stdout",
     "output_type": "stream",
     "text": [
      "{'loss': 0.613, 'learning_rate': 4.408602150537635e-05, 'epoch': 16.33}\n"
     ]
    },
    {
     "name": "stderr",
     "output_type": "stream",
     "text": [
      "\n",
      " 16%|█▋        | 1600/9800 [04:48<24:32,  5.57it/s]Saving model checkpoint to temp/checkpoint-1600\n",
      "Configuration saved in temp/checkpoint-1600/config.json\n",
      "Model weights saved in temp/checkpoint-1600/pytorch_model.bin\n"
     ]
    },
    {
     "name": "stdout",
     "output_type": "stream",
     "text": [
      "{'eval_loss': 0.7795121669769287, 'eval_accuracy': 0.6997439180537772, 'eval_runtime': 1.8066, 'eval_samples_per_second': 2593.865, 'eval_steps_per_second': 7.196, 'epoch': 16.33}\n"
     ]
    },
    {
     "name": "stderr",
     "output_type": "stream",
     "text": [
      " 20%|██        | 2000/9800 [06:00<22:29,  5.78it/s]  ***** Running Evaluation *****\n",
      "  Num examples = 4686\n",
      "  Batch size = 384\n"
     ]
    },
    {
     "name": "stdout",
     "output_type": "stream",
     "text": [
      "{'loss': 0.5956, 'learning_rate': 4.1935483870967746e-05, 'epoch': 20.41}\n"
     ]
    },
    {
     "name": "stderr",
     "output_type": "stream",
     "text": [
      "                                                   \n",
      " 20%|██        | 2000/9800 [06:02<22:29,  5.78it/s]Saving model checkpoint to temp/checkpoint-2000\n",
      "Configuration saved in temp/checkpoint-2000/config.json\n"
     ]
    },
    {
     "name": "stdout",
     "output_type": "stream",
     "text": [
      "{'eval_loss': 0.7885563373565674, 'eval_accuracy': 0.6988903115663679, 'eval_runtime': 1.8298, 'eval_samples_per_second': 2560.895, 'eval_steps_per_second': 7.104, 'epoch': 20.41}\n"
     ]
    },
    {
     "name": "stderr",
     "output_type": "stream",
     "text": [
      "Model weights saved in temp/checkpoint-2000/pytorch_model.bin\n",
      " 24%|██▍       | 2400/9800 [07:17<23:38,  5.22it/s]  ***** Running Evaluation *****\n",
      "  Num examples = 4686\n",
      "  Batch size = 384\n"
     ]
    },
    {
     "name": "stdout",
     "output_type": "stream",
     "text": [
      "{'loss': 0.5836, 'learning_rate': 3.978494623655914e-05, 'epoch': 24.49}\n"
     ]
    },
    {
     "name": "stderr",
     "output_type": "stream",
     "text": [
      "                                                   \n",
      " 24%|██▍       | 2400/9800 [07:19<23:38,  5.22it/s]Saving model checkpoint to temp/checkpoint-2400\n",
      "Configuration saved in temp/checkpoint-2400/config.json\n"
     ]
    },
    {
     "name": "stdout",
     "output_type": "stream",
     "text": [
      "{'eval_loss': 0.7956011295318604, 'eval_accuracy': 0.7040119504908238, 'eval_runtime': 1.846, 'eval_samples_per_second': 2538.439, 'eval_steps_per_second': 7.042, 'epoch': 24.49}\n"
     ]
    },
    {
     "name": "stderr",
     "output_type": "stream",
     "text": [
      "Model weights saved in temp/checkpoint-2400/pytorch_model.bin\n",
      " 29%|██▊       | 2800/9800 [08:33<21:02,  5.54it/s]  ***** Running Evaluation *****\n",
      "  Num examples = 4686\n",
      "  Batch size = 384\n"
     ]
    },
    {
     "name": "stdout",
     "output_type": "stream",
     "text": [
      "{'loss': 0.5682, 'learning_rate': 3.763440860215054e-05, 'epoch': 28.57}\n"
     ]
    },
    {
     "name": "stderr",
     "output_type": "stream",
     "text": [
      "\n",
      " 29%|██▊       | 2800/9800 [08:35<21:02,  5.54it/s]Saving model checkpoint to temp/checkpoint-2800\n",
      "Configuration saved in temp/checkpoint-2800/config.json\n"
     ]
    },
    {
     "name": "stdout",
     "output_type": "stream",
     "text": [
      "{'eval_loss': 0.8016554713249207, 'eval_accuracy': 0.7059325650874947, 'eval_runtime': 1.7479, 'eval_samples_per_second': 2680.864, 'eval_steps_per_second': 7.437, 'epoch': 28.57}\n"
     ]
    },
    {
     "name": "stderr",
     "output_type": "stream",
     "text": [
      "Model weights saved in temp/checkpoint-2800/pytorch_model.bin\n",
      " 33%|███▎      | 3200/9800 [09:47<19:39,  5.60it/s]  ***** Running Evaluation *****\n",
      "  Num examples = 4686\n",
      "  Batch size = 384\n"
     ]
    },
    {
     "name": "stdout",
     "output_type": "stream",
     "text": [
      "{'loss': 0.5605, 'learning_rate': 3.548387096774194e-05, 'epoch': 32.65}\n"
     ]
    },
    {
     "name": "stderr",
     "output_type": "stream",
     "text": [
      "                                                   \n",
      " 33%|███▎      | 3200/9800 [09:49<19:39,  5.60it/s]Saving model checkpoint to temp/checkpoint-3200\n",
      "Configuration saved in temp/checkpoint-3200/config.json\n"
     ]
    },
    {
     "name": "stdout",
     "output_type": "stream",
     "text": [
      "{'eval_loss': 0.8027281165122986, 'eval_accuracy': 0.7020913358941528, 'eval_runtime': 1.7911, 'eval_samples_per_second': 2616.211, 'eval_steps_per_second': 7.258, 'epoch': 32.65}\n"
     ]
    },
    {
     "name": "stderr",
     "output_type": "stream",
     "text": [
      "Model weights saved in temp/checkpoint-3200/pytorch_model.bin\n",
      " 37%|███▋      | 3600/9800 [11:01<18:35,  5.56it/s]  ***** Running Evaluation *****\n",
      "  Num examples = 4686\n",
      "  Batch size = 384\n"
     ]
    },
    {
     "name": "stdout",
     "output_type": "stream",
     "text": [
      "{'loss': 0.5477, 'learning_rate': 3.3333333333333335e-05, 'epoch': 36.73}\n"
     ]
    },
    {
     "name": "stderr",
     "output_type": "stream",
     "text": [
      "                                                   \n",
      " 37%|███▋      | 3600/9800 [11:03<18:35,  5.56it/s]Saving model checkpoint to temp/checkpoint-3600\n",
      "Configuration saved in temp/checkpoint-3600/config.json\n"
     ]
    },
    {
     "name": "stdout",
     "output_type": "stream",
     "text": [
      "{'eval_loss': 0.8068245053291321, 'eval_accuracy': 0.7069995731967563, 'eval_runtime': 1.8067, 'eval_samples_per_second': 2593.694, 'eval_steps_per_second': 7.195, 'epoch': 36.73}\n"
     ]
    },
    {
     "name": "stderr",
     "output_type": "stream",
     "text": [
      "Model weights saved in temp/checkpoint-3600/pytorch_model.bin\n",
      " 41%|████      | 4000/9800 [12:16<17:14,  5.61it/s]  ***** Running Evaluation *****\n",
      "  Num examples = 4686\n",
      "  Batch size = 384\n"
     ]
    },
    {
     "name": "stdout",
     "output_type": "stream",
     "text": [
      "{'loss': 0.5409, 'learning_rate': 3.118279569892473e-05, 'epoch': 40.82}\n"
     ]
    },
    {
     "name": "stderr",
     "output_type": "stream",
     "text": [
      "\n",
      " 41%|████      | 4000/9800 [12:18<17:14,  5.61it/s]Saving model checkpoint to temp/checkpoint-4000\n",
      "Configuration saved in temp/checkpoint-4000/config.json\n"
     ]
    },
    {
     "name": "stdout",
     "output_type": "stream",
     "text": [
      "{'eval_loss': 0.815051257610321, 'eval_accuracy': 0.7065727699530516, 'eval_runtime': 1.7827, 'eval_samples_per_second': 2628.614, 'eval_steps_per_second': 7.292, 'epoch': 40.82}\n"
     ]
    },
    {
     "name": "stderr",
     "output_type": "stream",
     "text": [
      "Model weights saved in temp/checkpoint-4000/pytorch_model.bin\n",
      " 45%|████▍     | 4400/9800 [13:30<15:50,  5.68it/s]  ***** Running Evaluation *****\n",
      "  Num examples = 4686\n",
      "  Batch size = 384\n"
     ]
    },
    {
     "name": "stdout",
     "output_type": "stream",
     "text": [
      "{'loss': 0.5375, 'learning_rate': 2.9032258064516133e-05, 'epoch': 44.9}\n"
     ]
    },
    {
     "name": "stderr",
     "output_type": "stream",
     "text": [
      "\n",
      " 45%|████▍     | 4400/9800 [13:32<15:50,  5.68it/s]Saving model checkpoint to temp/checkpoint-4400\n",
      "Configuration saved in temp/checkpoint-4400/config.json\n"
     ]
    },
    {
     "name": "stdout",
     "output_type": "stream",
     "text": [
      "{'eval_loss': 0.8156492114067078, 'eval_accuracy': 0.7097737942808365, 'eval_runtime': 1.7655, 'eval_samples_per_second': 2654.261, 'eval_steps_per_second': 7.364, 'epoch': 44.9}\n"
     ]
    },
    {
     "name": "stderr",
     "output_type": "stream",
     "text": [
      "Model weights saved in temp/checkpoint-4400/pytorch_model.bin\n",
      " 49%|████▉     | 4800/9800 [14:43<14:44,  5.65it/s]  ***** Running Evaluation *****\n",
      "  Num examples = 4686\n",
      "  Batch size = 384\n"
     ]
    },
    {
     "name": "stdout",
     "output_type": "stream",
     "text": [
      "{'loss': 0.5295, 'learning_rate': 2.6881720430107527e-05, 'epoch': 48.98}\n"
     ]
    },
    {
     "name": "stderr",
     "output_type": "stream",
     "text": [
      "\n",
      " 49%|████▉     | 4800/9800 [14:45<14:44,  5.65it/s]Saving model checkpoint to temp/checkpoint-4800\n",
      "Configuration saved in temp/checkpoint-4800/config.json\n"
     ]
    },
    {
     "name": "stdout",
     "output_type": "stream",
     "text": [
      "{'eval_loss': 0.8208633661270142, 'eval_accuracy': 0.7110542040119505, 'eval_runtime': 1.7768, 'eval_samples_per_second': 2637.312, 'eval_steps_per_second': 7.316, 'epoch': 48.98}\n"
     ]
    },
    {
     "name": "stderr",
     "output_type": "stream",
     "text": [
      "Model weights saved in temp/checkpoint-4800/pytorch_model.bin\n",
      " 53%|█████▎    | 5200/9800 [15:57<13:30,  5.67it/s]  ***** Running Evaluation *****\n",
      "  Num examples = 4686\n",
      "  Batch size = 384\n"
     ]
    },
    {
     "name": "stdout",
     "output_type": "stream",
     "text": [
      "{'loss': 0.5216, 'learning_rate': 2.4731182795698928e-05, 'epoch': 53.06}\n"
     ]
    },
    {
     "name": "stderr",
     "output_type": "stream",
     "text": [
      "\n",
      " 53%|█████▎    | 5200/9800 [15:59<13:30,  5.67it/s]Saving model checkpoint to temp/checkpoint-5200\n",
      "Configuration saved in temp/checkpoint-5200/config.json\n"
     ]
    },
    {
     "name": "stdout",
     "output_type": "stream",
     "text": [
      "{'eval_loss': 0.8176801800727844, 'eval_accuracy': 0.7121212121212122, 'eval_runtime': 1.7899, 'eval_samples_per_second': 2617.996, 'eval_steps_per_second': 7.263, 'epoch': 53.06}\n"
     ]
    },
    {
     "name": "stderr",
     "output_type": "stream",
     "text": [
      "Model weights saved in temp/checkpoint-5200/pytorch_model.bin\n",
      " 57%|█████▋    | 5600/9800 [17:12<12:29,  5.60it/s]  ***** Running Evaluation *****\n",
      "  Num examples = 4686\n",
      "  Batch size = 384\n"
     ]
    },
    {
     "name": "stdout",
     "output_type": "stream",
     "text": [
      "{'loss': 0.5139, 'learning_rate': 2.258064516129032e-05, 'epoch': 57.14}\n"
     ]
    },
    {
     "name": "stderr",
     "output_type": "stream",
     "text": [
      "                                                   \n",
      " 57%|█████▋    | 5600/9800 [17:14<12:29,  5.60it/s]Saving model checkpoint to temp/checkpoint-5600\n",
      "Configuration saved in temp/checkpoint-5600/config.json\n"
     ]
    },
    {
     "name": "stdout",
     "output_type": "stream",
     "text": [
      "{'eval_loss': 0.8255428671836853, 'eval_accuracy': 0.7123346137430644, 'eval_runtime': 1.7948, 'eval_samples_per_second': 2610.924, 'eval_steps_per_second': 7.243, 'epoch': 57.14}\n"
     ]
    },
    {
     "name": "stderr",
     "output_type": "stream",
     "text": [
      "Model weights saved in temp/checkpoint-5600/pytorch_model.bin\n",
      " 61%|██████    | 6000/9800 [18:26<11:24,  5.55it/s]  ***** Running Evaluation *****\n",
      "  Num examples = 4686\n",
      "  Batch size = 384\n"
     ]
    },
    {
     "name": "stdout",
     "output_type": "stream",
     "text": [
      "{'loss': 0.5086, 'learning_rate': 2.0430107526881722e-05, 'epoch': 61.22}\n"
     ]
    },
    {
     "name": "stderr",
     "output_type": "stream",
     "text": [
      "                                                   \n",
      " 61%|██████    | 6000/9800 [18:28<11:24,  5.55it/s]Saving model checkpoint to temp/checkpoint-6000\n",
      "Configuration saved in temp/checkpoint-6000/config.json\n"
     ]
    },
    {
     "name": "stdout",
     "output_type": "stream",
     "text": [
      "{'eval_loss': 0.8272386193275452, 'eval_accuracy': 0.7116944088775075, 'eval_runtime': 1.8114, 'eval_samples_per_second': 2586.998, 'eval_steps_per_second': 7.177, 'epoch': 61.22}\n"
     ]
    },
    {
     "name": "stderr",
     "output_type": "stream",
     "text": [
      "Model weights saved in temp/checkpoint-6000/pytorch_model.bin\n",
      " 65%|██████▌   | 6400/9800 [19:41<10:09,  5.58it/s]  ***** Running Evaluation *****\n",
      "  Num examples = 4686\n",
      "  Batch size = 384\n"
     ]
    },
    {
     "name": "stdout",
     "output_type": "stream",
     "text": [
      "{'loss': 0.506, 'learning_rate': 1.827956989247312e-05, 'epoch': 65.31}\n"
     ]
    },
    {
     "name": "stderr",
     "output_type": "stream",
     "text": [
      "                                                   \n",
      " 65%|██████▌   | 6400/9800 [19:43<10:09,  5.58it/s]Saving model checkpoint to temp/checkpoint-6400\n",
      "Configuration saved in temp/checkpoint-6400/config.json\n"
     ]
    },
    {
     "name": "stdout",
     "output_type": "stream",
     "text": [
      "{'eval_loss': 0.8303500413894653, 'eval_accuracy': 0.7123346137430644, 'eval_runtime': 1.7936, 'eval_samples_per_second': 2612.563, 'eval_steps_per_second': 7.248, 'epoch': 65.31}\n"
     ]
    },
    {
     "name": "stderr",
     "output_type": "stream",
     "text": [
      "Model weights saved in temp/checkpoint-6400/pytorch_model.bin\n",
      " 69%|██████▉   | 6800/9800 [20:55<08:51,  5.64it/s]  ***** Running Evaluation *****\n",
      "  Num examples = 4686\n",
      "  Batch size = 384\n"
     ]
    },
    {
     "name": "stdout",
     "output_type": "stream",
     "text": [
      "{'loss': 0.5004, 'learning_rate': 1.6129032258064517e-05, 'epoch': 69.39}\n"
     ]
    },
    {
     "name": "stderr",
     "output_type": "stream",
     "text": [
      "\n",
      " 69%|██████▉   | 6800/9800 [20:57<08:51,  5.64it/s]Saving model checkpoint to temp/checkpoint-6800\n",
      "Configuration saved in temp/checkpoint-6800/config.json\n"
     ]
    },
    {
     "name": "stdout",
     "output_type": "stream",
     "text": [
      "{'eval_loss': 0.8357117772102356, 'eval_accuracy': 0.7114810072556551, 'eval_runtime': 1.767, 'eval_samples_per_second': 2651.914, 'eval_steps_per_second': 7.357, 'epoch': 69.39}\n"
     ]
    },
    {
     "name": "stderr",
     "output_type": "stream",
     "text": [
      "Model weights saved in temp/checkpoint-6800/pytorch_model.bin\n",
      " 73%|███████▎  | 7200/9800 [22:08<07:41,  5.64it/s]***** Running Evaluation *****\n",
      "  Num examples = 4686\n",
      "  Batch size = 384\n"
     ]
    },
    {
     "name": "stdout",
     "output_type": "stream",
     "text": [
      "{'loss': 0.495, 'learning_rate': 1.3978494623655914e-05, 'epoch': 73.47}\n"
     ]
    },
    {
     "name": "stderr",
     "output_type": "stream",
     "text": [
      "\n",
      " 73%|███████▎  | 7200/9800 [22:10<07:41,  5.64it/s]Saving model checkpoint to temp/checkpoint-7200\n",
      "Configuration saved in temp/checkpoint-7200/config.json\n"
     ]
    },
    {
     "name": "stdout",
     "output_type": "stream",
     "text": [
      "{'eval_loss': 0.840442955493927, 'eval_accuracy': 0.7131882202304738, 'eval_runtime': 1.9702, 'eval_samples_per_second': 2378.486, 'eval_steps_per_second': 6.598, 'epoch': 73.47}\n"
     ]
    },
    {
     "name": "stderr",
     "output_type": "stream",
     "text": [
      "Model weights saved in temp/checkpoint-7200/pytorch_model.bin\n",
      " 78%|███████▊  | 7600/9800 [23:22<06:34,  5.58it/s]***** Running Evaluation *****\n",
      "  Num examples = 4686\n",
      "  Batch size = 384\n"
     ]
    },
    {
     "name": "stdout",
     "output_type": "stream",
     "text": [
      "{'loss': 0.4939, 'learning_rate': 1.1827956989247313e-05, 'epoch': 77.55}\n"
     ]
    },
    {
     "name": "stderr",
     "output_type": "stream",
     "text": [
      "\n",
      " 78%|███████▊  | 7600/9800 [23:24<06:34,  5.58it/s]Saving model checkpoint to temp/checkpoint-7600\n",
      "Configuration saved in temp/checkpoint-7600/config.json\n"
     ]
    },
    {
     "name": "stdout",
     "output_type": "stream",
     "text": [
      "{'eval_loss': 0.841055154800415, 'eval_accuracy': 0.7116944088775075, 'eval_runtime': 1.7816, 'eval_samples_per_second': 2630.289, 'eval_steps_per_second': 7.297, 'epoch': 77.55}\n"
     ]
    },
    {
     "name": "stderr",
     "output_type": "stream",
     "text": [
      "Model weights saved in temp/checkpoint-7600/pytorch_model.bin\n",
      " 82%|████████▏ | 8000/9800 [24:36<05:25,  5.53it/s]***** Running Evaluation *****\n",
      "  Num examples = 4686\n",
      "  Batch size = 384\n"
     ]
    },
    {
     "name": "stdout",
     "output_type": "stream",
     "text": [
      "{'loss': 0.4887, 'learning_rate': 9.67741935483871e-06, 'epoch': 81.63}\n"
     ]
    },
    {
     "name": "stderr",
     "output_type": "stream",
     "text": [
      "\n",
      " 82%|████████▏ | 8000/9800 [24:38<05:25,  5.53it/s]Saving model checkpoint to temp/checkpoint-8000\n",
      "Configuration saved in temp/checkpoint-8000/config.json\n"
     ]
    },
    {
     "name": "stdout",
     "output_type": "stream",
     "text": [
      "{'eval_loss': 0.8411793112754822, 'eval_accuracy': 0.7142552283397354, 'eval_runtime': 1.7857, 'eval_samples_per_second': 2624.171, 'eval_steps_per_second': 7.28, 'epoch': 81.63}\n"
     ]
    },
    {
     "name": "stderr",
     "output_type": "stream",
     "text": [
      "Model weights saved in temp/checkpoint-8000/pytorch_model.bin\n",
      " 86%|████████▌ | 8400/9800 [25:51<04:09,  5.61it/s]***** Running Evaluation *****\n",
      "  Num examples = 4686\n",
      "  Batch size = 384\n"
     ]
    },
    {
     "name": "stdout",
     "output_type": "stream",
     "text": [
      "{'loss': 0.4868, 'learning_rate': 7.526881720430108e-06, 'epoch': 85.71}\n"
     ]
    },
    {
     "name": "stderr",
     "output_type": "stream",
     "text": [
      "\n",
      " 86%|████████▌ | 8400/9800 [25:53<04:09,  5.61it/s]Saving model checkpoint to temp/checkpoint-8400\n",
      "Configuration saved in temp/checkpoint-8400/config.json\n"
     ]
    },
    {
     "name": "stdout",
     "output_type": "stream",
     "text": [
      "{'eval_loss': 0.8459917306900024, 'eval_accuracy': 0.7121212121212122, 'eval_runtime': 1.7833, 'eval_samples_per_second': 2627.775, 'eval_steps_per_second': 7.29, 'epoch': 85.71}\n"
     ]
    },
    {
     "name": "stderr",
     "output_type": "stream",
     "text": [
      "Model weights saved in temp/checkpoint-8400/pytorch_model.bin\n",
      " 90%|████████▉ | 8800/9800 [27:05<03:00,  5.53it/s]***** Running Evaluation *****\n",
      "  Num examples = 4686\n",
      "  Batch size = 384\n"
     ]
    },
    {
     "name": "stdout",
     "output_type": "stream",
     "text": [
      "{'loss': 0.4855, 'learning_rate': 5.376344086021506e-06, 'epoch': 89.8}\n"
     ]
    },
    {
     "name": "stderr",
     "output_type": "stream",
     "text": [
      "\n",
      " 90%|████████▉ | 8800/9800 [27:07<03:00,  5.53it/s]Saving model checkpoint to temp/checkpoint-8800\n",
      "Configuration saved in temp/checkpoint-8800/config.json\n"
     ]
    },
    {
     "name": "stdout",
     "output_type": "stream",
     "text": [
      "{'eval_loss': 0.8456211090087891, 'eval_accuracy': 0.7140418267178831, 'eval_runtime': 1.7848, 'eval_samples_per_second': 2625.511, 'eval_steps_per_second': 7.284, 'epoch': 89.8}\n"
     ]
    },
    {
     "name": "stderr",
     "output_type": "stream",
     "text": [
      "Model weights saved in temp/checkpoint-8800/pytorch_model.bin\n",
      " 94%|█████████▍| 9200/9800 [28:19<01:46,  5.64it/s]***** Running Evaluation *****\n",
      "  Num examples = 4686\n",
      "  Batch size = 384\n"
     ]
    },
    {
     "name": "stdout",
     "output_type": "stream",
     "text": [
      "{'loss': 0.4846, 'learning_rate': 3.225806451612903e-06, 'epoch': 93.88}\n"
     ]
    },
    {
     "name": "stderr",
     "output_type": "stream",
     "text": [
      "\n",
      " 94%|█████████▍| 9200/9800 [28:21<01:46,  5.64it/s]Saving model checkpoint to temp/checkpoint-9200\n",
      "Configuration saved in temp/checkpoint-9200/config.json\n"
     ]
    },
    {
     "name": "stdout",
     "output_type": "stream",
     "text": [
      "{'eval_loss': 0.845083475112915, 'eval_accuracy': 0.7129748186086214, 'eval_runtime': 1.7706, 'eval_samples_per_second': 2646.55, 'eval_steps_per_second': 7.342, 'epoch': 93.88}\n"
     ]
    },
    {
     "name": "stderr",
     "output_type": "stream",
     "text": [
      "Model weights saved in temp/checkpoint-9200/pytorch_model.bin\n",
      " 98%|█████████▊| 9600/9800 [29:33<00:36,  5.55it/s]***** Running Evaluation *****\n",
      "  Num examples = 4686\n",
      "  Batch size = 384\n"
     ]
    },
    {
     "name": "stdout",
     "output_type": "stream",
     "text": [
      "{'loss': 0.4854, 'learning_rate': 1.0752688172043011e-06, 'epoch': 97.96}\n"
     ]
    },
    {
     "name": "stderr",
     "output_type": "stream",
     "text": [
      "\n",
      " 98%|█████████▊| 9600/9800 [29:35<00:36,  5.55it/s]Saving model checkpoint to temp/checkpoint-9600\n",
      "Configuration saved in temp/checkpoint-9600/config.json\n"
     ]
    },
    {
     "name": "stdout",
     "output_type": "stream",
     "text": [
      "{'eval_loss': 0.8470042943954468, 'eval_accuracy': 0.7142552283397354, 'eval_runtime': 1.7896, 'eval_samples_per_second': 2618.417, 'eval_steps_per_second': 7.264, 'epoch': 97.96}\n"
     ]
    },
    {
     "name": "stderr",
     "output_type": "stream",
     "text": [
      "Model weights saved in temp/checkpoint-9600/pytorch_model.bin\n",
      "100%|██████████| 9800/9800 [30:12<00:00,  6.23it/s]\n",
      "\n",
      "Training completed. Do not forget to share your model on huggingface.co/models =)\n",
      "\n",
      "\n",
      "Loading best model from temp/checkpoint-800 (score: 0.7707378268241882).\n",
      "100%|██████████| 9800/9800 [30:12<00:00,  5.41it/s]"
     ]
    },
    {
     "name": "stdout",
     "output_type": "stream",
     "text": [
      "{'train_runtime': 1812.6928, 'train_samples_per_second': 1034.042, 'train_steps_per_second': 5.406, 'train_loss': 0.5399496273118622, 'epoch': 100.0}\n"
     ]
    },
    {
     "name": "stderr",
     "output_type": "stream",
     "text": [
      "\n"
     ]
    },
    {
     "data": {
      "text/plain": [
       "TrainOutput(global_step=9800, training_loss=0.5399496273118622, metrics={'train_runtime': 1812.6928, 'train_samples_per_second': 1034.042, 'train_steps_per_second': 5.406, 'train_loss': 0.5399496273118622, 'epoch': 100.0})"
      ]
     },
     "execution_count": 12,
     "metadata": {},
     "output_type": "execute_result"
    }
   ],
   "source": [
    "MODEL_NAME = '/home/abdullah/Code/dl/lt_bert/best_models/1/1_combined'\n",
    "model = BertForSequenceClassification.from_pretrained(\n",
    "    MODEL_NAME, num_labels=3).to('cuda')\n",
    "model.manual_seed = 14\n",
    "\n",
    "for name, param in model.named_parameters():\n",
    "    if 'bert.encoder.layer.0' in name:\n",
    "        # print(name, param.requires_grad)\n",
    "        param.requires_grad = False\n",
    "# print(\"\\n\\n\\n\")\n",
    "# for name, param in model.named_parameters():\n",
    "#     print(name, param.requires_grad)\n",
    "\n",
    "training_args = TrainingArguments(\n",
    "    output_dir=f\"temp\",\n",
    "    num_train_epochs=100,\n",
    "    per_device_train_batch_size=192,\n",
    "    per_device_eval_batch_size=384,\n",
    "    warmup_steps=500,\n",
    "    learning_rate=5e-5,\n",
    "    weight_decay=0.01,\n",
    "    overwrite_output_dir=True,\n",
    "    logging_dir=f\"temp/logs\",\n",
    "    logging_steps=400,\n",
    "    save_steps=400,\n",
    "    load_best_model_at_end=True,\n",
    "    evaluation_strategy=\"steps\",\n",
    "    seed=14,\n",
    ")\n",
    "\n",
    "trainer = Trainer(\n",
    "    model=model,\n",
    "    args=training_args,\n",
    "    train_dataset=train_dataset,\n",
    "    eval_dataset=eval_dataset,\n",
    "    compute_metrics=f1_calculator,\n",
    "\n",
    ")\n",
    "\n",
    "trainer.train()\n",
    "\n",
    "# print(cool.metrics)\n",
    "\n",
    "trainer = Trainer(\n",
    "    model=model,\n",
    "    args=training_args,\n",
    "    train_dataset=train_dataset,\n",
    "    eval_dataset=eval_dataset,\n",
    "    compute_metrics=compute_metrics,\n",
    "\n",
    ")\n",
    "\n",
    "trainer.train()\n"
   ]
  }
 ],
 "metadata": {
  "interpreter": {
   "hash": "30945d60abeb4d30e097bab3ad7b6ead7c1fba264acb4ede644ab6174c0ba9cb"
  },
  "kernelspec": {
   "display_name": "Python 3.8.10 ('venv_499A': venv)",
   "language": "python",
   "name": "python3"
  },
  "language_info": {
   "codemirror_mode": {
    "name": "ipython",
    "version": 3
   },
   "file_extension": ".py",
   "mimetype": "text/x-python",
   "name": "python",
   "nbconvert_exporter": "python",
   "pygments_lexer": "ipython3",
   "version": "3.8.10"
  },
  "orig_nbformat": 4
 },
 "nbformat": 4,
 "nbformat_minor": 2
}
