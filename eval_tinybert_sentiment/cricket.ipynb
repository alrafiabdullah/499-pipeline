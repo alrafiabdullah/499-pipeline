{
 "cells": [
  {
   "cell_type": "code",
   "execution_count": 1,
   "metadata": {},
   "outputs": [],
   "source": [
    "import pandas as pd\n",
    "import torch\n",
    "import os\n",
    "\n",
    "from torch.utils.data import Dataset\n",
    "from transformers import (BertTokenizer, BertForSequenceClassification, Trainer,\n",
    "                          TrainingArguments, BertPreTrainedModel)\n",
    "# from simpletransformers.language_modeling import LanguageModelingModel\n",
    "from sklearn.metrics import accuracy_score, f1_score\n"
   ]
  },
  {
   "cell_type": "code",
   "execution_count": 2,
   "metadata": {},
   "outputs": [
    {
     "name": "stdout",
     "output_type": "stream",
     "text": [
      "True\n",
      "NVIDIA GeForce RTX 3060\n",
      "_CudaDeviceProperties(name='NVIDIA GeForce RTX 3060', major=8, minor=6, total_memory=12050MB, multi_processor_count=28)\n"
     ]
    }
   ],
   "source": [
    "print(torch.cuda.is_available())\n",
    "print(torch.cuda.get_device_name(0))\n",
    "print(torch.cuda.get_device_properties(0))"
   ]
  },
  {
   "cell_type": "code",
   "execution_count": 3,
   "metadata": {},
   "outputs": [],
   "source": [
    "MODEL_NAME = '/home/abdullah/Code/dl/lt_bert/best_models/best_tiny_bert'\n",
    "TRAIN_FILE_LOC = '/home/abdullah/Code/dl/bnlp-resources/sentiment/ABSA_datasets/BASA_cricket_train.tsv'\n",
    "TEST_FILE_LOC = '/home/abdullah/Code/dl/bnlp-resources/sentiment/ABSA_datasets/BASA_cricket_test.tsv'\n",
    "EVAL_FILE_LOC = '/home/abdullah/Code/dl/bnlp-resources/sentiment/ABSA_datasets/BASA_cricket_dev.tsv'\n"
   ]
  },
  {
   "cell_type": "code",
   "execution_count": 4,
   "metadata": {},
   "outputs": [
    {
     "data": {
      "text/plain": [
       "['/home/abdullah/Code/dl/bnlp-resources/sentiment/ABSA_datasets/BASA_cricket_dev.txt',\n",
       " 'BASA_cricket_dev']"
      ]
     },
     "execution_count": 4,
     "metadata": {},
     "output_type": "execute_result"
    }
   ],
   "source": [
    "def tsv_to_text(tsv_file_loc):\n",
    "    file_name = tsv_file_loc.split(\"/\")[-1].split(\".\")[0]\n",
    "    txt_name = tsv_file_loc.replace(\".tsv\", \".txt\")\n",
    "    txt_name = txt_name.replace(\"split_merged\", \"texts\")\n",
    "\n",
    "    if os.path.exists(txt_name):\n",
    "        return [txt_name, file_name]\n",
    "\n",
    "    df = pd.read_csv(tsv_file_loc, sep=\"\\t\")\n",
    "\n",
    "    for txt in df[\"text\"]:\n",
    "        with open(txt_name, \"a\", encoding=\"utf8\") as f:\n",
    "            f.writelines(txt + \"\\n\")\n",
    "    return [txt_name, file_name]\n",
    "\n",
    "\n",
    "tsv_to_text(\"/home/abdullah/Code/dl/bnlp-resources/sentiment/ABSA_datasets/BASA_cricket_dev.tsv\")\n"
   ]
  },
  {
   "cell_type": "code",
   "execution_count": 5,
   "metadata": {},
   "outputs": [
    {
     "name": "stdout",
     "output_type": "stream",
     "text": [
      "                                                   text class_label\n",
      "0     তাই, ভাল খাবারের জন্য আমিসুপারিশ করতাম, কিন্তু...           1\n",
      "1     খাঁটি খাবার এবং তাদের কাছে সত্যিকারের সেবা আছে...           1\n",
      "2     আমি  পাচ বছরেরও বেশি সময় ধরে উপরের হার্টল্যান...           1\n",
      "3                                 এটা সুপারিশ আমি করেছি           1\n",
      "4     জানিনা পূর্ববর্তী সমালোচক কে ছিলেন, লং, ডাইন্ড...           1\n",
      "...                                                 ...         ...\n",
      "1360  কিন্তু একরকম একটু অপেক্ষা করতে পারতাম,আমরা উদ্...           1\n",
      "1361              গ্রেট bagels পুরানো-ভাবে তৈরির উপায় ।           1\n",
      "1362     অ্যাট্রাকিয়াস থাকার কারনে খাবারটি ভয়াবহ ছিল।           2\n",
      "1363  ওয়েটার আমাদের উপেক্ষা করেছিলেন তা আমরা আমাদের...           2\n",
      "1364                            এই জায়গাটি ভীশন খারাপ।           2\n",
      "\n",
      "[1365 rows x 2 columns]\n"
     ]
    }
   ],
   "source": [
    "def tsv_to_df(csv_file_loc):\n",
    "    df = pd.read_csv(csv_file_loc, sep='\\t')\n",
    "    # remove id column\n",
    "    df = df.drop(columns=['id'])\n",
    "\n",
    "    # replace neutral with 0, positive with 1, negative with 2 in class_label column\n",
    "    df.loc[df['class_label'] == 'neutral', 'class_label'] = 0\n",
    "    df.loc[df['class_label'] == 'positive', 'class_label'] = 1\n",
    "    df.loc[df['class_label'] == 'negative', 'class_label'] = 2\n",
    "\n",
    "    return df\n",
    "\n",
    "\n",
    "train_df = tsv_to_df(\n",
    "    \"/home/abdullah/Code/dl/bnlp-resources/sentiment/ABSA_datasets/BASA_restaurant_train.tsv\")\n",
    "\n",
    "texts = train_df['text'].tolist()\n",
    "print(train_df)\n"
   ]
  },
  {
   "cell_type": "code",
   "execution_count": 6,
   "metadata": {},
   "outputs": [],
   "source": [
    "def compute_metrics(pred):\n",
    "  labels = pred.label_ids\n",
    "  preds = pred.predictions.argmax(-1)\n",
    "  # calculate accuracy using sklearn's function\n",
    "  acc = accuracy_score(labels, preds)\n",
    "  return {\n",
    "      'accuracy': acc,\n",
    "  }\n"
   ]
  },
  {
   "cell_type": "code",
   "execution_count": 7,
   "metadata": {},
   "outputs": [],
   "source": [
    "def f1_calculator(pred):\n",
    "  labels = pred.label_ids\n",
    "  preds = pred.predictions.argmax(-1)\n",
    "  # calculate accuracy using sklearn's function\n",
    "  f1 = f1_score(labels, preds, average='weighted')\n",
    "  return {\n",
    "      'f1': f1,\n",
    "  }\n"
   ]
  },
  {
   "cell_type": "code",
   "execution_count": 8,
   "metadata": {},
   "outputs": [],
   "source": [
    "train_list = tsv_to_text(TRAIN_FILE_LOC)\n",
    "test_list = tsv_to_text(TEST_FILE_LOC)\n",
    "eval_list = tsv_to_text(EVAL_FILE_LOC)\n"
   ]
  },
  {
   "cell_type": "code",
   "execution_count": 9,
   "metadata": {},
   "outputs": [
    {
     "name": "stderr",
     "output_type": "stream",
     "text": [
      "Some weights of the model checkpoint at /home/abdullah/Code/dl/lt_bert/best_models/best_tiny_bert were not used when initializing BertForSequenceClassification: ['cls.predictions.transform.LayerNorm.bias', 'cls.predictions.bias', 'cls.predictions.transform.dense.weight', 'cls.predictions.transform.LayerNorm.weight', 'cls.predictions.transform.dense.bias', 'cls.predictions.decoder.bias', 'cls.predictions.decoder.weight']\n",
      "- This IS expected if you are initializing BertForSequenceClassification from the checkpoint of a model trained on another task or with another architecture (e.g. initializing a BertForSequenceClassification model from a BertForPreTraining model).\n",
      "- This IS NOT expected if you are initializing BertForSequenceClassification from the checkpoint of a model that you expect to be exactly identical (initializing a BertForSequenceClassification model from a BertForSequenceClassification model).\n",
      "Some weights of BertForSequenceClassification were not initialized from the model checkpoint at /home/abdullah/Code/dl/lt_bert/best_models/best_tiny_bert and are newly initialized: ['classifier.bias', 'classifier.weight', 'bert.pooler.dense.bias', 'bert.pooler.dense.weight']\n",
      "You should probably TRAIN this model on a down-stream task to be able to use it for predictions and inference.\n"
     ]
    }
   ],
   "source": [
    "os.environ[\"WANDB_DISABLED\"] = \"true\"\n",
    "\n",
    "train_df = tsv_to_df(TRAIN_FILE_LOC)\n",
    "test_df = tsv_to_df(TEST_FILE_LOC)\n",
    "eval_df = tsv_to_df(EVAL_FILE_LOC)\n",
    "\n",
    "\n",
    "class TINYDataset(Dataset):\n",
    "    def __init__(self, encodings, labels):\n",
    "        self.encodings = encodings\n",
    "        self.labels = labels\n",
    "\n",
    "    def __getitem__(self, idx):\n",
    "        item = {key: torch.tensor(value[idx])\n",
    "                for key, value in self.encodings.items()}\n",
    "        item['labels'] = torch.tensor(self.labels[idx])\n",
    "        return item\n",
    "\n",
    "    def __len__(self):\n",
    "        return len(self.labels)\n",
    "\n",
    "\n",
    "tokenizer = BertTokenizer.from_pretrained(MODEL_NAME)\n",
    "\n",
    "train_encodings = tokenizer(train_df['text'].tolist(\n",
    "), padding=True, truncation=True, max_length=512)\n",
    "test_encodings = tokenizer(test_df['text'].tolist(\n",
    "), padding=True, truncation=True, max_length=512)\n",
    "eval_encodings = tokenizer(eval_df['text'].tolist(\n",
    "), padding=True, truncation=True, max_length=512)\n",
    "\n",
    "train_dataset = TINYDataset(train_encodings, train_df['class_label'].tolist())\n",
    "test_dataset = TINYDataset(test_encodings, test_df['class_label'].tolist())\n",
    "eval_dataset = TINYDataset(eval_encodings, eval_df['class_label'].tolist())\n",
    "\n",
    "model = BertForSequenceClassification.from_pretrained(MODEL_NAME, num_labels=3).to('cuda')\n",
    "model.manual_seed = 14\n"
   ]
  },
  {
   "cell_type": "markdown",
   "metadata": {},
   "source": [
    "## 1 Epoch Train"
   ]
  },
  {
   "cell_type": "code",
   "execution_count": 10,
   "metadata": {},
   "outputs": [
    {
     "name": "stderr",
     "output_type": "stream",
     "text": [
      "Using the `WAND_DISABLED` environment variable is deprecated and will be removed in v5. Use the --report_to flag to control the integrations used for logging result (for instance --report_to none).\n",
      "***** Running training *****\n",
      "  Num examples = 2085\n",
      "  Num Epochs = 1\n",
      "  Instantaneous batch size per device = 48\n",
      "  Total train batch size (w. parallel, distributed & accumulation) = 48\n",
      "  Gradient Accumulation steps = 1\n",
      "  Total optimization steps = 44\n",
      "100%|██████████| 44/44 [00:01<00:00, 48.68it/s]***** Running Evaluation *****\n",
      "  Num examples = 372\n",
      "  Batch size = 96\n"
     ]
    },
    {
     "name": "stdout",
     "output_type": "stream",
     "text": [
      "{'loss': 1.1086, 'learning_rate': 4.4e-06, 'epoch': 1.0}\n"
     ]
    },
    {
     "name": "stderr",
     "output_type": "stream",
     "text": [
      "                                               \n",
      "100%|██████████| 44/44 [00:01<00:00, 48.68it/s]Saving model checkpoint to temp/checkpoint-44\n",
      "Configuration saved in temp/checkpoint-44/config.json\n"
     ]
    },
    {
     "name": "stdout",
     "output_type": "stream",
     "text": [
      "{'eval_loss': 1.0908746719360352, 'eval_runtime': 0.0396, 'eval_samples_per_second': 9390.798, 'eval_steps_per_second': 100.976, 'epoch': 1.0}\n"
     ]
    },
    {
     "name": "stderr",
     "output_type": "stream",
     "text": [
      "Model weights saved in temp/checkpoint-44/pytorch_model.bin\n",
      "\n",
      "\n",
      "Training completed. Do not forget to share your model on huggingface.co/models =)\n",
      "\n",
      "\n",
      "Loading best model from temp/checkpoint-44 (score: 1.0908746719360352).\n",
      "100%|██████████| 44/44 [00:02<00:00, 18.29it/s]"
     ]
    },
    {
     "name": "stdout",
     "output_type": "stream",
     "text": [
      "{'train_runtime': 2.416, 'train_samples_per_second': 862.981, 'train_steps_per_second': 18.212, 'train_loss': 1.1085989691994407, 'epoch': 1.0}\n"
     ]
    },
    {
     "name": "stderr",
     "output_type": "stream",
     "text": [
      "\n"
     ]
    },
    {
     "data": {
      "text/plain": [
       "TrainOutput(global_step=44, training_loss=1.1085989691994407, metrics={'train_runtime': 2.416, 'train_samples_per_second': 862.981, 'train_steps_per_second': 18.212, 'train_loss': 1.1085989691994407, 'epoch': 1.0})"
      ]
     },
     "execution_count": 10,
     "metadata": {},
     "output_type": "execute_result"
    }
   ],
   "source": [
    "# training_args = TrainingArguments(\n",
    "#     output_dir=f\"temp\",\n",
    "#     num_train_epochs=1,\n",
    "#     per_device_train_batch_size=48,\n",
    "#     per_device_eval_batch_size=96,\n",
    "#     warmup_steps=500,\n",
    "#     learning_rate=5e-5,\n",
    "#     weight_decay=0.01,\n",
    "#     overwrite_output_dir=True,\n",
    "#     logging_dir=f\"temp/logs\",\n",
    "#     logging_steps=44,\n",
    "#     save_steps=44,\n",
    "#     load_best_model_at_end=True,\n",
    "#     evaluation_strategy=\"steps\",\n",
    "#     seed=14,\n",
    "# )\n",
    "\n",
    "# trainer = Trainer(\n",
    "#     model=model,\n",
    "#     args=training_args,\n",
    "#     train_dataset=train_dataset,\n",
    "#     eval_dataset=eval_dataset\n",
    "\n",
    "# )\n",
    "\n",
    "# trainer.train()\n"
   ]
  },
  {
   "cell_type": "markdown",
   "metadata": {},
   "source": [
    "## 100 Epoch with 1 epoch model"
   ]
  },
  {
   "cell_type": "code",
   "execution_count": 12,
   "metadata": {},
   "outputs": [
    {
     "name": "stderr",
     "output_type": "stream",
     "text": [
      "loading configuration file /home/abdullah/Code/dl/lt_bert/best_models/1/1_cricket_sentiment/config.json\n",
      "Model config BertConfig {\n",
      "  \"_name_or_path\": \"/home/abdullah/Code/dl/lt_bert/best_models/best_tiny_bert\",\n",
      "  \"architectures\": [\n",
      "    \"BertForSequenceClassification\"\n",
      "  ],\n",
      "  \"attention_probs_dropout_prob\": 0.1,\n",
      "  \"classifier_dropout\": null,\n",
      "  \"hidden_act\": \"gelu\",\n",
      "  \"hidden_dropout_prob\": 0.1,\n",
      "  \"hidden_size\": 128,\n",
      "  \"id2label\": {\n",
      "    \"0\": \"LABEL_0\",\n",
      "    \"1\": \"LABEL_1\",\n",
      "    \"2\": \"LABEL_2\"\n",
      "  },\n",
      "  \"initializer_range\": 0.02,\n",
      "  \"intermediate_size\": 512,\n",
      "  \"label2id\": {\n",
      "    \"LABEL_0\": 0,\n",
      "    \"LABEL_1\": 1,\n",
      "    \"LABEL_2\": 2\n",
      "  },\n",
      "  \"layer_norm_eps\": 1e-12,\n",
      "  \"max_position_embeddings\": 512,\n",
      "  \"model_type\": \"bert\",\n",
      "  \"num_attention_heads\": 2,\n",
      "  \"num_hidden_layers\": 2,\n",
      "  \"pad_token_id\": 0,\n",
      "  \"position_embedding_type\": \"absolute\",\n",
      "  \"problem_type\": \"single_label_classification\",\n",
      "  \"torch_dtype\": \"float32\",\n",
      "  \"transformers_version\": \"4.12.5\",\n",
      "  \"type_vocab_size\": 2,\n",
      "  \"use_cache\": true,\n",
      "  \"vocab_size\": 30522\n",
      "}\n",
      "\n",
      "loading weights file /home/abdullah/Code/dl/lt_bert/best_models/1/1_cricket_sentiment/pytorch_model.bin\n",
      "All model checkpoint weights were used when initializing BertForSequenceClassification.\n",
      "\n",
      "All the weights of BertForSequenceClassification were initialized from the model checkpoint at /home/abdullah/Code/dl/lt_bert/best_models/1/1_cricket_sentiment.\n",
      "If your task is similar to the task the model of the checkpoint was trained on, you can already use BertForSequenceClassification for predictions without further training.\n",
      "using `logging_steps` to initialize `eval_steps` to 100\n",
      "PyTorch: setting up devices\n",
      "The default value for the training argument `--report_to` will change in v5 (from all installed integrations to none). In v5, you will need to use `--report_to all` to get the same behavior as now. You should start updating your code and make this info disappear :-).\n",
      "Using the `WAND_DISABLED` environment variable is deprecated and will be removed in v5. Use the --report_to flag to control the integrations used for logging result (for instance --report_to none).\n",
      "***** Running training *****\n",
      "  Num examples = 2085\n",
      "  Num Epochs = 100\n",
      "  Instantaneous batch size per device = 192\n",
      "  Total train batch size (w. parallel, distributed & accumulation) = 192\n",
      "  Gradient Accumulation steps = 1\n",
      "  Total optimization steps = 1100\n",
      "  9%|▉         | 100/1100 [00:04<00:46, 21.62it/s]***** Running Evaluation *****\n",
      "  Num examples = 372\n",
      "  Batch size = 384\n"
     ]
    },
    {
     "name": "stdout",
     "output_type": "stream",
     "text": [
      "{'loss': 1.0793, 'learning_rate': 1e-05, 'epoch': 9.09}\n"
     ]
    },
    {
     "name": "stderr",
     "output_type": "stream",
     "text": [
      "                                                  \n",
      "  9%|▉         | 100/1100 [00:04<00:46, 21.62it/s]Saving model checkpoint to temp/checkpoint-100\n",
      "Configuration saved in temp/checkpoint-100/config.json\n"
     ]
    },
    {
     "name": "stdout",
     "output_type": "stream",
     "text": [
      "{'eval_loss': 1.0488898754119873, 'eval_f1': 0.6248210659476015, 'eval_runtime': 0.0476, 'eval_samples_per_second': 7814.69, 'eval_steps_per_second': 21.007, 'epoch': 9.09}\n"
     ]
    },
    {
     "name": "stderr",
     "output_type": "stream",
     "text": [
      "Model weights saved in temp/checkpoint-100/pytorch_model.bin\n",
      " 18%|█▊        | 200/1100 [00:10<00:41, 21.65it/s]***** Running Evaluation *****\n",
      "  Num examples = 372\n",
      "  Batch size = 384\n"
     ]
    },
    {
     "name": "stdout",
     "output_type": "stream",
     "text": [
      "{'loss': 1.0295, 'learning_rate': 2e-05, 'epoch': 18.18}\n"
     ]
    },
    {
     "name": "stderr",
     "output_type": "stream",
     "text": [
      "                                                  \n",
      " 18%|█▊        | 200/1100 [00:10<00:41, 21.65it/s]Saving model checkpoint to temp/checkpoint-200\n",
      "Configuration saved in temp/checkpoint-200/config.json\n"
     ]
    },
    {
     "name": "stdout",
     "output_type": "stream",
     "text": [
      "{'eval_loss': 1.008363962173462, 'eval_f1': 0.6248210659476015, 'eval_runtime': 0.042, 'eval_samples_per_second': 8858.942, 'eval_steps_per_second': 23.814, 'epoch': 18.18}\n"
     ]
    },
    {
     "name": "stderr",
     "output_type": "stream",
     "text": [
      "Model weights saved in temp/checkpoint-200/pytorch_model.bin\n",
      " 27%|██▋       | 300/1100 [00:16<00:36, 21.81it/s]***** Running Evaluation *****\n",
      "  Num examples = 372\n",
      "  Batch size = 384\n"
     ]
    },
    {
     "name": "stdout",
     "output_type": "stream",
     "text": [
      "{'loss': 1.0114, 'learning_rate': 3e-05, 'epoch': 27.27}\n"
     ]
    },
    {
     "name": "stderr",
     "output_type": "stream",
     "text": [
      "                                                  \n",
      " 27%|██▋       | 300/1100 [00:16<00:36, 21.81it/s]Saving model checkpoint to temp/checkpoint-300\n",
      "Configuration saved in temp/checkpoint-300/config.json\n"
     ]
    },
    {
     "name": "stdout",
     "output_type": "stream",
     "text": [
      "{'eval_loss': 1.004226803779602, 'eval_f1': 0.6248210659476015, 'eval_runtime': 0.0423, 'eval_samples_per_second': 8790.762, 'eval_steps_per_second': 23.631, 'epoch': 27.27}\n"
     ]
    },
    {
     "name": "stderr",
     "output_type": "stream",
     "text": [
      "Model weights saved in temp/checkpoint-300/pytorch_model.bin\n",
      " 36%|███▋      | 400/1100 [00:22<00:31, 21.92it/s]***** Running Evaluation *****\n",
      "  Num examples = 372\n",
      "  Batch size = 384\n"
     ]
    },
    {
     "name": "stdout",
     "output_type": "stream",
     "text": [
      "{'loss': 1.0055, 'learning_rate': 4e-05, 'epoch': 36.36}\n"
     ]
    },
    {
     "name": "stderr",
     "output_type": "stream",
     "text": [
      "                                                  \n",
      " 36%|███▋      | 400/1100 [00:22<00:31, 21.92it/s]Saving model checkpoint to temp/checkpoint-400\n",
      "Configuration saved in temp/checkpoint-400/config.json\n"
     ]
    },
    {
     "name": "stdout",
     "output_type": "stream",
     "text": [
      "{'eval_loss': 1.0022228956222534, 'eval_f1': 0.6548080514052481, 'eval_runtime': 0.0497, 'eval_samples_per_second': 7484.26, 'eval_steps_per_second': 20.119, 'epoch': 36.36}\n"
     ]
    },
    {
     "name": "stderr",
     "output_type": "stream",
     "text": [
      "Model weights saved in temp/checkpoint-400/pytorch_model.bin\n",
      " 45%|████▌     | 500/1100 [00:27<00:29, 20.29it/s]***** Running Evaluation *****\n",
      "  Num examples = 372\n",
      "  Batch size = 384\n"
     ]
    },
    {
     "name": "stdout",
     "output_type": "stream",
     "text": [
      "{'loss': 0.9983, 'learning_rate': 5e-05, 'epoch': 45.45}\n"
     ]
    },
    {
     "name": "stderr",
     "output_type": "stream",
     "text": [
      "                                                  \n",
      " 45%|████▌     | 500/1100 [00:28<00:29, 20.29it/s]Saving model checkpoint to temp/checkpoint-500\n",
      "Configuration saved in temp/checkpoint-500/config.json\n"
     ]
    },
    {
     "name": "stdout",
     "output_type": "stream",
     "text": [
      "{'eval_loss': 1.0007418394088745, 'eval_f1': 0.6960853583943567, 'eval_runtime': 0.0539, 'eval_samples_per_second': 6906.282, 'eval_steps_per_second': 18.565, 'epoch': 45.45}\n"
     ]
    },
    {
     "name": "stderr",
     "output_type": "stream",
     "text": [
      "Model weights saved in temp/checkpoint-500/pytorch_model.bin\n",
      " 55%|█████▍    | 600/1100 [00:34<00:24, 20.46it/s]***** Running Evaluation *****\n",
      "  Num examples = 372\n",
      "  Batch size = 384\n"
     ]
    },
    {
     "name": "stdout",
     "output_type": "stream",
     "text": [
      "{'loss': 0.9913, 'learning_rate': 4.166666666666667e-05, 'epoch': 54.55}\n"
     ]
    },
    {
     "name": "stderr",
     "output_type": "stream",
     "text": [
      "                                                  \n",
      " 55%|█████▍    | 600/1100 [00:34<00:24, 20.46it/s]Saving model checkpoint to temp/checkpoint-600\n",
      "Configuration saved in temp/checkpoint-600/config.json\n"
     ]
    },
    {
     "name": "stdout",
     "output_type": "stream",
     "text": [
      "{'eval_loss': 1.00104558467865, 'eval_f1': 0.6910441943708407, 'eval_runtime': 0.0441, 'eval_samples_per_second': 8442.394, 'eval_steps_per_second': 22.695, 'epoch': 54.55}\n"
     ]
    },
    {
     "name": "stderr",
     "output_type": "stream",
     "text": [
      "Model weights saved in temp/checkpoint-600/pytorch_model.bin\n",
      " 64%|██████▎   | 700/1100 [00:41<00:19, 20.69it/s]***** Running Evaluation *****\n",
      "  Num examples = 372\n",
      "  Batch size = 384\n"
     ]
    },
    {
     "name": "stdout",
     "output_type": "stream",
     "text": [
      "{'loss': 0.985, 'learning_rate': 3.3333333333333335e-05, 'epoch': 63.64}\n"
     ]
    },
    {
     "name": "stderr",
     "output_type": "stream",
     "text": [
      "                                                  \n",
      " 64%|██████▎   | 700/1100 [00:41<00:19, 20.69it/s]Saving model checkpoint to temp/checkpoint-700\n",
      "Configuration saved in temp/checkpoint-700/config.json\n"
     ]
    },
    {
     "name": "stdout",
     "output_type": "stream",
     "text": [
      "{'eval_loss': 1.0027024745941162, 'eval_f1': 0.6959830404755661, 'eval_runtime': 0.0417, 'eval_samples_per_second': 8913.447, 'eval_steps_per_second': 23.961, 'epoch': 63.64}\n"
     ]
    },
    {
     "name": "stderr",
     "output_type": "stream",
     "text": [
      "Model weights saved in temp/checkpoint-700/pytorch_model.bin\n",
      " 73%|███████▎  | 800/1100 [00:47<00:14, 20.93it/s]***** Running Evaluation *****\n",
      "  Num examples = 372\n",
      "  Batch size = 384\n"
     ]
    },
    {
     "name": "stdout",
     "output_type": "stream",
     "text": [
      "{'loss': 0.9802, 'learning_rate': 2.5e-05, 'epoch': 72.73}\n"
     ]
    },
    {
     "name": "stderr",
     "output_type": "stream",
     "text": [
      "                                                  \n",
      " 73%|███████▎  | 800/1100 [00:47<00:14, 20.93it/s]Saving model checkpoint to temp/checkpoint-800\n",
      "Configuration saved in temp/checkpoint-800/config.json\n"
     ]
    },
    {
     "name": "stdout",
     "output_type": "stream",
     "text": [
      "{'eval_loss': 1.0038797855377197, 'eval_f1': 0.7013361032798036, 'eval_runtime': 0.0415, 'eval_samples_per_second': 8953.805, 'eval_steps_per_second': 24.069, 'epoch': 72.73}\n"
     ]
    },
    {
     "name": "stderr",
     "output_type": "stream",
     "text": [
      "Model weights saved in temp/checkpoint-800/pytorch_model.bin\n",
      " 82%|████████▏ | 900/1100 [00:52<00:09, 20.88it/s]***** Running Evaluation *****\n",
      "  Num examples = 372\n",
      "  Batch size = 384\n"
     ]
    },
    {
     "name": "stdout",
     "output_type": "stream",
     "text": [
      "{'loss': 0.9782, 'learning_rate': 1.6666666666666667e-05, 'epoch': 81.82}\n"
     ]
    },
    {
     "name": "stderr",
     "output_type": "stream",
     "text": [
      "                                                  \n",
      " 82%|████████▏ | 900/1100 [00:52<00:09, 20.88it/s]Saving model checkpoint to temp/checkpoint-900\n",
      "Configuration saved in temp/checkpoint-900/config.json\n"
     ]
    },
    {
     "name": "stdout",
     "output_type": "stream",
     "text": [
      "{'eval_loss': 1.0051754713058472, 'eval_f1': 0.6977225672877847, 'eval_runtime': 0.0447, 'eval_samples_per_second': 8330.518, 'eval_steps_per_second': 22.394, 'epoch': 81.82}\n"
     ]
    },
    {
     "name": "stderr",
     "output_type": "stream",
     "text": [
      "Model weights saved in temp/checkpoint-900/pytorch_model.bin\n",
      " 91%|█████████ | 1000/1100 [00:58<00:04, 21.37it/s]***** Running Evaluation *****\n",
      "  Num examples = 372\n",
      "  Batch size = 384\n"
     ]
    },
    {
     "name": "stdout",
     "output_type": "stream",
     "text": [
      "{'loss': 0.9754, 'learning_rate': 8.333333333333334e-06, 'epoch': 90.91}\n"
     ]
    },
    {
     "name": "stderr",
     "output_type": "stream",
     "text": [
      "                                                   \n",
      " 91%|█████████ | 1000/1100 [00:58<00:04, 21.37it/s]Saving model checkpoint to temp/checkpoint-1000\n",
      "Configuration saved in temp/checkpoint-1000/config.json\n"
     ]
    },
    {
     "name": "stdout",
     "output_type": "stream",
     "text": [
      "{'eval_loss': 1.0060348510742188, 'eval_f1': 0.7008094009052168, 'eval_runtime': 0.0441, 'eval_samples_per_second': 8437.646, 'eval_steps_per_second': 22.682, 'epoch': 90.91}\n"
     ]
    },
    {
     "name": "stderr",
     "output_type": "stream",
     "text": [
      "Model weights saved in temp/checkpoint-1000/pytorch_model.bin\n",
      "100%|██████████| 1100/1100 [01:04<00:00, 21.57it/s]***** Running Evaluation *****\n",
      "  Num examples = 372\n",
      "  Batch size = 384\n"
     ]
    },
    {
     "name": "stdout",
     "output_type": "stream",
     "text": [
      "{'loss': 0.9745, 'learning_rate': 0.0, 'epoch': 100.0}\n"
     ]
    },
    {
     "name": "stderr",
     "output_type": "stream",
     "text": [
      "                                                   \n",
      "100%|██████████| 1100/1100 [01:04<00:00, 21.57it/s]Saving model checkpoint to temp/checkpoint-1100\n",
      "Configuration saved in temp/checkpoint-1100/config.json\n"
     ]
    },
    {
     "name": "stdout",
     "output_type": "stream",
     "text": [
      "{'eval_loss': 1.0062693357467651, 'eval_f1': 0.6992459632519334, 'eval_runtime': 0.041, 'eval_samples_per_second': 9076.837, 'eval_steps_per_second': 24.4, 'epoch': 100.0}\n"
     ]
    },
    {
     "name": "stderr",
     "output_type": "stream",
     "text": [
      "Model weights saved in temp/checkpoint-1100/pytorch_model.bin\n",
      "\n",
      "\n",
      "Training completed. Do not forget to share your model on huggingface.co/models =)\n",
      "\n",
      "\n",
      "Loading best model from temp/checkpoint-500 (score: 1.0007418394088745).\n",
      "100%|██████████| 1100/1100 [01:05<00:00, 16.84it/s]\n",
      "***** Running training *****\n",
      "  Num examples = 2085\n",
      "  Num Epochs = 100\n",
      "  Instantaneous batch size per device = 192\n",
      "  Total train batch size (w. parallel, distributed & accumulation) = 192\n",
      "  Gradient Accumulation steps = 1\n",
      "  Total optimization steps = 1100\n"
     ]
    },
    {
     "name": "stdout",
     "output_type": "stream",
     "text": [
      "{'train_runtime': 65.3319, 'train_samples_per_second': 3191.396, 'train_steps_per_second': 16.837, 'train_loss': 1.0007891152121804, 'epoch': 100.0}\n"
     ]
    },
    {
     "name": "stderr",
     "output_type": "stream",
     "text": [
      "  9%|▉         | 100/1100 [00:04<00:46, 21.71it/s]***** Running Evaluation *****\n",
      "  Num examples = 372\n",
      "  Batch size = 384\n"
     ]
    },
    {
     "name": "stdout",
     "output_type": "stream",
     "text": [
      "{'loss': 0.9941, 'learning_rate': 1e-05, 'epoch': 9.09}\n"
     ]
    },
    {
     "name": "stderr",
     "output_type": "stream",
     "text": [
      "\n",
      "  9%|▉         | 100/1100 [00:04<00:46, 21.71it/s]Saving model checkpoint to temp/checkpoint-100\n",
      "Configuration saved in temp/checkpoint-100/config.json\n",
      "Model weights saved in temp/checkpoint-100/pytorch_model.bin\n"
     ]
    },
    {
     "name": "stdout",
     "output_type": "stream",
     "text": [
      "{'eval_loss': 1.0011996030807495, 'eval_accuracy': 0.7661290322580645, 'eval_runtime': 0.04, 'eval_samples_per_second': 9306.554, 'eval_steps_per_second': 25.018, 'epoch': 9.09}\n"
     ]
    },
    {
     "name": "stderr",
     "output_type": "stream",
     "text": [
      " 18%|█▊        | 200/1100 [00:10<00:39, 22.77it/s]***** Running Evaluation *****\n",
      "  Num examples = 372\n",
      "  Batch size = 384\n"
     ]
    },
    {
     "name": "stdout",
     "output_type": "stream",
     "text": [
      "{'loss': 0.9928, 'learning_rate': 2e-05, 'epoch': 18.18}\n"
     ]
    },
    {
     "name": "stderr",
     "output_type": "stream",
     "text": [
      "\n",
      " 18%|█▊        | 200/1100 [00:10<00:39, 22.77it/s]Saving model checkpoint to temp/checkpoint-200\n",
      "Configuration saved in temp/checkpoint-200/config.json\n"
     ]
    },
    {
     "name": "stdout",
     "output_type": "stream",
     "text": [
      "{'eval_loss': 1.0014601945877075, 'eval_accuracy': 0.7580645161290323, 'eval_runtime': 0.041, 'eval_samples_per_second': 9070.242, 'eval_steps_per_second': 24.382, 'epoch': 18.18}\n"
     ]
    },
    {
     "name": "stderr",
     "output_type": "stream",
     "text": [
      "Model weights saved in temp/checkpoint-200/pytorch_model.bin\n",
      " 27%|██▋       | 300/1100 [00:15<00:37, 21.60it/s]***** Running Evaluation *****\n",
      "  Num examples = 372\n",
      "  Batch size = 384\n"
     ]
    },
    {
     "name": "stdout",
     "output_type": "stream",
     "text": [
      "{'loss': 0.9903, 'learning_rate': 3e-05, 'epoch': 27.27}\n"
     ]
    },
    {
     "name": "stderr",
     "output_type": "stream",
     "text": [
      "\n",
      " 27%|██▋       | 300/1100 [00:15<00:37, 21.60it/s]Saving model checkpoint to temp/checkpoint-300\n",
      "Configuration saved in temp/checkpoint-300/config.json\n"
     ]
    },
    {
     "name": "stdout",
     "output_type": "stream",
     "text": [
      "{'eval_loss': 1.0014206171035767, 'eval_accuracy': 0.7553763440860215, 'eval_runtime': 0.043, 'eval_samples_per_second': 8659.617, 'eval_steps_per_second': 23.279, 'epoch': 27.27}\n"
     ]
    },
    {
     "name": "stderr",
     "output_type": "stream",
     "text": [
      "Model weights saved in temp/checkpoint-300/pytorch_model.bin\n",
      " 36%|███▋      | 400/1100 [00:21<00:32, 21.53it/s]***** Running Evaluation *****\n",
      "  Num examples = 372\n",
      "  Batch size = 384\n"
     ]
    },
    {
     "name": "stdout",
     "output_type": "stream",
     "text": [
      "{'loss': 0.9866, 'learning_rate': 4e-05, 'epoch': 36.36}\n"
     ]
    },
    {
     "name": "stderr",
     "output_type": "stream",
     "text": [
      "\n",
      " 36%|███▋      | 400/1100 [00:21<00:32, 21.53it/s]Saving model checkpoint to temp/checkpoint-400\n",
      "Configuration saved in temp/checkpoint-400/config.json\n"
     ]
    },
    {
     "name": "stdout",
     "output_type": "stream",
     "text": [
      "{'eval_loss': 1.00298011302948, 'eval_accuracy': 0.7580645161290323, 'eval_runtime': 0.0413, 'eval_samples_per_second': 8998.628, 'eval_steps_per_second': 24.19, 'epoch': 36.36}\n"
     ]
    },
    {
     "name": "stderr",
     "output_type": "stream",
     "text": [
      "Model weights saved in temp/checkpoint-400/pytorch_model.bin\n",
      " 45%|████▌     | 500/1100 [00:27<00:27, 21.46it/s]***** Running Evaluation *****\n",
      "  Num examples = 372\n",
      "  Batch size = 384\n"
     ]
    },
    {
     "name": "stdout",
     "output_type": "stream",
     "text": [
      "{'loss': 0.9818, 'learning_rate': 5e-05, 'epoch': 45.45}\n"
     ]
    },
    {
     "name": "stderr",
     "output_type": "stream",
     "text": [
      "\n",
      " 45%|████▌     | 500/1100 [00:27<00:27, 21.46it/s]Saving model checkpoint to temp/checkpoint-500\n",
      "Configuration saved in temp/checkpoint-500/config.json\n"
     ]
    },
    {
     "name": "stdout",
     "output_type": "stream",
     "text": [
      "{'eval_loss': 1.0042991638183594, 'eval_accuracy': 0.75, 'eval_runtime': 0.0417, 'eval_samples_per_second': 8911.207, 'eval_steps_per_second': 23.955, 'epoch': 45.45}\n"
     ]
    },
    {
     "name": "stderr",
     "output_type": "stream",
     "text": [
      "Model weights saved in temp/checkpoint-500/pytorch_model.bin\n",
      " 55%|█████▍    | 600/1100 [00:33<00:22, 22.30it/s]***** Running Evaluation *****\n",
      "  Num examples = 372\n",
      "  Batch size = 384\n"
     ]
    },
    {
     "name": "stdout",
     "output_type": "stream",
     "text": [
      "{'loss': 0.9777, 'learning_rate': 4.166666666666667e-05, 'epoch': 54.55}\n"
     ]
    },
    {
     "name": "stderr",
     "output_type": "stream",
     "text": [
      "\n",
      " 55%|█████▍    | 600/1100 [00:33<00:22, 22.30it/s]Saving model checkpoint to temp/checkpoint-600\n",
      "Configuration saved in temp/checkpoint-600/config.json\n",
      "Model weights saved in temp/checkpoint-600/pytorch_model.bin\n"
     ]
    },
    {
     "name": "stdout",
     "output_type": "stream",
     "text": [
      "{'eval_loss': 1.0052844285964966, 'eval_accuracy': 0.7473118279569892, 'eval_runtime': 0.0408, 'eval_samples_per_second': 9126.319, 'eval_steps_per_second': 24.533, 'epoch': 54.55}\n"
     ]
    },
    {
     "name": "stderr",
     "output_type": "stream",
     "text": [
      " 64%|██████▎   | 700/1100 [00:38<00:18, 21.39it/s]***** Running Evaluation *****\n",
      "  Num examples = 372\n",
      "  Batch size = 384\n"
     ]
    },
    {
     "name": "stdout",
     "output_type": "stream",
     "text": [
      "{'loss': 0.9728, 'learning_rate': 3.3333333333333335e-05, 'epoch': 63.64}\n"
     ]
    },
    {
     "name": "stderr",
     "output_type": "stream",
     "text": [
      "\n",
      " 64%|██████▎   | 700/1100 [00:38<00:18, 21.39it/s]Saving model checkpoint to temp/checkpoint-700\n",
      "Configuration saved in temp/checkpoint-700/config.json\n"
     ]
    },
    {
     "name": "stdout",
     "output_type": "stream",
     "text": [
      "{'eval_loss': 1.0071706771850586, 'eval_accuracy': 0.7446236559139785, 'eval_runtime': 0.0421, 'eval_samples_per_second': 8832.563, 'eval_steps_per_second': 23.743, 'epoch': 63.64}\n"
     ]
    },
    {
     "name": "stderr",
     "output_type": "stream",
     "text": [
      "Model weights saved in temp/checkpoint-700/pytorch_model.bin\n",
      " 73%|███████▎  | 800/1100 [00:44<00:14, 21.25it/s]***** Running Evaluation *****\n",
      "  Num examples = 372\n",
      "  Batch size = 384\n"
     ]
    },
    {
     "name": "stdout",
     "output_type": "stream",
     "text": [
      "{'loss': 0.9687, 'learning_rate': 2.5e-05, 'epoch': 72.73}\n"
     ]
    },
    {
     "name": "stderr",
     "output_type": "stream",
     "text": [
      "\n",
      " 73%|███████▎  | 800/1100 [00:44<00:14, 21.25it/s]Saving model checkpoint to temp/checkpoint-800\n",
      "Configuration saved in temp/checkpoint-800/config.json\n"
     ]
    },
    {
     "name": "stdout",
     "output_type": "stream",
     "text": [
      "{'eval_loss': 1.007204294204712, 'eval_accuracy': 0.7526881720430108, 'eval_runtime': 0.0424, 'eval_samples_per_second': 8768.432, 'eval_steps_per_second': 23.571, 'epoch': 72.73}\n"
     ]
    },
    {
     "name": "stderr",
     "output_type": "stream",
     "text": [
      "Model weights saved in temp/checkpoint-800/pytorch_model.bin\n",
      " 82%|████████▏ | 900/1100 [00:49<00:08, 22.42it/s]***** Running Evaluation *****\n",
      "  Num examples = 372\n",
      "  Batch size = 384\n"
     ]
    },
    {
     "name": "stdout",
     "output_type": "stream",
     "text": [
      "{'loss': 0.967, 'learning_rate': 1.6666666666666667e-05, 'epoch': 81.82}\n"
     ]
    },
    {
     "name": "stderr",
     "output_type": "stream",
     "text": [
      "\n",
      " 82%|████████▏ | 900/1100 [00:49<00:08, 22.42it/s]Saving model checkpoint to temp/checkpoint-900\n",
      "Configuration saved in temp/checkpoint-900/config.json\n"
     ]
    },
    {
     "name": "stdout",
     "output_type": "stream",
     "text": [
      "{'eval_loss': 1.0091530084609985, 'eval_accuracy': 0.7419354838709677, 'eval_runtime': 0.0403, 'eval_samples_per_second': 9220.648, 'eval_steps_per_second': 24.787, 'epoch': 81.82}\n"
     ]
    },
    {
     "name": "stderr",
     "output_type": "stream",
     "text": [
      "Model weights saved in temp/checkpoint-900/pytorch_model.bin\n",
      " 91%|█████████ | 1000/1100 [00:55<00:04, 20.99it/s]***** Running Evaluation *****\n",
      "  Num examples = 372\n",
      "  Batch size = 384\n"
     ]
    },
    {
     "name": "stdout",
     "output_type": "stream",
     "text": [
      "{'loss': 0.9641, 'learning_rate': 8.333333333333334e-06, 'epoch': 90.91}\n"
     ]
    },
    {
     "name": "stderr",
     "output_type": "stream",
     "text": [
      "\n",
      " 91%|█████████ | 1000/1100 [00:55<00:04, 20.99it/s]Saving model checkpoint to temp/checkpoint-1000\n",
      "Configuration saved in temp/checkpoint-1000/config.json\n",
      "Model weights saved in temp/checkpoint-1000/pytorch_model.bin\n"
     ]
    },
    {
     "name": "stdout",
     "output_type": "stream",
     "text": [
      "{'eval_loss': 1.0101834535598755, 'eval_accuracy': 0.7473118279569892, 'eval_runtime': 0.0445, 'eval_samples_per_second': 8366.881, 'eval_steps_per_second': 22.492, 'epoch': 90.91}\n"
     ]
    },
    {
     "name": "stderr",
     "output_type": "stream",
     "text": [
      "100%|██████████| 1100/1100 [01:00<00:00, 21.17it/s]***** Running Evaluation *****\n",
      "  Num examples = 372\n",
      "  Batch size = 384\n"
     ]
    },
    {
     "name": "stdout",
     "output_type": "stream",
     "text": [
      "{'loss': 0.9635, 'learning_rate': 0.0, 'epoch': 100.0}\n"
     ]
    },
    {
     "name": "stderr",
     "output_type": "stream",
     "text": [
      "\n",
      "100%|██████████| 1100/1100 [01:00<00:00, 21.17it/s]Saving model checkpoint to temp/checkpoint-1100\n",
      "Configuration saved in temp/checkpoint-1100/config.json\n"
     ]
    },
    {
     "name": "stdout",
     "output_type": "stream",
     "text": [
      "{'eval_loss': 1.0100125074386597, 'eval_accuracy': 0.7473118279569892, 'eval_runtime': 0.0419, 'eval_samples_per_second': 8888.667, 'eval_steps_per_second': 23.894, 'epoch': 100.0}\n"
     ]
    },
    {
     "name": "stderr",
     "output_type": "stream",
     "text": [
      "Model weights saved in temp/checkpoint-1100/pytorch_model.bin\n",
      "\n",
      "\n",
      "Training completed. Do not forget to share your model on huggingface.co/models =)\n",
      "\n",
      "\n",
      "Loading best model from temp/checkpoint-100 (score: 1.0011996030807495).\n",
      "100%|██████████| 1100/1100 [01:01<00:00, 17.78it/s]"
     ]
    },
    {
     "name": "stdout",
     "output_type": "stream",
     "text": [
      "{'train_runtime': 61.8619, 'train_samples_per_second': 3370.408, 'train_steps_per_second': 17.782, 'train_loss': 0.9781355701793324, 'epoch': 100.0}\n"
     ]
    },
    {
     "name": "stderr",
     "output_type": "stream",
     "text": [
      "\n"
     ]
    },
    {
     "data": {
      "text/plain": [
       "TrainOutput(global_step=1100, training_loss=0.9781355701793324, metrics={'train_runtime': 61.8619, 'train_samples_per_second': 3370.408, 'train_steps_per_second': 17.782, 'train_loss': 0.9781355701793324, 'epoch': 100.0})"
      ]
     },
     "execution_count": 12,
     "metadata": {},
     "output_type": "execute_result"
    }
   ],
   "source": [
    "MODEL_NAME = '/home/abdullah/Code/dl/lt_bert/best_models/1/1_cricket_sentiment'\n",
    "model = BertForSequenceClassification.from_pretrained(\n",
    "    MODEL_NAME, num_labels=3).to('cuda')\n",
    "model.manual_seed = 14\n",
    "\n",
    "for name, param in model.named_parameters():\n",
    "    if 'bert.encoder.layer.0' in name:\n",
    "        # print(name, param.requires_grad)\n",
    "        param.requires_grad = False\n",
    "# print(\"\\n\\n\\n\")\n",
    "# for name, param in model.named_parameters():\n",
    "#     print(name, param.requires_grad)\n",
    "\n",
    "training_args = TrainingArguments(\n",
    "    output_dir=f\"temp\",\n",
    "    num_train_epochs=100,\n",
    "    per_device_train_batch_size=192,\n",
    "    per_device_eval_batch_size=384,\n",
    "    warmup_steps=500,\n",
    "    learning_rate=5e-5,\n",
    "    weight_decay=0.01,\n",
    "    overwrite_output_dir=True,\n",
    "    logging_dir=f\"temp/logs\",\n",
    "    logging_steps=100,\n",
    "    save_steps=100,\n",
    "    load_best_model_at_end=True,\n",
    "    evaluation_strategy=\"steps\",\n",
    "    seed=14,\n",
    "    label_smoothing_factor=0.5,\n",
    ")\n",
    "\n",
    "trainer = Trainer(\n",
    "    model=model,\n",
    "    args=training_args,\n",
    "    train_dataset=train_dataset,\n",
    "    eval_dataset=eval_dataset,\n",
    "    compute_metrics=f1_calculator,\n",
    "\n",
    ")\n",
    "\n",
    "trainer.train()\n",
    "\n",
    "# print(cool.metrics)\n",
    "\n",
    "trainer = Trainer(\n",
    "    model=model,\n",
    "    args=training_args,\n",
    "    train_dataset=train_dataset,\n",
    "    eval_dataset=eval_dataset,\n",
    "    compute_metrics=compute_metrics,\n",
    "\n",
    ")\n",
    "\n",
    "trainer.train()\n"
   ]
  }
 ],
 "metadata": {
  "interpreter": {
   "hash": "30945d60abeb4d30e097bab3ad7b6ead7c1fba264acb4ede644ab6174c0ba9cb"
  },
  "kernelspec": {
   "display_name": "Python 3.8.10 ('venv_499A': venv)",
   "language": "python",
   "name": "python3"
  },
  "language_info": {
   "codemirror_mode": {
    "name": "ipython",
    "version": 3
   },
   "file_extension": ".py",
   "mimetype": "text/x-python",
   "name": "python",
   "nbconvert_exporter": "python",
   "pygments_lexer": "ipython3",
   "version": "3.8.10"
  },
  "orig_nbformat": 4
 },
 "nbformat": 4,
 "nbformat_minor": 2
}
